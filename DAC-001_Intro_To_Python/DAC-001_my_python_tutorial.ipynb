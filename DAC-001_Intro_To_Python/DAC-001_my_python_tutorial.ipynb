{
 "cells": [
  {
   "cell_type": "markdown",
   "metadata": {},
   "source": [
    "question 1: parts a, b and c"
   ]
  },
  {
   "cell_type": "code",
   "execution_count": 9,
   "metadata": {},
   "outputs": [
    {
     "name": "stdout",
     "output_type": "stream",
     "text": [
      "['apple', 'orange', 'banana']\n",
      "['apple', 'orange', 'banana', 'tomato']\n",
      "['orange', 'banana', 'tomato']\n"
     ]
    }
   ],
   "source": [
    "#part a\n",
    "fruitlist = [\"apple\", \"orange\", \"banana\"]\n",
    "print(fruitlist)\n",
    "\n",
    "#part b\n",
    "fruitlist.append(\"tomato\")\n",
    "print(fruitlist)\n",
    "\n",
    "#part c\n",
    "fruitlist.remove(\"apple\")\n",
    "print(fruitlist)"
   ]
  },
  {
   "cell_type": "markdown",
   "metadata": {},
   "source": [
    "question 2: parts a, b, and c"
   ]
  },
  {
   "cell_type": "code",
   "execution_count": 15,
   "metadata": {},
   "outputs": [
    {
     "name": "stdout",
     "output_type": "stream",
     "text": [
      "('physics', 'chemistry', 'english', 'math', 'biology')\n",
      "['physics', 'chemistry', 'english', 'math', 'biology', 'literature']\n"
     ]
    },
    {
     "data": {
      "text/plain": [
       "6"
      ]
     },
     "execution_count": 15,
     "metadata": {},
     "output_type": "execute_result"
    }
   ],
   "source": [
    "#part a\n",
    "subjects = (\"physics\", \"chemistry\", \"english\", \"math\", \"biology\")\n",
    "print(subjects)\n",
    "\n",
    "#part b\n",
    "tuplelist = list(subjects)\n",
    "tuplelist.append(\"literature\")\n",
    "print(tuplelist)\n",
    "\n",
    "#part c\n",
    "len(tuplelist)"
   ]
  },
  {
   "cell_type": "markdown",
   "metadata": {},
   "source": [
    "question 3: parts a, b and c"
   ]
  },
  {
   "cell_type": "code",
   "execution_count": 18,
   "metadata": {},
   "outputs": [
    {
     "name": "stdout",
     "output_type": "stream",
     "text": [
      "[10, 6, 7, 8, 9, 3]\n",
      "[3, 9, 8, 7, 6, 10]\n",
      "[]\n"
     ]
    }
   ],
   "source": [
    "#part a\n",
    "students_id = [10, 6, 7, 8, 9, 3]\n",
    "print(students_id)\n",
    "\n",
    "#part b\n",
    "students_id.reverse()\n",
    "print(students_id)\n",
    "\n",
    "#part c\n",
    "students_id.clear()\n",
    "print(students_id)"
   ]
  },
  {
   "cell_type": "markdown",
   "metadata": {},
   "source": [
    "question 4"
   ]
  },
  {
   "cell_type": "code",
   "execution_count": 36,
   "metadata": {},
   "outputs": [
    {
     "name": "stdout",
     "output_type": "stream",
     "text": [
      "[15, 12, 9, 6, 3]\n"
     ]
    }
   ],
   "source": [
    "desc_list = list(range(15, 0, -3))\n",
    "print(desc_list)"
   ]
  },
  {
   "cell_type": "markdown",
   "metadata": {},
   "source": [
    "question 5"
   ]
  },
  {
   "cell_type": "code",
   "execution_count": 45,
   "metadata": {},
   "outputs": [
    {
     "name": "stdout",
     "output_type": "stream",
     "text": [
      "[2, 4, 6, 8, 10, 12, 14, 16, 18, 20, 22, 24, 26, 28]\n"
     ]
    }
   ],
   "source": [
    "asc_list = [2 * count for count in range(1,15)]\n",
    "print(asc_list)"
   ]
  },
  {
   "cell_type": "markdown",
   "metadata": {},
   "source": [
    "question 6"
   ]
  },
  {
   "cell_type": "code",
   "execution_count": 42,
   "metadata": {},
   "outputs": [
    {
     "name": "stdout",
     "output_type": "stream",
     "text": [
      "[15, 12, 9, 6, 3, 2, 4, 6, 8, 10, 12, 14, 16, 18, 20, 22, 24, 26, 28]\n",
      "[12, 6, 2, 4, 6, 8, 10, 12, 14, 16, 18, 20, 22, 24, 26, 28]\n",
      "[15, 9, 3]\n"
     ]
    }
   ],
   "source": [
    "#combining the lists\n",
    "combined_list = desc_list + asc_list\n",
    "print(combined_list)\n",
    "\n",
    "#separating the lists\n",
    "even_numbers = []\n",
    "odd_numbers = []\n",
    "\n",
    "for num in combined_list:\n",
    "    if num % 2 == 0:\n",
    "        even_numbers.append(num)\n",
    "    else:\n",
    "        odd_numbers.append(num)\n",
    "print(even_numbers)\n",
    "print(odd_numbers)"
   ]
  },
  {
   "cell_type": "markdown",
   "metadata": {},
   "source": [
    "question 7"
   ]
  },
  {
   "cell_type": "code",
   "execution_count": 10,
   "metadata": {},
   "outputs": [
    {
     "name": "stdout",
     "output_type": "stream",
     "text": [
      "radius entered: 6.0, rounded circle area: 113.1,rounded circle circumference: 37.7\n"
     ]
    }
   ],
   "source": [
    "import math\n",
    "radius = float(input(\"enter radius: \"))\n",
    "def circle_properties(radius):\n",
    "    circleArea = round(math.pi * radius ** 2, 2)\n",
    "    circleCircumference = round(math.pi * 2 * radius, 2)\n",
    "    circle_propsVal = \"radius entered: {0}, rounded circle area: {1},rounded circle circumference: {2}\".format(radius,circleArea,circleCircumference)\n",
    "    return(circle_propsVal)\n",
    "circleResult = circle_properties(radius)\n",
    "print(circleResult)\n",
    "\n"
   ]
  },
  {
   "cell_type": "markdown",
   "metadata": {},
   "source": [
    "question 8: define a function that performs a task you find interesting. demonstrate how this function works"
   ]
  },
  {
   "cell_type": "code",
   "execution_count": 9,
   "metadata": {},
   "outputs": [
    {
     "name": "stdout",
     "output_type": "stream",
     "text": [
      "inputted numbers are 5 and 4. 5 plus 4 is 9. 5 minus 4 is 1, 4 minus 5 is -1. 5 times 4 is 20.5 divided by 4 is 1.25, remainder 1. 4 divided by 9 is 0.8, remainder 4\n"
     ]
    }
   ],
   "source": [
    "import math\n",
    "num1 = int(input(\"please input your first non-zero number: \"))\n",
    "num2 = int(input(\"please input your second non-zero number: \"))\n",
    "#decision = input(\"do you want to do basic functions or both basic and advanced? if basic, type 'basic', if advanced, type 'both': \")\n",
    "def basicfunc(num1,num2):\n",
    "    total = num1 + num2\n",
    "    diff1and2 = num1 - num2\n",
    "    diff2and1 = num2 - num1\n",
    "    product = num1 * num2\n",
    "    divide1by2 = num1 / num2\n",
    "    divide2by1 = num2 / num1\n",
    "    mod1by2 = num1 % num2\n",
    "    mod2by1 = num2 % num1\n",
    "    basicmsg = (\"inputted numbers are {0} and {1}. {0} plus {1} is {2}. {0} minus {1} is {3}, {1} minus {0} is {4}. {0} times {1} is {5}.{0} divided by {1} is {6}, remainder {7}. {1} divided by {2} is {8}, remainder {9}\".format(num1,num2,total,diff1and2,diff2and1,product,divide1by2,mod1by2,divide2by1,mod2by1))\n",
    "    return(basicmsg)\n",
    "basicresult = basicfunc(num1,num2)\n",
    "print(basicresult)\n"
   ]
  },
  {
   "cell_type": "markdown",
   "metadata": {},
   "source": [
    "question 9, parts a, b and c"
   ]
  },
  {
   "cell_type": "code",
   "execution_count": 6,
   "metadata": {},
   "outputs": [
    {
     "name": "stdout",
     "output_type": "stream",
     "text": [
      "{'Alice': 85, 'Bob': 90, 'Charlie': 78}\n",
      "{'Alice': 85, 'Bob': 90, 'Charlie': 78, 'David': 92}\n",
      "{'Alice': 88, 'Bob': 90, 'Charlie': 78, 'David': 92}\n"
     ]
    }
   ],
   "source": [
    "#part a: \n",
    "# Create a dictionary named student_grades with the following keys and values: \"Alice\": 85, \"Bob\": 90, and \"Charlie\": 78\n",
    "student_grades = {\n",
    "    \"Alice\":85,\n",
    "    \"Bob\":90,\n",
    "    \"Charlie\":78\n",
    "}\n",
    "print(student_grades)\n",
    "#part b: Add a new student, \"David\", with a grade of 92 to the student_grades dictionary\n",
    "student_grades[\"David\"] = 92\n",
    "print(student_grades)\n",
    "#part c: Update \"Alice\"'s grade to 88.\n",
    "student_grades[\"Alice\"] = 88\n",
    "print(student_grades)"
   ]
  },
  {
   "cell_type": "markdown",
   "metadata": {},
   "source": [
    "question 10"
   ]
  },
  {
   "cell_type": "code",
   "execution_count": 12,
   "metadata": {},
   "outputs": [
    {
     "name": "stdout",
     "output_type": "stream",
     "text": [
      "['apple', 'banana', 'apple', 'orange', 'banana', 'apple']\n",
      "else  apple\n",
      "else  banana\n",
      "okay  apple\n",
      "else  orange\n",
      "okay  banana\n",
      "okay  apple\n",
      "{'apple': 3, 'banana': 2, 'orange': 1}\n",
      "22.5\n"
     ]
    }
   ],
   "source": [
    "fruits_list = [\"apple\", \"banana\", \"apple\", \"orange\", \"banana\", \"apple\"]\n",
    "print(fruits_list)\n",
    "fruits_count = {}\n",
    "\n",
    "for fruit in fruits_list:\n",
    "    if fruit in fruits_count:\n",
    "        fruits_count[fruit] += 1\n",
    "        print(\"okay \", fruit)\n",
    "    else:\n",
    "        fruits_count[fruit] = 1\n",
    "        print(\"else \", fruit)\n",
    "print(fruits_count)\n",
    "print(67.5-45)"
   ]
  },
  {
   "cell_type": "code",
   "execution_count": null,
   "metadata": {},
   "outputs": [],
   "source": []
  }
 ],
 "metadata": {
  "kernelspec": {
   "display_name": "Python 3",
   "language": "python",
   "name": "python3"
  },
  "language_info": {
   "codemirror_mode": {
    "name": "ipython",
    "version": 3
   },
   "file_extension": ".py",
   "mimetype": "text/x-python",
   "name": "python",
   "nbconvert_exporter": "python",
   "pygments_lexer": "ipython3",
   "version": "3.9.6"
  }
 },
 "nbformat": 4,
 "nbformat_minor": 2
}

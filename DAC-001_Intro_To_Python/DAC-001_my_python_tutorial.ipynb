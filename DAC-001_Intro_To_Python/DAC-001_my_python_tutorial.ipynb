{
 "cells": [
  {
   "cell_type": "markdown",
   "metadata": {},
   "source": [
    "question 1: parts a, b and c"
   ]
  },
  {
   "cell_type": "code",
   "execution_count": 9,
   "metadata": {},
   "outputs": [
    {
     "name": "stdout",
     "output_type": "stream",
     "text": [
      "['apple', 'orange', 'banana']\n",
      "['apple', 'orange', 'banana', 'tomato']\n",
      "['orange', 'banana', 'tomato']\n"
     ]
    }
   ],
   "source": [
    "#part a\n",
    "fruitlist = [\"apple\", \"orange\", \"banana\"]\n",
    "print(fruitlist)\n",
    "\n",
    "#part b\n",
    "fruitlist.append(\"tomato\")\n",
    "print(fruitlist)\n",
    "\n",
    "#part c\n",
    "fruitlist.remove(\"apple\")\n",
    "print(fruitlist)"
   ]
  },
  {
   "cell_type": "markdown",
   "metadata": {},
   "source": [
    "question 2: parts a, b, and c"
   ]
  },
  {
   "cell_type": "code",
   "execution_count": 15,
   "metadata": {},
   "outputs": [
    {
     "name": "stdout",
     "output_type": "stream",
     "text": [
      "('physics', 'chemistry', 'english', 'math', 'biology')\n",
      "['physics', 'chemistry', 'english', 'math', 'biology', 'literature']\n"
     ]
    },
    {
     "data": {
      "text/plain": [
       "6"
      ]
     },
     "execution_count": 15,
     "metadata": {},
     "output_type": "execute_result"
    }
   ],
   "source": [
    "#part a\n",
    "subjects = (\"physics\", \"chemistry\", \"english\", \"math\", \"biology\")\n",
    "print(subjects)\n",
    "\n",
    "#part b\n",
    "tuplelist = list(subjects)\n",
    "tuplelist.append(\"literature\")\n",
    "print(tuplelist)\n",
    "\n",
    "#part c\n",
    "len(tuplelist)"
   ]
  },
  {
   "cell_type": "markdown",
   "metadata": {},
   "source": [
    "question 3: parts a, b and c"
   ]
  },
  {
   "cell_type": "code",
   "execution_count": 18,
   "metadata": {},
   "outputs": [
    {
     "name": "stdout",
     "output_type": "stream",
     "text": [
      "[10, 6, 7, 8, 9, 3]\n",
      "[3, 9, 8, 7, 6, 10]\n",
      "[]\n"
     ]
    }
   ],
   "source": [
    "#part a\n",
    "students_id = [10, 6, 7, 8, 9, 3]\n",
    "print(students_id)\n",
    "\n",
    "#part b\n",
    "students_id.reverse()\n",
    "print(students_id)\n",
    "\n",
    "#part c\n",
    "students_id.clear()\n",
    "print(students_id)"
   ]
  },
  {
   "cell_type": "markdown",
   "metadata": {},
   "source": [
    "question 4"
   ]
  },
  {
   "cell_type": "code",
   "execution_count": 36,
   "metadata": {},
   "outputs": [
    {
     "name": "stdout",
     "output_type": "stream",
     "text": [
      "[15, 12, 9, 6, 3]\n"
     ]
    }
   ],
   "source": [
    "desc_list = list(range(15, 0, -3))\n",
    "print(desc_list)"
   ]
  },
  {
   "cell_type": "markdown",
   "metadata": {},
   "source": [
    "question 5"
   ]
  },
  {
   "cell_type": "code",
   "execution_count": 45,
   "metadata": {},
   "outputs": [
    {
     "name": "stdout",
     "output_type": "stream",
     "text": [
      "[2, 4, 6, 8, 10, 12, 14, 16, 18, 20, 22, 24, 26, 28]\n"
     ]
    }
   ],
   "source": [
    "asc_list = [2 * count for count in range(1,15)]\n",
    "print(asc_list)"
   ]
  },
  {
   "cell_type": "markdown",
   "metadata": {},
   "source": [
    "question 6"
   ]
  },
  {
   "cell_type": "code",
   "execution_count": 42,
   "metadata": {},
   "outputs": [
    {
     "name": "stdout",
     "output_type": "stream",
     "text": [
      "[15, 12, 9, 6, 3, 2, 4, 6, 8, 10, 12, 14, 16, 18, 20, 22, 24, 26, 28]\n",
      "[12, 6, 2, 4, 6, 8, 10, 12, 14, 16, 18, 20, 22, 24, 26, 28]\n",
      "[15, 9, 3]\n"
     ]
    }
   ],
   "source": [
    "#combining the lists\n",
    "combined_list = desc_list + asc_list\n",
    "print(combined_list)\n",
    "\n",
    "#separating the lists\n",
    "even_numbers = []\n",
    "odd_numbers = []\n",
    "\n",
    "for num in combined_list:\n",
    "    if num % 2 == 0:\n",
    "        even_numbers.append(num)\n",
    "    else:\n",
    "        odd_numbers.append(num)\n",
    "print(even_numbers)\n",
    "print(odd_numbers)"
   ]
  },
  {
   "cell_type": "markdown",
   "metadata": {},
   "source": [
    "question 7"
   ]
  },
  {
   "cell_type": "code",
   "execution_count": 73,
   "metadata": {},
   "outputs": [
    {
     "name": "stdout",
     "output_type": "stream",
     "text": [
      "radius entered: 7.0, rounded circle area: 153.94,rounded circle circumference: 43.98\n"
     ]
    }
   ],
   "source": [
    "import math\n",
    "radius = float(input(\"enter radius: \"))\n",
    "def circle_properties(radius):\n",
    "    circleArea = round(math.pi * radius ** 2, 2)\n",
    "    circleCircumference = round(math.pi * 2 * radius, 2)\n",
    "    circle_propsVal = \"radius entered: {0}, rounded circle area: {1},rounded circle circumference: {2}\".format(radius,circleArea,circleCircumference)\n",
    "    return(circle_propsVal)\n",
    "circleResult = circle_properties(radius)\n",
    "print(circleResult)\n",
    "\n"
   ]
  },
  {
   "cell_type": "markdown",
   "metadata": {},
   "source": [
    "question 8: define a function that performs a task you find interesting. demonstrate how this function works"
   ]
  },
  {
   "cell_type": "code",
   "execution_count": 84,
   "metadata": {},
   "outputs": [
    {
     "name": "stdout",
     "output_type": "stream",
     "text": [
      "inputted numbers are 12 and 15. 12 plus 15 is 27\n"
     ]
    }
   ],
   "source": [
    "import math\n",
    "num1 = int(input(\"please input your first non-zero number: \"))\n",
    "num2 = int(input(\"please input your second non-zero number: \"))\n",
    "#decision = input(\"do you want to do basic functions or both basic and advanced? if basic, type 'basic', if advanced, type 'both': \")\n",
    "def basicfunc(num1,num2):\n",
    "    total = num1 + num2\n",
    "    #diff1and2 = num1 - num2\n",
    "    #diff2and1 = num2 - num1\n",
    "    #product = num1 * num2\n",
    "    #divide1by2 = num1 / num2\n",
    "    #divide2by1 = num2 / num1\n",
    "    #mod1by2 = num1 % num2\n",
    "    #mod2by1 = num2 % num1\n",
    "    basicmsg = (\"inputted numbers are {0} and {1}. {0} plus {1} is {2}\".format(num1,num2,total))\n",
    "    return(basicmsg)\n",
    "basicresult = basicfunc(num1,num2)\n",
    "print(basicresult)\n"
   ]
  },
  {
   "cell_type": "code",
   "execution_count": 91,
   "metadata": {},
   "outputs": [
    {
     "name": "stdout",
     "output_type": "stream",
     "text": [
      "given numbers are 2 and 3. 2 plus 3 is 5. 2 minus 3 is -1, 3 minus 2 is 1. 2 times 3 is 6. 2 divided by 3 is 0.6666666666666666, remainder 2. 3 divided by 5 is 1.5, remainder 1.\n"
     ]
    }
   ],
   "source": [
    "import math\n",
    "num1 = int(input(\"please input your first non-zero number: \"))\n",
    "num2 = int(input(\"please input your second non-zero number: \"))\n",
    "def basicfunc(num1,num2):\n",
    "    total = num1 + num2\n",
    "    diff1and2 = num1 - num2\n",
    "    diff2and1 = num2 - num1\n",
    "    product = num1 * num2\n",
    "    divide1by2 = num1 / num2\n",
    "    divide2by1 = num2 / num1\n",
    "    mod1by2 = num1 % num2\n",
    "    mod2by1 = num2 % num1\n",
    "    basicmsg = (\"given numbers are {0} and {1}. {0} plus {1} is {2}. {0} minus {1} is {3}, {1} minus {0} is {4}. {0} times {1} is {5}. {0} divided by {1} is {6}, remainder {7}. {1} divided by {2} is {8}, remainder {9}.\".format(num1,num2,total,diff1and2,diff2and1,product,divide1by2,mod1by2,divide2by1,mod2by1))\n",
    "    return(basicmsg)\n",
    "basicresult=basicfunc(num1,num2)\n",
    "print(basicresult)"
   ]
  },
  {
   "cell_type": "code",
   "execution_count": null,
   "metadata": {},
   "outputs": [],
   "source": []
  },
  {
   "cell_type": "markdown",
   "metadata": {},
   "source": [
    "question 9, parts a, b and c"
   ]
  },
  {
   "cell_type": "code",
   "execution_count": 142,
   "metadata": {},
   "outputs": [
    {
     "name": "stdout",
     "output_type": "stream",
     "text": [
      "{'grade': 85, 'roll no.': '001'}\n"
     ]
    },
    {
     "ename": "TypeError",
     "evalue": "cannot convert dictionary update sequence element #0 to a sequence",
     "output_type": "error",
     "traceback": [
      "\u001b[0;31m---------------------------------------------------------------------------\u001b[0m",
      "\u001b[0;31mTypeError\u001b[0m                                 Traceback (most recent call last)",
      "Cell \u001b[0;32mIn[142], line 14\u001b[0m\n\u001b[1;32m     12\u001b[0m alice \u001b[38;5;241m=\u001b[39m {\u001b[38;5;124m\"\u001b[39m\u001b[38;5;124mgrade\u001b[39m\u001b[38;5;124m\"\u001b[39m:\u001b[38;5;241m85\u001b[39m, \u001b[38;5;124m\"\u001b[39m\u001b[38;5;124mroll no.\u001b[39m\u001b[38;5;124m\"\u001b[39m:\u001b[38;5;124m\"\u001b[39m\u001b[38;5;124m001\u001b[39m\u001b[38;5;124m\"\u001b[39m}\n\u001b[1;32m     13\u001b[0m \u001b[38;5;28mprint\u001b[39m(alice)\n\u001b[0;32m---> 14\u001b[0m \u001b[43malice\u001b[49m\u001b[38;5;241;43m.\u001b[39;49m\u001b[43mupdate\u001b[49m\u001b[43m(\u001b[49m\u001b[43m{\u001b[49m\u001b[38;5;124;43m\"\u001b[39;49m\u001b[38;5;124;43mage\u001b[39;49m\u001b[38;5;124;43m\"\u001b[39;49m\u001b[38;5;241;43m==\u001b[39;49m\u001b[38;5;124;43m\"\u001b[39;49m\u001b[38;5;124;43m19\u001b[39;49m\u001b[38;5;124;43m\"\u001b[39;49m\u001b[43m}\u001b[49m\u001b[43m)\u001b[49m\n\u001b[1;32m     15\u001b[0m \u001b[38;5;28mprint\u001b[39m(alice)\n",
      "\u001b[0;31mTypeError\u001b[0m: cannot convert dictionary update sequence element #0 to a sequence"
     ]
    }
   ],
   "source": [
    "#part a: Create a dictionary named student_grades with the following keys and values: \"Alice\": 85, \"Bob\": 90, and \"Charlie\": 78\n",
    "student_grades = {\n",
    "    '001':{\"Name\":\"Alice\", \"Grade\":85},\n",
    "    '002':{\"Name\":\"Bob\", \"Grade\":90},\n",
    "    '003':{\"Name\":\"Charlie\", \"Grade\":78}\n",
    "}\n",
    "\n",
    "#partb: Add a new student, \"David\", with a grade of 92 to the student_grades dictionary\n",
    "student_grades[\"Name\"] = \"David\"\n",
    "student_grades[\"Grade\"] = 92\n",
    "\n",
    "alice = {\"grade\":85, \"roll no.\":\"001\"}\n",
    "print(alice)\n",
    "alice[]\n",
    "print(alice)"
   ]
  },
  {
   "cell_type": "code",
   "execution_count": 120,
   "metadata": {},
   "outputs": [
    {
     "name": "stdout",
     "output_type": "stream",
     "text": [
      "['Name', 'Grade']\n",
      "dict_items([('001', {'Name': 'Alice', 'Grade': 85}), ('002', {'Name': 'Bob', 'Grade': 90}), ('003', {'Name': 'Charlie', 'Grade': 78})])\n"
     ]
    }
   ],
   "source": [
    "student_grades1 = {\n",
    "    '001':{\"Name\":\"Alice\", \"Grade\":85},\n",
    "    '002':{\"Name\":\"Bob\", \"Grade\":90},\n",
    "    '003':{\"Name\":\"Charlie\", \"Grade\":78}\n",
    "}\n",
    "studentlist = list(student_grades[\"001\"])\n",
    "print(studentlist)\n",
    "print(student_grades.items())"
   ]
  },
  {
   "cell_type": "markdown",
   "metadata": {},
   "source": [
    "question 10"
   ]
  },
  {
   "cell_type": "code",
   "execution_count": 112,
   "metadata": {},
   "outputs": [
    {
     "name": "stdout",
     "output_type": "stream",
     "text": [
      "['apple', 'banana', 'apple', 'orange', 'banana', 'apple']\n",
      "else  apple\n",
      "else  banana\n",
      "okay  apple\n",
      "else  orange\n",
      "okay  banana\n",
      "okay  apple\n",
      "{'apple': 3, 'banana': 2, 'orange': 1}\n"
     ]
    }
   ],
   "source": [
    "fruits_list = [\"apple\", \"banana\", \"apple\", \"orange\", \"banana\", \"apple\"]\n",
    "print(fruits_list)\n",
    "fruits_count = {}\n",
    "\n",
    "for fruit in fruits_list:\n",
    "    if fruit in fruits_count:\n",
    "        fruits_count[fruit] += 1\n",
    "        print(\"okay \", fruit)\n",
    "    else:\n",
    "        fruits_count[fruit] = 1\n",
    "        print(\"else \", fruit)\n",
    "print(fruits_count)"
   ]
  },
  {
   "cell_type": "code",
   "execution_count": null,
   "metadata": {},
   "outputs": [],
   "source": []
  }
 ],
 "metadata": {
  "kernelspec": {
   "display_name": "Python 3",
   "language": "python",
   "name": "python3"
  },
  "language_info": {
   "codemirror_mode": {
    "name": "ipython",
    "version": 3
   },
   "file_extension": ".py",
   "mimetype": "text/x-python",
   "name": "python",
   "nbconvert_exporter": "python",
   "pygments_lexer": "ipython3",
   "version": "3.9.6"
  }
 },
 "nbformat": 4,
 "nbformat_minor": 2
}

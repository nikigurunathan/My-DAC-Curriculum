{
  "cells": [
    {
      "cell_type": "markdown",
      "metadata": {
        "id": "XB1Co0jipXyX"
      },
      "source": [
        "# DACademy Session 1: Basic GitHub + Intro to Python\n"
      ]
    },
    {
      "cell_type": "markdown",
      "metadata": {
        "id": "kdzTsQtK0YPu"
      },
      "source": [
        "## Comments and Print Statements:"
      ]
    },
    {
      "cell_type": "code",
      "execution_count": 1,
      "metadata": {
        "colab": {
          "base_uri": "https://localhost:8080/",
          "height": 35
        },
        "id": "v-2yQ1QS0YPu",
        "outputId": "bb68f5c7-7d01-4acf-950d-d3e910fdc4db"
      },
      "outputs": [
        {
          "name": "stdout",
          "output_type": "stream",
          "text": [
            "hello world\n"
          ]
        }
      ],
      "source": [
        "# Welcome to DAC!\n",
        "# Single-line comments use the hash symbol\n",
        "# Comments are useful for explaining code or for temporary debugging\n",
        "\n",
        "\"\"\"\n",
        "Multi-line comments are created using triple quotes\n",
        "They can span multiple lines and are often used for detailed explanations or documentation.\n",
        "Hi hi hi hi hi\n",
        "\"\"\"\n",
        "\n",
        "# The print() function is used to display output\n",
        "print(\"hello world\")\n"
      ]
    },
    {
      "cell_type": "markdown",
      "metadata": {
        "id": "8Cy9F5sHZ4-B"
      },
      "source": [
        "**Keyboard Shortcuts to Run Code**\n",
        "\n",
        "\n",
        "*   Mac: Command (⌘) + Enter\n",
        "*   Windows: Ctrl + Enter\n"
      ]
    },
    {
      "cell_type": "code",
      "execution_count": 39,
      "metadata": {
        "id": "0Iyg-UKUZsLy"
      },
      "outputs": [
        {
          "name": "stdout",
          "output_type": "stream",
          "text": [
            "niks\n"
          ]
        }
      ],
      "source": [
        "# Now try printing your name!\n",
        "print(\"niks\")\n"
      ]
    },
    {
      "cell_type": "markdown",
      "metadata": {
        "id": "xyKWUB-Q0YPv"
      },
      "source": [
        "## Basic Arithmetic Operations and Data Types"
      ]
    },
    {
      "cell_type": "code",
      "execution_count": 104,
      "metadata": {
        "id": "dvXP5FTPdLFk"
      },
      "outputs": [
        {
          "name": "stdout",
          "output_type": "stream",
          "text": [
            "11\n",
            "5.32\n",
            "5\n",
            "24\n",
            "2.6666666666666665\n",
            "2\n",
            "512\n"
          ]
        }
      ],
      "source": [
        "# Arithmetic Operators: + - * / % **\n",
        "\n",
        "# Addition +\n",
        "print(8 + 3)\n",
        "print(3.14 + 2.18)\n",
        "# Subtraction -\n",
        "print(8 - 3)\n",
        "# Multiplication *\n",
        "print(8 * 3)\n",
        "# Division /\n",
        "print(8 / 3)\n",
        "# Modulo % (Gives the remainder of division, e.g., 8 % 3 = 2)\n",
        "print(8 % 3)\n",
        "# Exponential **\n",
        "print(8 ** 3)"
      ]
    },
    {
      "cell_type": "code",
      "execution_count": 15,
      "metadata": {
        "colab": {
          "base_uri": "https://localhost:8080/"
        },
        "id": "8dNEkPQ30YPw",
        "outputId": "88851191-2cf0-4a89-8463-f66016be0cd9"
      },
      "outputs": [
        {
          "name": "stdout",
          "output_type": "stream",
          "text": [
            "this message is a string ^_^\n",
            "!@#$%jkwewuorweprh6546846515648646546\n",
            "10\n",
            "4294967296\n",
            "3.14\n",
            "(2+3j)\n"
          ]
        }
      ],
      "source": [
        "# Text inside quotes is known as a string\n",
        "# Can use either \"\" or '', both work the same\n",
        "print(\"this message is a string ^_^\")\n",
        "# This is to show you that the string can contain any special characters\n",
        "print(\"!@#$%jkwewuorweprh6546846515648646546\")\n",
        "\n",
        "# Integers are whole numbers\n",
        "print(10)\n",
        "# Long Integers (Python automatically handles big integers)\n",
        "print(2 ** 32)\n",
        "# Floats represent decimal numbers\n",
        "print(3.14)\n",
        "# Complex Numbers use 'j' to represent the imaginary part\n",
        "print(2 + 3j)"
      ]
    },
    {
      "cell_type": "markdown",
      "metadata": {
        "id": "DmJBgrZy0YPw"
      },
      "source": [
        "## Boolean\n",
        "*   Booleans represent one of two values: True or False.\n",
        "\n"
      ]
    },
    {
      "cell_type": "code",
      "execution_count": 17,
      "metadata": {
        "id": "tUXDV62x0YPw"
      },
      "outputs": [
        {
          "name": "stdout",
          "output_type": "stream",
          "text": [
            "False\n"
          ]
        }
      ],
      "source": [
        "a = 5\n",
        "b = 10 % 3\n",
        "c = bool(a == b)\n",
        "print(c)\n",
        "  # Modulus operation gives the remainder of 10 divided by 3 (which is 1)\n",
        "  # bool() converts the result of the comparison to True or False\n",
        "  # This will print False since 5 is not equal to 1"
      ]
    },
    {
      "cell_type": "code",
      "execution_count": 20,
      "metadata": {
        "id": "rMT50ucpfk8k"
      },
      "outputs": [
        {
          "name": "stdout",
          "output_type": "stream",
          "text": [
            "True\n",
            "False\n",
            "True\n",
            "True\n",
            "True\n",
            "False\n",
            "False\n"
          ]
        }
      ],
      "source": [
        "# Equals ==\n",
        "print(5 == 5)\n",
        "print(5 == 4)\n",
        "# Inqual !=\n",
        "print(5 != 6)\n",
        "# More than >\n",
        "print(5 > 4)\n",
        "# More than and equal to >=\n",
        "print (6 >= 4)\n",
        "# Less than <\n",
        "print(6 < 4)\n",
        "# Less than and equal to <=\n",
        "print(6 <= 4)"
      ]
    },
    {
      "cell_type": "code",
      "execution_count": 28,
      "metadata": {
        "id": "DuSwiBLf4FbJ"
      },
      "outputs": [
        {
          "name": "stdout",
          "output_type": "stream",
          "text": [
            "<class 'bool'>\n",
            "<class 'str'>\n",
            "<class 'int'>\n"
          ]
        }
      ],
      "source": [
        "# Using Boolean to find the Data Type of a Variable\n",
        "# Use type() to find the data type of a value or variable\n",
        "a = True\n",
        "print(type(a))\n",
        " # A Boolean value can be either True or False.\n",
        " # This checks the type of 'a' and will return <class 'bool'>\n",
        "b = \"skibiditoilet\"\n",
        "print(type(b))\n",
        "# Checking the type of a string\n",
        "  # This will return <class 'str'>, indicating it's a string.\n",
        "c = 469021\n",
        "print(type(c))\n",
        "# Checking the type of an integer\n",
        "  # This will return <class 'int'>, indicating it's an integer."
      ]
    },
    {
      "cell_type": "markdown",
      "metadata": {
        "id": "UHZRrqmecVhV"
      },
      "source": [
        "## Converting Data types"
      ]
    },
    {
      "cell_type": "code",
      "execution_count": 37,
      "metadata": {
        "id": "lRjGQ9i_cQsH"
      },
      "outputs": [
        {
          "name": "stdout",
          "output_type": "stream",
          "text": [
            "6\n",
            "3.0\n",
            "<class 'str'>\n",
            "True\n",
            "False\n",
            "3.142\n",
            "5\n"
          ]
        }
      ],
      "source": [
        "# Convert a float to an integer\n",
        "  # Output: 6\n",
        "print(int(6.555555555))\n",
        "# Convert an integer to a float\n",
        "  # Output: 3.0\n",
        "print(float(3))\n",
        "# Convert an integer to a string and print its type\n",
        "  # Output: <class 'str'>\n",
        "print(type(str(469021)))\n",
        "# Convert a non-zero integer to a boolean\n",
        "  # Output: True (Any non-zero value is considered True)\n",
        "print(bool(5))\n",
        "print(bool(0))\n",
        "# Note on variable naming:\n",
        "# It's best to avoid using function names as variable names to prevent confusion.\n",
        "  # Use descriptive names for clarity\n",
        "decimal_value = 3.142\n",
        "print(decimal_value)\n",
        "\n",
        "  # Keep the variable name clear and relevant\n",
        "number = 5\n",
        "print(number)"
      ]
    },
    {
      "cell_type": "markdown",
      "metadata": {
        "id": "ixpdw3X90YPx"
      },
      "source": [
        "## Sequence Types: Strings, Lists, and Tuples"
      ]
    },
    {
      "cell_type": "markdown",
      "metadata": {
        "id": "FS4VoI660YPx"
      },
      "source": [
        "### Working with Strings"
      ]
    },
    {
      "cell_type": "code",
      "execution_count": 54,
      "metadata": {
        "id": "cVENYK1E0YPx"
      },
      "outputs": [
        {
          "name": "stdout",
          "output_type": "stream",
          "text": [
            "first name: nikita\n",
            "last name: gurunathan\n",
            "full name: nikita gurunathan\n",
            "full name: nikita gurunathan\n",
            "full name: albus percival wolfric brian dumbledore\n"
          ]
        }
      ],
      "source": [
        "# Creating strings\n",
        "name = \"nikita\"\n",
        "print(\"first name: \" + name)\n",
        "# Combining strings\n",
        "last_name = \"gurunathan\"\n",
        "print(\"last name: \" + last_name)\n",
        "print (\"full name: \" + name + \" \" + last_name)\n",
        "  # Remember to include spaces within the quotes; otherwise, the result will be \"JunYo\" instead of \"Jun Yo\".\n",
        "\n",
        "# Alternative Method for String Formatting\n",
        "  # The numbers {0} and {1} correspond to the respective order of the variables: Jun = 0, Yo = 1.\n",
        "print(\"full name: {0} {1}\".format(name, last_name))\n",
        "\n",
        "name1 = \"albus\"\n",
        "name2 = \"percival\"\n",
        "name3 = \"wolfric\"\n",
        "name4 = \"brian\"\n",
        "name5 = \"dumbledore\"\n",
        "print(\"full name: {0} {1} {2} {3} {4}\".format(name1, name2, name3, name4, name5))\n",
        "\n"
      ]
    },
    {
      "cell_type": "markdown",
      "metadata": {
        "id": "Do3QkLBS0YPy"
      },
      "source": [
        "### Working with Lists\n",
        "\n",
        "*   [ ]\n",
        "*   It is used to store multiple items in a single variable\n",
        "\n"
      ]
    },
    {
      "cell_type": "markdown",
      "metadata": {
        "id": "UJljv0JyI3MJ"
      },
      "source": [
        "Just some things to note\n",
        "\n",
        "(Example)\n",
        "In the list: list4 = [3, 1, 4, 1, 5]\n",
        "\n",
        "*   **list4** is the **variable** that stores the list.\n",
        "*   **3, 1, 4, 1, 5** are the **elements** in the list.\n",
        "*   **Indexes** represent the **position** of each element, **starting from 0:**\n",
        "     *   '3' is at index 0\n",
        "     *   '1' is at index 1\n",
        "     *   '4' is at index 2\n",
        "     *   '1' is at index 3\n",
        "     *   '5' is at index 4\n",
        "\n",
        "\n",
        "\n",
        "\n",
        "\n",
        "\n",
        "\n",
        "\n",
        "\n",
        "\n",
        "\n",
        "\n",
        "\n",
        "\n"
      ]
    },
    {
      "cell_type": "code",
      "execution_count": 57,
      "metadata": {
        "id": "g8SngCyXoqGt"
      },
      "outputs": [
        {
          "name": "stdout",
          "output_type": "stream",
          "text": [
            "[]\n",
            "[True, 'Monday', 134, 3.14]\n"
          ]
        }
      ],
      "source": [
        " # Empty list\n",
        "list1 = []\n",
        "print(list1)\n",
        "mixedlist = [True, \"Monday\", 134, 3.14]\n",
        "print(mixedlist)\n",
        "\n",
        "\n",
        " # List with different data types\n"
      ]
    },
    {
      "cell_type": "code",
      "execution_count": 64,
      "metadata": {
        "colab": {
          "base_uri": "https://localhost:8080/",
          "height": 70
        },
        "id": "WgtIoTQapNJC",
        "outputId": "2b171962-0c64-4b77-e183-8e2771ebf33a"
      },
      "outputs": [
        {
          "name": "stdout",
          "output_type": "stream",
          "text": [
            "[1, 'yay']\n",
            "[True, 'Monday', 134, 3.14, 'yay', 'yay', 'yay', 'yay']\n"
          ]
        },
        {
          "data": {
            "text/plain": [
              "'\\nNote on the append() method:\\n\\nThe append() method adds the element to the end of the list each time it is executed.\\nCalling append() multiple times (i.e., running this code again) will continue to add the elements to the existing list, rather than starting over.\\n(So, the same element will be added twice if you run the code twice, three times if you run it three times, and so on.)\\nTo reset the list, you can reinitialize it (rerun the code from the beginning).\\n'"
            ]
          },
          "execution_count": 64,
          "metadata": {},
          "output_type": "execute_result"
        }
      ],
      "source": [
        "# Adding elements to a list using the above variables\n",
        "list2 = []\n",
        "list2.append(1)\n",
        "list2.append(\"yay\")\n",
        "print(list2)\n",
        "mixedlist.append(\"yay\")\n",
        "print(mixedlist)\n",
        "  # Adding an integer to the list\n",
        "  # Adding a string to the list\n",
        "  # Output: [1, \"AHH\"]\n",
        "\n",
        "  # Adding a string to the mixed list\n",
        "  # Output: [True, 'Slay', 173, 3.14, 'AHH']\n",
        "\n",
        "\"\"\"\n",
        "Note on the append() method:\n",
        "\n",
        "The append() method adds the element to the end of the list each time it is executed.\n",
        "Calling append() multiple times (i.e., running this code again) will continue to add the elements to the existing list, rather than starting over.\n",
        "(So, the same element will be added twice if you run the code twice, three times if you run it three times, and so on.)\n",
        "To reset the list, you can reinitialize it (rerun the code from the beginning).\n",
        "\"\"\""
      ]
    },
    {
      "cell_type": "code",
      "execution_count": 65,
      "metadata": {
        "id": "EhMqwM-w0YPy"
      },
      "outputs": [
        {
          "name": "stdout",
          "output_type": "stream",
          "text": [
            "[50, 1, 'yay']\n"
          ]
        }
      ],
      "source": [
        "# Inserting elements into a list at a specific position\n",
        "# Syntax: list_.insert(position, item)\n",
        "list2.insert(0, 50)\n",
        "print(list2)\n",
        "  # Insert the number 50 at the 0th index (1st number is the position, 2nd is the element to add)\n",
        "  # Output will show 50 at the start of the list"
      ]
    },
    {
      "cell_type": "code",
      "execution_count": 66,
      "metadata": {
        "id": "NYr5u52Rwy6h"
      },
      "outputs": [
        {
          "name": "stdout",
          "output_type": "stream",
          "text": [
            "[1, 'yay']\n"
          ]
        }
      ],
      "source": [
        "# Deleting elements from a list\n",
        "del list2[0]\n",
        "print(list2)\n",
        "# Using `del` to delete by index\n",
        "  # Deletes the element at index 0 (1st element in the list)\n",
        "  # Output: List with the 1st element removed"
      ]
    },
    {
      "cell_type": "code",
      "execution_count": 67,
      "metadata": {
        "id": "Q05F_xXdFdpx"
      },
      "outputs": [
        {
          "name": "stdout",
          "output_type": "stream",
          "text": [
            "[1]\n"
          ]
        }
      ],
      "source": [
        "# Alternative Method for Deleting elements from a list\n",
        "list2.remove(\"yay\")\n",
        "print(list2)\n",
        "# Using `remove()` to delete by value\n",
        "  # Removes the first occurrence of the value 50 from the list\n",
        "  # Output: List without the first 50"
      ]
    },
    {
      "cell_type": "code",
      "execution_count": 71,
      "metadata": {
        "id": "Qxd8-H6oG0a0"
      },
      "outputs": [
        {
          "name": "stdout",
          "output_type": "stream",
          "text": [
            "0\n",
            "1\n",
            "1\n"
          ]
        }
      ],
      "source": [
        "# List Indexing\n",
        "list4 = [3, 1, 4, 1, 5]\n",
        "index_list4 = list4.index(3)\n",
        "print(index_list4)\n",
        "index_list4 = list4.index(1)\n",
        "print(index_list4)\n",
        "index_list4 = list4.index(1)\n",
        "print(index_list4)\n",
        "  # Finds the index position of the element '3' in the list\n",
        "  # Output: 0 (since '3' is at the 0th index)"
      ]
    },
    {
      "cell_type": "code",
      "execution_count": 74,
      "metadata": {
        "id": "JTsF0nfmSINs"
      },
      "outputs": [
        {
          "name": "stdout",
          "output_type": "stream",
          "text": [
            "1\n",
            "5\n",
            "minimum value:  1\n",
            "maximum value:  5\n"
          ]
        }
      ],
      "source": [
        "# Finding minimum and maximum values in a list\n",
        "  # Use the min() function to find the smallest element in list4\n",
        "  # Use the max() function to find the largest element in list4\n",
        "min_list4 = min(list4)\n",
        "max_list4 = max(list4)\n",
        "print(min_list4)\n",
        "print(max_list4)\n",
        "\n",
        "\n",
        "# With labels\n",
        "  # Output the minimum value\n",
        "print(\"minimum value: \", min_list4)\n",
        "print(\"maximum value: \", max_list4)\n",
        "  # Output the maximum value"
      ]
    },
    {
      "cell_type": "code",
      "execution_count": 75,
      "metadata": {
        "id": "vc5SVEzvBK33"
      },
      "outputs": [
        {
          "name": "stdout",
          "output_type": "stream",
          "text": [
            "[1, 2, 3, 4, 5, 6, 9]\n"
          ]
        }
      ],
      "source": [
        "listNum = [4,2,1,3,6,5,9]\n",
        "sorted_listNumList = sorted(listNum)\n",
        "print(sorted_listNumList)\n",
        "\n",
        " # Use the sorted() function to sort the list\n",
        " # Output the sorted list"
      ]
    },
    {
      "cell_type": "code",
      "execution_count": 76,
      "metadata": {
        "id": "dI6AzeKIBrvB"
      },
      "outputs": [
        {
          "name": "stdout",
          "output_type": "stream",
          "text": [
            "[9, 6, 5, 4, 3, 2, 1]\n"
          ]
        }
      ],
      "source": [
        "listNum2 = [1,2,3,4,5,6,9]\n",
        "listNum2.reverse()\n",
        "print(listNum2) \n",
        " # Reverse listNum2\n",
        " # Otput the reversed list"
      ]
    },
    {
      "cell_type": "code",
      "execution_count": 77,
      "metadata": {
        "id": "zlonSikNCFQj"
      },
      "outputs": [
        {
          "name": "stdout",
          "output_type": "stream",
          "text": [
            "[]\n"
          ]
        }
      ],
      "source": [
        "listNum2 = [1,2,3,4,5,6,9]\n",
        "listNum2.clear()\n",
        "print(listNum2)\n",
        " # Clear all elements from the list\n",
        " # Print the cleared list"
      ]
    },
    {
      "cell_type": "code",
      "execution_count": 79,
      "metadata": {
        "id": "ZLm22sE7CJ_t"
      },
      "outputs": [
        {
          "name": "stdout",
          "output_type": "stream",
          "text": [
            "['M', 'A', 'Y', 1, 2, 3]\n"
          ]
        }
      ],
      "source": [
        "list5 = [\"M\",\"A\",\"Y\"]\n",
        "list6 = [1,2,3]\n",
        "listAdded = list5 + list6\n",
        "print(listAdded)\n",
        "\n",
        " # Add the two lists together\n",
        " # Output the added list"
      ]
    },
    {
      "cell_type": "code",
      "execution_count": 80,
      "metadata": {
        "id": "u3FYS3JZCgkc"
      },
      "outputs": [
        {
          "name": "stdout",
          "output_type": "stream",
          "text": [
            "['niks', 'dhanush', 'vhinu', 'niks', 'dhanush', 'vhinu']\n"
          ]
        }
      ],
      "source": [
        "listNames = [\"niks\",\"dhanush\",\"vhinu\"]\n",
        "listMultiplied = listNames * 2\n",
        "print(listMultiplied)\n",
        " # Multiply the list by 2\n",
        " # Output the multiplied list"
      ]
    },
    {
      "cell_type": "markdown",
      "metadata": {
        "id": "_YLFb-WGDCs8"
      },
      "source": [
        "### Working with Tuples\n",
        "- Immutable\n",
        "- It is a ordered sequence of values"
      ]
    },
    {
      "cell_type": "code",
      "execution_count": 88,
      "metadata": {
        "id": "kwrmo-XJ0YPy"
      },
      "outputs": [
        {
          "name": "stdout",
          "output_type": "stream",
          "text": [
            "('jazz', 'tap')\n"
          ]
        },
        {
          "data": {
            "text/plain": [
              "tuple"
            ]
          },
          "execution_count": 88,
          "metadata": {},
          "output_type": "execute_result"
        }
      ],
      "source": [
        "dance = (\"jazz\",\"tap\")\n",
        "print(dance)\n",
        "type(dance)\n",
        " # Check the type of the 'parents' variable"
      ]
    },
    {
      "cell_type": "code",
      "execution_count": 83,
      "metadata": {
        "id": "K_PTgd_aEKEI"
      },
      "outputs": [
        {
          "name": "stdout",
          "output_type": "stream",
          "text": [
            "['jazz', 'tap']\n"
          ]
        },
        {
          "data": {
            "text/plain": [
              "list"
            ]
          },
          "execution_count": 83,
          "metadata": {},
          "output_type": "execute_result"
        }
      ],
      "source": [
        "tuplelist = list(dance)\n",
        "print(tuplelist)\n",
        "type(tuplelist)\n",
        " # Output the list\n",
        " # Check the type of 'tuplelist'"
      ]
    },
    {
      "cell_type": "code",
      "execution_count": 86,
      "metadata": {
        "id": "MLliO46RElXM"
      },
      "outputs": [
        {
          "name": "stdout",
          "output_type": "stream",
          "text": [
            "['jazz', 'tap', 'ballet', 'ballet', 'hip hop', 'salsa']\n"
          ]
        }
      ],
      "source": [
        "tuplelist.append(\"ballet\")\n",
        "tuplelist.append(\"hip hop\")\n",
        "tuplelist.append(\"salsa\")\n",
        "print(tuplelist) \n",
        "# Add new line to the list 'tuplelist'\n",
        " # Output the updated list"
      ]
    },
    {
      "cell_type": "code",
      "execution_count": 87,
      "metadata": {
        "id": "32Wg2x89GuXA"
      },
      "outputs": [
        {
          "name": "stdout",
          "output_type": "stream",
          "text": [
            "('jazz', 'tap', 'ballet', 'ballet', 'hip hop', 'salsa')\n"
          ]
        }
      ],
      "source": [
        " # Convert the list 'tuplelist' back to a tuple\n",
        " # Check the value of the new tuple\n",
        "new_tuple = tuple(tuplelist)\n",
        "print(new_tuple)"
      ]
    },
    {
      "cell_type": "code",
      "execution_count": 89,
      "metadata": {
        "id": "SS3bxGkbG-vl"
      },
      "outputs": [
        {
          "name": "stdout",
          "output_type": "stream",
          "text": [
            "6\n"
          ]
        }
      ],
      "source": [
        " # Get the length of the list 'tuplelist'\n",
        " # Output of the length\n",
        "length_of_tuplelist = len(tuplelist)\n",
        "print(length_of_tuplelist)"
      ]
    },
    {
      "cell_type": "markdown",
      "metadata": {
        "id": "ZCXp6Jhg0YPy"
      },
      "source": [
        "## Working with Sets\n",
        "\n",
        "{ }\n",
        "- It is an unordered collection with no duplicate elements\n",
        "- Computer implementation of the mathematical concept of a finite set\n",
        "- Mutable"
      ]
    },
    {
      "cell_type": "code",
      "execution_count": 90,
      "metadata": {
        "id": "B5vdCq3P0YPy"
      },
      "outputs": [
        {
          "name": "stdout",
          "output_type": "stream",
          "text": [
            "{'dog', 'cat', 'hamster'}\n"
          ]
        }
      ],
      "source": [
        "x = {\"dog\",\"cat\",\"hamster\"}\n",
        "print(x)\n",
        " # Output of the set"
      ]
    },
    {
      "cell_type": "code",
      "execution_count": 91,
      "metadata": {
        "id": "VgrBbY_1HrNx"
      },
      "outputs": [
        {
          "name": "stdout",
          "output_type": "stream",
          "text": [
            "{'dog', 'cat', 'hamster', 'rabbit'}\n"
          ]
        }
      ],
      "source": [
        " # Add an element to the set\n",
        " # Output of the updated set\n",
        "x.add(\"rabbit\")\n",
        "print(x)"
      ]
    },
    {
      "cell_type": "code",
      "execution_count": 92,
      "metadata": {
        "id": "MbMyt-oQH80_"
      },
      "outputs": [
        {
          "name": "stdout",
          "output_type": "stream",
          "text": [
            "{'dog', 'cat', 'rabbit'}\n"
          ]
        }
      ],
      "source": [
        " # Remove an element from the set\n",
        " # Output of the updated set\n",
        "x.remove(\"hamster\")\n",
        "print(x)"
      ]
    },
    {
      "cell_type": "code",
      "execution_count": 93,
      "metadata": {
        "id": "Z6V43JC2IaLt"
      },
      "outputs": [
        {
          "name": "stdout",
          "output_type": "stream",
          "text": [
            "{True, 3.14, 3, 8, 'hello', 469021}\n"
          ]
        }
      ],
      "source": [
        "z = {(469021),8,3, \"hello\",3.14,True}\n",
        "print(z)\n",
        " # Output of the set"
      ]
    },
    {
      "cell_type": "code",
      "execution_count": 103,
      "metadata": {
        "id": "sdYsD2okI5cZ"
      },
      "outputs": [
        {
          "name": "stdout",
          "output_type": "stream",
          "text": [
            "[1, 2, 3, 4, 5, 7, 4]\n",
            "{1, 2, 3, 4, 5, 7}\n",
            "<class 'set'>\n"
          ]
        }
      ],
      "source": [
        "r = [1,2,3,4,5,7,4]\n",
        "print(r)\n",
        "r_set = set(r)\n",
        "print(r_set)\n",
        "type_of_r = type(r_set)\n",
        "print(type_of_r)\n",
        " # Output of the original list\n",
        "\n",
        " # Convert the list to a set (to remove duplicates)\n",
        " # Output of the converted set\n",
        "\n",
        " # Check the data type of r_set\n",
        " # Output of the converted set"
      ]
    }
  ],
  "metadata": {
    "colab": {
      "collapsed_sections": [
        "FS4VoI660YPx"
      ],
      "provenance": []
    },
    "kernelspec": {
      "display_name": "Python 3",
      "language": "python",
      "name": "python3"
    },
    "language_info": {
      "codemirror_mode": {
        "name": "ipython",
        "version": 3
      },
      "file_extension": ".py",
      "mimetype": "text/x-python",
      "name": "python",
      "nbconvert_exporter": "python",
      "pygments_lexer": "ipython3",
      "version": "3.9.6"
    }
  },
  "nbformat": 4,
  "nbformat_minor": 0
}

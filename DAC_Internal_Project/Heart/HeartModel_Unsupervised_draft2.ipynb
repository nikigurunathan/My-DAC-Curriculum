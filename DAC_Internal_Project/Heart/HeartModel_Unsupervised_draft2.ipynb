{
 "cells": [
  {
   "cell_type": "markdown",
   "metadata": {},
   "source": [
    "##### 1. data cleaning, pre-model configuration and uploading to a new csv"
   ]
  },
  {
   "cell_type": "code",
   "execution_count": 24,
   "metadata": {},
   "outputs": [],
   "source": [
    "# 1.1 importing libraries\n",
    "import pandas as pd\n",
    "import numpy as np\n",
    "import seaborn as sns\n",
    "import matplotlib.pyplot as plt"
   ]
  },
  {
   "cell_type": "code",
   "execution_count": 25,
   "metadata": {},
   "outputs": [],
   "source": [
    "# 1.2 reading the csv into a dataframe df_original\n",
    "df_original = pd.read_csv('/Users/nikgurunathan/Desktop/csv_heart/Heart.csv')"
   ]
  },
  {
   "cell_type": "code",
   "execution_count": 26,
   "metadata": {},
   "outputs": [
    {
     "name": "stdout",
     "output_type": "stream",
     "text": [
      "(444975, 40)\n"
     ]
    }
   ],
   "source": [
    "# 1.3 removing duplicates\n",
    "df_original = df_original.drop_duplicates()\n",
    "print(df_original.shape)"
   ]
  },
  {
   "cell_type": "code",
   "execution_count": 27,
   "metadata": {},
   "outputs": [
    {
     "name": "stdout",
     "output_type": "stream",
     "text": [
      "Invalid BMI entries: 80\n",
      "Invalid SleepHours entries: 0\n",
      "Suspicious SleepHours entries to check again: 2773\n",
      "Number of logical inconsistencies in AgeCategory (age 65+ but no major health conditions): 0\n",
      "Number of logical inconsistencies in SmokerStatus (current or former smoker but no major related health conditions): 0\n",
      "Number of logical inconsistencies in DifficultyWalking (difficulty walking but no related difficulties): 0\n",
      "Number of logical inconsistencies in COPD (COPD but no difficulties with daily activities): 0\n",
      "Number of logical inconsistencies in Heart Attack (Heart Attack but no related conditions reported): 0\n",
      "Number of logical inconsistencies in SleepHours (abnormal sleep but no related health conditions): 4\n",
      "Number of logical inconsistencies in PhysicalHealthDays (0 health days but activity limitations): 14233\n"
     ]
    }
   ],
   "source": [
    "# 1.4 logic checks\n",
    "invalid_bmi = df_original[(df_original['BMI'] < 10) | (df_original['BMI'] > 80)] # bmi typically ranges from 10 to 50\n",
    "invalid_sleep = df_original[(df_original['SleepHours'] < 0) | (df_original['SleepHours'] > 24)] # sleep hours must be between 0-24\n",
    "suspicious_sleep_values = df_original[(df_original['SleepHours'] < 3) | (df_original['SleepHours'] > 22)] # to be capped as outliers\n",
    "\n",
    "print(f\"Invalid BMI entries: {len(invalid_bmi)}\")\n",
    "print(f\"Invalid SleepHours entries: {len(invalid_sleep)}\")\n",
    "print(f\"Suspicious SleepHours entries to check again: {len(suspicious_sleep_values)}\")\n",
    "\n",
    "# 1.4.1 creating an accurate CalculatedBMI column\n",
    "df_original['CalculatedBMI'] = df_original['WeightInKilograms'] / (df_original['HeightInMeters'] ** 2)\n",
    "\n",
    "# 1.4.2 if AgeCategory is '65 or older', they should likely report having one of the following:\n",
    "    # heart attack, stroke, diabetes\n",
    "agecategory_inconsistencies = df_original[\n",
    "    (df_original['AgeCategory'] == '65 or older') &\n",
    "    ~(df_original[['HadHeartAttack', 'HadStroke', 'HadDiabetes']].any(axis=1))\n",
    "]\n",
    "print(f\"Number of logical inconsistencies in AgeCategory (age 65+ but no major health conditions): {len(agecategory_inconsistencies)}\")\n",
    "\n",
    "# 1.4.3 if SmokerStatus is 'Yes', they should likely report at least one of the following conditions:\n",
    "    # heart attack, COPD, asthma, stroke\n",
    "smoker_inconsistencies = df_original[\n",
    "    (df_original['SmokerStatus'] == 'current smoker - now smokes every day') | (df_original['SmokerStatus'] == 'current smoker - now smokes some days') | (df_original['SmokerStatus'] == 'former smoker') &\n",
    "    ~(df_original[['HadHeartAttack', 'HadCOPD', 'HadAsthma', 'HadStroke']].any(axis=1))\n",
    "]\n",
    "print(f\"Number of logical inconsistencies in SmokerStatus (current or former smoker but no major related health conditions): {len(smoker_inconsistencies)}\")\n",
    "\n",
    "# 1.4.4 if DifficultyWalking is True, then atleast one of the following should also be True:\n",
    "    # DifficultyDressingBathing, DifficultyErrands\n",
    "walking_inconsistencies = df_original[\n",
    "    (df_original['DifficultyWalking'] == True) &\n",
    "    ~(df_original[['DifficultyDressingBathing', 'DifficultyErrands']].any(axis=1))\n",
    "]\n",
    "print(f\"Number of logical inconsistencies in DifficultyWalking (difficulty walking but no related difficulties): {len(walking_inconsistencies)}\")\n",
    "\n",
    "#1.4.5 if HadCOPD is True, then atleast one of the following difficulties should also be True:\n",
    "    # DifficultyWalking, DifficultyDressingBathing, DifficultyErrands\n",
    "copd_inconsistancies = df_original[\n",
    "    (df_original['HadCOPD'] == True) &\n",
    "    ~(df_original[['DifficultyWalking', 'DifficultyDressingBathing', 'DifficultyErrands']].any(axis=1))\n",
    "]\n",
    "print(f\"Number of logical inconsistencies in COPD (COPD but no difficulties with daily activities): {len(copd_inconsistancies)}\")\n",
    "\n",
    "# 1.4.6 if HadHeartAttack is True, then at least one of Stroke, Angina, or ChestScan should be True\n",
    "heartattack_inconsistencies = df_original[\n",
    "    (df_original['HadHeartAttack'] == True) &\n",
    "    ~(df_original[['HadStroke', 'HadAngina', 'ChestScan']].any(axis=1))  # None of these is True\n",
    "]\n",
    "print(f\"Number of logical inconsistencies in Heart Attack (Heart Attack but no related conditions reported): {len(heartattack_inconsistencies)}\")\n",
    "\n",
    "# 1.4.7 if SleepHours is less than 4 or more than 12, we expect at least one of the following health conditions to be True:\n",
    "    # HadDepressiveDisorder, HadHeartAttack, HadAngina, HadStroke, HadSkinCancer, HadAsthma, HadCOPD, HadKidneyDisease, HadArthritis, HadDiabetes, DifficultyConcentrating, HighRiskLastYear\n",
    "sleep_hours_inconsistencies = df_original[\n",
    "    ((df_original['SleepHours'] < 5) | (df_original['SleepHours'] > 12)) &\n",
    "    ~(df_original[['HadDepressiveDisorder', 'HadHeartAttack', 'HadAngina', 'HadStroke', 'HadSkinCancer', 'HadAsthma', 'HadCOPD', 'HadDepressiveDisorder', 'HadKidneyDisease', 'HadArthritis', 'HadDiabetes', 'DifficultyConcentrating', 'HighRiskLastYear']].any(axis=1))  # None of these is True\n",
    "]\n",
    "print(f\"Number of logical inconsistencies in SleepHours (abnormal sleep but no related health conditions): {len(sleep_hours_inconsistencies)}\")\n",
    "\n",
    "# 1.4.8 if PhysicalHealthDays is 0, they should not report significant limitations in daily activities\n",
    "physical_health_inconsistencies = df_original[\n",
    "    (df_original['PhysicalHealthDays'] == 0) &\n",
    "    ~(df_original[['DifficultyWalking', 'DifficultyDressingBathing', 'DifficultyErrands']].any(axis=1))]  # No difficulty reported\n",
    "print(f\"Number of logical inconsistencies in PhysicalHealthDays (0 health days but activity limitations): {len(physical_health_inconsistencies)}\")\n"
   ]
  },
  {
   "cell_type": "code",
   "execution_count": 28,
   "metadata": {},
   "outputs": [
    {
     "name": "stdout",
     "output_type": "stream",
     "text": [
      "State                        0\n",
      "Sex                          0\n",
      "GeneralHealth                0\n",
      "PhysicalHealthDays           0\n",
      "MentalHealthDays             0\n",
      "LastCheckupTime              0\n",
      "PhysicalActivities           0\n",
      "SleepHours                   0\n",
      "RemovedTeeth                 0\n",
      "HadHeartAttack               0\n",
      "HadAngina                    0\n",
      "HadStroke                    0\n",
      "HadAsthma                    0\n",
      "HadSkinCancer                0\n",
      "HadCOPD                      0\n",
      "HadDepressiveDisorder        0\n",
      "HadKidneyDisease             0\n",
      "HadArthritis                 0\n",
      "HadDiabetes                  0\n",
      "DeafOrHardOfHearing          0\n",
      "BlindOrVisionDifficulty      0\n",
      "DifficultyConcentrating      0\n",
      "DifficultyWalking            0\n",
      "DifficultyDressingBathing    0\n",
      "DifficultyErrands            0\n",
      "SmokerStatus                 0\n",
      "ECigaretteUsage              0\n",
      "ChestScan                    0\n",
      "RaceEthnicityCategory        0\n",
      "AgeCategory                  0\n",
      "HeightInMeters               0\n",
      "WeightInKilograms            0\n",
      "BMI                          0\n",
      "AlcoholDrinkers              0\n",
      "HIVTesting                   0\n",
      "FluVaxLast12                 0\n",
      "PneumoVaxEver                0\n",
      "TetanusLast10Tdap            0\n",
      "HighRiskLastYear             0\n",
      "CovidPos                     0\n",
      "CalculatedBMI                0\n",
      "dtype: int64\n"
     ]
    }
   ],
   "source": [
    "# 1.5 filling in the missing values for the numerical and object columns\n",
    "df_original.fillna({col: df_original[col].median() for col in df_original.select_dtypes('float64')}, inplace=True)\n",
    "df_original.fillna({col: df_original[col].mode().iloc[0] for col in df_original.select_dtypes('object')}, inplace=True)\n",
    "\n",
    "print(df_original.isnull().sum()) # to check"
   ]
  },
  {
   "cell_type": "code",
   "execution_count": 29,
   "metadata": {},
   "outputs": [
    {
     "data": {
      "image/png": "[encoded data removed]",
      "text/plain": [
       "<Figure size 640x480 with 1 Axes>"
      ]
     },
     "metadata": {},
     "output_type": "display_data"
    }
   ],
   "source": [
    "# 1.6 capping outliers\n",
    "def cap_outliers(df_original, columns, lower_percentile=0.05, upper_percentile=0.95):\n",
    "    for column in columns:\n",
    "        lower_bound = df_original[column].quantile(lower_percentile)\n",
    "        upper_bound = df_original[column].quantile(upper_percentile)\n",
    "\n",
    "        # after capping\n",
    "        df_original[column] = df_original[column].apply(lambda x: min(max(x, lower_bound), upper_bound))\n",
    "\n",
    "    return df_original\n",
    "\n",
    "# list of columns to cap\n",
    "columns_to_cap = ['WeightInKilograms', 'HeightInMeters', 'BMI', 'CalculatedBMI', 'SleepHours']\n",
    "\n",
    "# apply the capping\n",
    "df_cleaned = cap_outliers(df_original, columns_to_cap)\n",
    "\n",
    "# verification of capping\n",
    "sns.boxplot(data=df_original[columns_to_cap])\n",
    "plt.title(\"after capping\")\n",
    "plt.xticks(rotation=45)\n",
    "plt.show()"
   ]
  },
  {
   "cell_type": "code",
   "execution_count": 30,
   "metadata": {},
   "outputs": [],
   "source": [
    "for col in df_original.select_dtypes(include=['category', 'object']).columns:\n",
    "    df_original[col] = df_original[col].str.strip().str.lower()"
   ]
  },
  {
   "cell_type": "code",
   "execution_count": 31,
   "metadata": {},
   "outputs": [],
   "source": [
    "cleaned_df = df_original.drop_duplicates()"
   ]
  },
  {
   "cell_type": "code",
   "execution_count": 32,
   "metadata": {},
   "outputs": [],
   "source": [
    "cleaned_df.to_csv('CleanedHeart.csv', index=False)"
   ]
  },
  {
   "cell_type": "code",
   "execution_count": 34,
   "metadata": {},
   "outputs": [],
   "source": [
    "cleaned_df = pd.read_csv('/Users/nikgurunathan/Desktop/csv_heart/final_draft/CleanedHeart.csv')"
   ]
  },
  {
   "cell_type": "markdown",
   "metadata": {},
   "source": [
    "2. ##### pre-model configuration"
   ]
  },
  {
   "cell_type": "code",
   "execution_count": 43,
   "metadata": {},
   "outputs": [],
   "source": [
    "# 2.1 converting yes/no columns to numeric\n",
    "def string_to_numeric(entry):\n",
    "    if isinstance(entry, str):\n",
    "        if entry == 'yes':\n",
    "            return 1\n",
    "        elif entry == 'no':\n",
    "            return 0\n",
    "        elif entry == 'no, pre-diabetes or borderline diabetes':\n",
    "            return 0.5\n",
    "        else:\n",
    "            return entry\n",
    "    \n",
    "    cleaned_df = cleaned_df.applymap(string_to_numeric)\n"
   ]
  },
  {
   "cell_type": "code",
   "execution_count": 44,
   "metadata": {},
   "outputs": [],
   "source": [
    "cleaned_df.to_csv('CleanedHeart.csv', index=False)"
   ]
  },
  {
   "cell_type": "code",
   "execution_count": 35,
   "metadata": {},
   "outputs": [],
   "source": [
    "# 2.2 initialising the RiskScore column\n",
    "\n",
    "cleaned_df['RiskScore'] = 0"
   ]
  },
  {
   "cell_type": "markdown",
   "metadata": {},
   "source": [
    "from most to least disruptive:\n",
    "* stroke = 10 pts\n",
    "* heart attack = 9.5 pts\n",
    "* COPD = 9 pts\n",
    "* depressive disorder = 8.5 pts\n",
    "* blind / vision difficulty = 8.5 pts\n",
    "* difficulty dressing and bathing = 8.5 pts\n",
    "* angina = 8 pts\n",
    "* arthritis = 7.5 pts\n",
    "* kidney disease = 7.5 pts\n",
    "* difficulty concentrating = 7 pts\n",
    "* diabetes = 7 pts\n",
    "* asthma = 6.5 pts\n",
    "* difficulty running errands = 6 pts\n",
    "* deaf / hard of hearing = 6 pts\n",
    "* skin cancer = 5.5 pts\n",
    "* calculated bmi < 18.5 - 5 pts\n",
    "* calculated bmi > 24.9 = 4.5 pts \n",
    "(bmi normal range is 18.5-24.9)\n",
    "* smoker status: current smoker - now smokes every day = 4.5 pts\n",
    "* e-cigarette usage - use them every day = 4 pts\n",
    "* smoker status: current smoker - now smokes some days = 3.5 pts\n",
    "* e-cigarette usage: use them some days - 3 pts\n",
    "* smoker status: former smoker = 2.5 pts\n",
    "* e-cigarette usage: not at all (right now) = 2 pts\n",
    "* smoker status: never smoked = 2 pts\n",
    "* e-cigarette usage: never used e-cigarettes in my entire life = 2 pts\n",
    "* alcohol drinkers = 2 pts\n",
    "* sleep hours < 7 hours = 1.5 pts"
   ]
  },
  {
   "cell_type": "code",
   "execution_count": 36,
   "metadata": {},
   "outputs": [
    {
     "ename": "TypeError",
     "evalue": "unsupported operand type(s) for +: 'int' and 'str'",
     "output_type": "error",
     "traceback": [
      "\u001b[0;31m---------------------------------------------------------------------------\u001b[0m",
      "\u001b[0;31mTypeError\u001b[0m                                 Traceback (most recent call last)",
      "File \u001b[0;32m~/Desktop/My-DAC-Curriculum/.venv/lib/python3.13/site-packages/pandas/core/ops/array_ops.py:218\u001b[0m, in \u001b[0;36m_na_arithmetic_op\u001b[0;34m(left, right, op, is_cmp)\u001b[0m\n\u001b[1;32m    217\u001b[0m \u001b[38;5;28;01mtry\u001b[39;00m:\n\u001b[0;32m--> 218\u001b[0m     result \u001b[38;5;241m=\u001b[39m \u001b[43mfunc\u001b[49m\u001b[43m(\u001b[49m\u001b[43mleft\u001b[49m\u001b[43m,\u001b[49m\u001b[43m \u001b[49m\u001b[43mright\u001b[49m\u001b[43m)\u001b[49m\n\u001b[1;32m    219\u001b[0m \u001b[38;5;28;01mexcept\u001b[39;00m \u001b[38;5;167;01mTypeError\u001b[39;00m:\n",
      "File \u001b[0;32m~/Desktop/My-DAC-Curriculum/.venv/lib/python3.13/site-packages/pandas/core/computation/expressions.py:242\u001b[0m, in \u001b[0;36mevaluate\u001b[0;34m(op, a, b, use_numexpr)\u001b[0m\n\u001b[1;32m    240\u001b[0m     \u001b[38;5;28;01mif\u001b[39;00m use_numexpr:\n\u001b[1;32m    241\u001b[0m         \u001b[38;5;66;03m# error: \"None\" not callable\u001b[39;00m\n\u001b[0;32m--> 242\u001b[0m         \u001b[38;5;28;01mreturn\u001b[39;00m \u001b[43m_evaluate\u001b[49m\u001b[43m(\u001b[49m\u001b[43mop\u001b[49m\u001b[43m,\u001b[49m\u001b[43m \u001b[49m\u001b[43mop_str\u001b[49m\u001b[43m,\u001b[49m\u001b[43m \u001b[49m\u001b[43ma\u001b[49m\u001b[43m,\u001b[49m\u001b[43m \u001b[49m\u001b[43mb\u001b[49m\u001b[43m)\u001b[49m  \u001b[38;5;66;03m# type: ignore[misc]\u001b[39;00m\n\u001b[1;32m    243\u001b[0m \u001b[38;5;28;01mreturn\u001b[39;00m _evaluate_standard(op, op_str, a, b)\n",
      "File \u001b[0;32m~/Desktop/My-DAC-Curriculum/.venv/lib/python3.13/site-packages/pandas/core/computation/expressions.py:73\u001b[0m, in \u001b[0;36m_evaluate_standard\u001b[0;34m(op, op_str, a, b)\u001b[0m\n\u001b[1;32m     72\u001b[0m     _store_test_result(\u001b[38;5;28;01mFalse\u001b[39;00m)\n\u001b[0;32m---> 73\u001b[0m \u001b[38;5;28;01mreturn\u001b[39;00m \u001b[43mop\u001b[49m\u001b[43m(\u001b[49m\u001b[43ma\u001b[49m\u001b[43m,\u001b[49m\u001b[43m \u001b[49m\u001b[43mb\u001b[49m\u001b[43m)\u001b[49m\n",
      "\u001b[0;31mTypeError\u001b[0m: unsupported operand type(s) for +: 'int' and 'str'",
      "\nDuring handling of the above exception, another exception occurred:\n",
      "\u001b[0;31mTypeError\u001b[0m                                 Traceback (most recent call last)",
      "Cell \u001b[0;32mIn[36], line 4\u001b[0m\n\u001b[1;32m      1\u001b[0m \u001b[38;5;66;03m#2.3 ranking the health/lifestyle risk factors in order from most to least disruptive to daily life and assigning points\u001b[39;00m\n\u001b[1;32m      2\u001b[0m \u001b[38;5;66;03m# see markdown above for full list and point allocations\u001b[39;00m\n\u001b[0;32m----> 4\u001b[0m cleaned_df[\u001b[38;5;124m'\u001b[39m\u001b[38;5;124mRiskScore\u001b[39m\u001b[38;5;124m'\u001b[39m] \u001b[38;5;241m=\u001b[39m \u001b[43mcleaned_df\u001b[49m\u001b[43m[\u001b[49m\u001b[38;5;124;43m'\u001b[39;49m\u001b[38;5;124;43mRiskScore\u001b[39;49m\u001b[38;5;124;43m'\u001b[39;49m\u001b[43m]\u001b[49m\u001b[43m \u001b[49m\u001b[38;5;241;43m+\u001b[39;49m\u001b[43m \u001b[49m\u001b[43m(\u001b[49m\u001b[38;5;241;43m10\u001b[39;49m\u001b[43m \u001b[49m\u001b[38;5;241;43m*\u001b[39;49m\u001b[43m \u001b[49m\u001b[43mcleaned_df\u001b[49m\u001b[43m[\u001b[49m\u001b[38;5;124;43m'\u001b[39;49m\u001b[38;5;124;43mHadStroke\u001b[39;49m\u001b[38;5;124;43m'\u001b[39;49m\u001b[43m]\u001b[49m\u001b[43m)\u001b[49m \u001b[38;5;66;03m# stroke\u001b[39;00m\n\u001b[1;32m      5\u001b[0m \u001b[38;5;66;03m# cleaned_df['RiskScore'] = cleaned_df['RiskScore'] + (9.5 * cleaned_df['HadHeartAttack']) # heart attack\u001b[39;00m\n\u001b[1;32m      6\u001b[0m \u001b[38;5;66;03m# cleaned_df['RiskScore'] = cleaned_df['RiskScore'] + (9 * cleaned_df['HadCOPD']) # COPD\u001b[39;00m\n\u001b[1;32m      7\u001b[0m \u001b[38;5;66;03m# cleaned_df['RiskScore'] = cleaned_df['RiskScore'] + (8.5 * cleaned_df['HadDepressiveDisorder']) # depressive disorder\u001b[39;00m\n",
      "File \u001b[0;32m~/Desktop/My-DAC-Curriculum/.venv/lib/python3.13/site-packages/pandas/core/ops/common.py:76\u001b[0m, in \u001b[0;36m_unpack_zerodim_and_defer.<locals>.new_method\u001b[0;34m(self, other)\u001b[0m\n\u001b[1;32m     72\u001b[0m             \u001b[38;5;28;01mreturn\u001b[39;00m \u001b[38;5;28mNotImplemented\u001b[39m\n\u001b[1;32m     74\u001b[0m other \u001b[38;5;241m=\u001b[39m item_from_zerodim(other)\n\u001b[0;32m---> 76\u001b[0m \u001b[38;5;28;01mreturn\u001b[39;00m \u001b[43mmethod\u001b[49m\u001b[43m(\u001b[49m\u001b[38;5;28;43mself\u001b[39;49m\u001b[43m,\u001b[49m\u001b[43m \u001b[49m\u001b[43mother\u001b[49m\u001b[43m)\u001b[49m\n",
      "File \u001b[0;32m~/Desktop/My-DAC-Curriculum/.venv/lib/python3.13/site-packages/pandas/core/arraylike.py:186\u001b[0m, in \u001b[0;36mOpsMixin.__add__\u001b[0;34m(self, other)\u001b[0m\n\u001b[1;32m     98\u001b[0m \u001b[38;5;129m@unpack_zerodim_and_defer\u001b[39m(\u001b[38;5;124m\"\u001b[39m\u001b[38;5;124m__add__\u001b[39m\u001b[38;5;124m\"\u001b[39m)\n\u001b[1;32m     99\u001b[0m \u001b[38;5;28;01mdef\u001b[39;00m \u001b[38;5;21m__add__\u001b[39m(\u001b[38;5;28mself\u001b[39m, other):\n\u001b[1;32m    100\u001b[0m \u001b[38;5;250m    \u001b[39m\u001b[38;5;124;03m\"\"\"\u001b[39;00m\n\u001b[1;32m    101\u001b[0m \u001b[38;5;124;03m    Get Addition of DataFrame and other, column-wise.\u001b[39;00m\n\u001b[1;32m    102\u001b[0m \n\u001b[0;32m   (...)\u001b[0m\n\u001b[1;32m    184\u001b[0m \u001b[38;5;124;03m    moose     3.0     NaN\u001b[39;00m\n\u001b[1;32m    185\u001b[0m \u001b[38;5;124;03m    \"\"\"\u001b[39;00m\n\u001b[0;32m--> 186\u001b[0m     \u001b[38;5;28;01mreturn\u001b[39;00m \u001b[38;5;28;43mself\u001b[39;49m\u001b[38;5;241;43m.\u001b[39;49m\u001b[43m_arith_method\u001b[49m\u001b[43m(\u001b[49m\u001b[43mother\u001b[49m\u001b[43m,\u001b[49m\u001b[43m \u001b[49m\u001b[43moperator\u001b[49m\u001b[38;5;241;43m.\u001b[39;49m\u001b[43madd\u001b[49m\u001b[43m)\u001b[49m\n",
      "File \u001b[0;32m~/Desktop/My-DAC-Curriculum/.venv/lib/python3.13/site-packages/pandas/core/series.py:6135\u001b[0m, in \u001b[0;36mSeries._arith_method\u001b[0;34m(self, other, op)\u001b[0m\n\u001b[1;32m   6133\u001b[0m \u001b[38;5;28;01mdef\u001b[39;00m \u001b[38;5;21m_arith_method\u001b[39m(\u001b[38;5;28mself\u001b[39m, other, op):\n\u001b[1;32m   6134\u001b[0m     \u001b[38;5;28mself\u001b[39m, other \u001b[38;5;241m=\u001b[39m \u001b[38;5;28mself\u001b[39m\u001b[38;5;241m.\u001b[39m_align_for_op(other)\n\u001b[0;32m-> 6135\u001b[0m     \u001b[38;5;28;01mreturn\u001b[39;00m \u001b[43mbase\u001b[49m\u001b[38;5;241;43m.\u001b[39;49m\u001b[43mIndexOpsMixin\u001b[49m\u001b[38;5;241;43m.\u001b[39;49m\u001b[43m_arith_method\u001b[49m\u001b[43m(\u001b[49m\u001b[38;5;28;43mself\u001b[39;49m\u001b[43m,\u001b[49m\u001b[43m \u001b[49m\u001b[43mother\u001b[49m\u001b[43m,\u001b[49m\u001b[43m \u001b[49m\u001b[43mop\u001b[49m\u001b[43m)\u001b[49m\n",
      "File \u001b[0;32m~/Desktop/My-DAC-Curriculum/.venv/lib/python3.13/site-packages/pandas/core/base.py:1382\u001b[0m, in \u001b[0;36mIndexOpsMixin._arith_method\u001b[0;34m(self, other, op)\u001b[0m\n\u001b[1;32m   1379\u001b[0m     rvalues \u001b[38;5;241m=\u001b[39m np\u001b[38;5;241m.\u001b[39marange(rvalues\u001b[38;5;241m.\u001b[39mstart, rvalues\u001b[38;5;241m.\u001b[39mstop, rvalues\u001b[38;5;241m.\u001b[39mstep)\n\u001b[1;32m   1381\u001b[0m \u001b[38;5;28;01mwith\u001b[39;00m np\u001b[38;5;241m.\u001b[39merrstate(\u001b[38;5;28mall\u001b[39m\u001b[38;5;241m=\u001b[39m\u001b[38;5;124m\"\u001b[39m\u001b[38;5;124mignore\u001b[39m\u001b[38;5;124m\"\u001b[39m):\n\u001b[0;32m-> 1382\u001b[0m     result \u001b[38;5;241m=\u001b[39m \u001b[43mops\u001b[49m\u001b[38;5;241;43m.\u001b[39;49m\u001b[43marithmetic_op\u001b[49m\u001b[43m(\u001b[49m\u001b[43mlvalues\u001b[49m\u001b[43m,\u001b[49m\u001b[43m \u001b[49m\u001b[43mrvalues\u001b[49m\u001b[43m,\u001b[49m\u001b[43m \u001b[49m\u001b[43mop\u001b[49m\u001b[43m)\u001b[49m\n\u001b[1;32m   1384\u001b[0m \u001b[38;5;28;01mreturn\u001b[39;00m \u001b[38;5;28mself\u001b[39m\u001b[38;5;241m.\u001b[39m_construct_result(result, name\u001b[38;5;241m=\u001b[39mres_name)\n",
      "File \u001b[0;32m~/Desktop/My-DAC-Curriculum/.venv/lib/python3.13/site-packages/pandas/core/ops/array_ops.py:283\u001b[0m, in \u001b[0;36marithmetic_op\u001b[0;34m(left, right, op)\u001b[0m\n\u001b[1;32m    279\u001b[0m     _bool_arith_check(op, left, right)  \u001b[38;5;66;03m# type: ignore[arg-type]\u001b[39;00m\n\u001b[1;32m    281\u001b[0m     \u001b[38;5;66;03m# error: Argument 1 to \"_na_arithmetic_op\" has incompatible type\u001b[39;00m\n\u001b[1;32m    282\u001b[0m     \u001b[38;5;66;03m# \"Union[ExtensionArray, ndarray[Any, Any]]\"; expected \"ndarray[Any, Any]\"\u001b[39;00m\n\u001b[0;32m--> 283\u001b[0m     res_values \u001b[38;5;241m=\u001b[39m \u001b[43m_na_arithmetic_op\u001b[49m\u001b[43m(\u001b[49m\u001b[43mleft\u001b[49m\u001b[43m,\u001b[49m\u001b[43m \u001b[49m\u001b[43mright\u001b[49m\u001b[43m,\u001b[49m\u001b[43m \u001b[49m\u001b[43mop\u001b[49m\u001b[43m)\u001b[49m  \u001b[38;5;66;03m# type: ignore[arg-type]\u001b[39;00m\n\u001b[1;32m    285\u001b[0m \u001b[38;5;28;01mreturn\u001b[39;00m res_values\n",
      "File \u001b[0;32m~/Desktop/My-DAC-Curriculum/.venv/lib/python3.13/site-packages/pandas/core/ops/array_ops.py:227\u001b[0m, in \u001b[0;36m_na_arithmetic_op\u001b[0;34m(left, right, op, is_cmp)\u001b[0m\n\u001b[1;32m    219\u001b[0m \u001b[38;5;28;01mexcept\u001b[39;00m \u001b[38;5;167;01mTypeError\u001b[39;00m:\n\u001b[1;32m    220\u001b[0m     \u001b[38;5;28;01mif\u001b[39;00m \u001b[38;5;129;01mnot\u001b[39;00m is_cmp \u001b[38;5;129;01mand\u001b[39;00m (\n\u001b[1;32m    221\u001b[0m         left\u001b[38;5;241m.\u001b[39mdtype \u001b[38;5;241m==\u001b[39m \u001b[38;5;28mobject\u001b[39m \u001b[38;5;129;01mor\u001b[39;00m \u001b[38;5;28mgetattr\u001b[39m(right, \u001b[38;5;124m\"\u001b[39m\u001b[38;5;124mdtype\u001b[39m\u001b[38;5;124m\"\u001b[39m, \u001b[38;5;28;01mNone\u001b[39;00m) \u001b[38;5;241m==\u001b[39m \u001b[38;5;28mobject\u001b[39m\n\u001b[1;32m    222\u001b[0m     ):\n\u001b[0;32m   (...)\u001b[0m\n\u001b[1;32m    225\u001b[0m         \u001b[38;5;66;03m# Don't do this for comparisons, as that will handle complex numbers\u001b[39;00m\n\u001b[1;32m    226\u001b[0m         \u001b[38;5;66;03m#  incorrectly, see GH#32047\u001b[39;00m\n\u001b[0;32m--> 227\u001b[0m         result \u001b[38;5;241m=\u001b[39m \u001b[43m_masked_arith_op\u001b[49m\u001b[43m(\u001b[49m\u001b[43mleft\u001b[49m\u001b[43m,\u001b[49m\u001b[43m \u001b[49m\u001b[43mright\u001b[49m\u001b[43m,\u001b[49m\u001b[43m \u001b[49m\u001b[43mop\u001b[49m\u001b[43m)\u001b[49m\n\u001b[1;32m    228\u001b[0m     \u001b[38;5;28;01melse\u001b[39;00m:\n\u001b[1;32m    229\u001b[0m         \u001b[38;5;28;01mraise\u001b[39;00m\n",
      "File \u001b[0;32m~/Desktop/My-DAC-Curriculum/.venv/lib/python3.13/site-packages/pandas/core/ops/array_ops.py:163\u001b[0m, in \u001b[0;36m_masked_arith_op\u001b[0;34m(x, y, op)\u001b[0m\n\u001b[1;32m    161\u001b[0m     \u001b[38;5;66;03m# See GH#5284, GH#5035, GH#19448 for historical reference\u001b[39;00m\n\u001b[1;32m    162\u001b[0m     \u001b[38;5;28;01mif\u001b[39;00m mask\u001b[38;5;241m.\u001b[39many():\n\u001b[0;32m--> 163\u001b[0m         result[mask] \u001b[38;5;241m=\u001b[39m \u001b[43mop\u001b[49m\u001b[43m(\u001b[49m\u001b[43mxrav\u001b[49m\u001b[43m[\u001b[49m\u001b[43mmask\u001b[49m\u001b[43m]\u001b[49m\u001b[43m,\u001b[49m\u001b[43m \u001b[49m\u001b[43myrav\u001b[49m\u001b[43m[\u001b[49m\u001b[43mmask\u001b[49m\u001b[43m]\u001b[49m\u001b[43m)\u001b[49m\n\u001b[1;32m    165\u001b[0m \u001b[38;5;28;01melse\u001b[39;00m:\n\u001b[1;32m    166\u001b[0m     \u001b[38;5;28;01mif\u001b[39;00m \u001b[38;5;129;01mnot\u001b[39;00m is_scalar(y):\n",
      "\u001b[0;31mTypeError\u001b[0m: unsupported operand type(s) for +: 'int' and 'str'"
     ]
    }
   ],
   "source": [
    "#2.3 ranking the health/lifestyle risk factors in order from most to least disruptive to daily life and assigning points\n",
    "# see markdown above for full list and point allocations\n",
    "\n",
    "cleaned_df['RiskScore'] = cleaned_df['RiskScore'] + (10 * cleaned_df['HadStroke']) # stroke\n",
    "# cleaned_df['RiskScore'] = cleaned_df['RiskScore'] + (9.5 * cleaned_df['HadHeartAttack']) # heart attack\n",
    "# cleaned_df['RiskScore'] = cleaned_df['RiskScore'] + (9 * cleaned_df['HadCOPD']) # COPD\n",
    "# cleaned_df['RiskScore'] = cleaned_df['RiskScore'] + (8.5 * cleaned_df['HadDepressiveDisorder']) # depressive disorder"
   ]
  },
  {
   "cell_type": "code",
   "execution_count": null,
   "metadata": {},
   "outputs": [],
   "source": []
  }
 ],
 "metadata": {
  "kernelspec": {
   "display_name": ".venv",
   "language": "python",
   "name": "python3"
  },
  "language_info": {
   "codemirror_mode": {
    "name": "ipython",
    "version": 3
   },
   "file_extension": ".py",
   "mimetype": "text/x-python",
   "name": "python",
   "nbconvert_exporter": "python",
   "pygments_lexer": "ipython3",
   "version": "3.13.1"
  }
 },
 "nbformat": 4,
 "nbformat_minor": 2
}

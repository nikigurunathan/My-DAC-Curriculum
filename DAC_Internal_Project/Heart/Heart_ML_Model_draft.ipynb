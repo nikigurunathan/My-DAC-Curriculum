{
 "cells": [
  {
   "cell_type": "markdown",
   "metadata": {},
   "source": [
    "1. data cleaning"
   ]
  },
  {
   "cell_type": "code",
   "execution_count": 233,
   "metadata": {},
   "outputs": [],
   "source": [
    "# importing data and libraries\n",
    "import pandas as pd\n",
    "import numpy as np\n",
    "import seaborn as sns\n",
    "import matplotlib.pyplot as plt\n",
    "\n",
    "df = pd.read_csv('/Users/nikgurunathan/Desktop/Heart_cleaned.csv')"
   ]
  },
  {
   "cell_type": "code",
   "execution_count": 234,
   "metadata": {},
   "outputs": [
    {
     "name": "stdout",
     "output_type": "stream",
     "text": [
      "(444762, 41)\n"
     ]
    }
   ],
   "source": [
    "# removing duplicates\n",
    "df = df.drop_duplicates()\n",
    "print(df.shape)"
   ]
  },
  {
   "cell_type": "code",
   "execution_count": 235,
   "metadata": {},
   "outputs": [],
   "source": [
    "# creating an Accurate Calculated BMI column\n",
    "df['CalculatedBMI'] = df['WeightInKilograms'] / (df['HeightInMeters'] ** 2)"
   ]
  },
  {
   "cell_type": "code",
   "execution_count": 236,
   "metadata": {},
   "outputs": [
    {
     "name": "stdout",
     "output_type": "stream",
     "text": [
      "Invalid BMI entries: 0\n",
      "Invalid Sleep Hours entries: 0\n",
      "Suspicious sleep hours to check again: 0\n",
      "Number of logical inconsistencies in AgeCategory (age 65+ but no major health conditions): 0\n",
      "Number of logical inconsistencies in SmokerStatus (smoker but no major related health conditions): 0\n",
      "Number of logical inconsistencies in DifficultyWalking (difficulty walking but no related difficulties): 0\n",
      "Number of logical inconsistencies in HadCOPD (COPD but no difficulties with daily activities): 0\n",
      "Number of logical inconsistencies in HadHeartAttack (Heart Attack but no related conditions reported): 0\n",
      "Number of logical inconsistencies in SleepHours (abnormal sleep but no related health conditions): 0\n",
      "Number of logical inconsistencies in PhysicalHealthDays (0 health days but activity limitations): 0\n"
     ]
    }
   ],
   "source": [
    "# logic checks\n",
    "\n",
    "invalid_bmi = df[(df['BMI'] < 10) | (df['BMI'] > 80)]  # BMI typically ranges from 10 to 50\n",
    "invalid_sleep = df[(df['SleepHours'] < 0) | (df['SleepHours'] > 24)]  # Sleep hours must be 0-24\n",
    "suspicious_sleep_values = df[(df['SleepHours'] < 3) | (df['SleepHours'] > 22)] #maybe cap as outliers (?)\n",
    "\n",
    "\n",
    "print(f\"Invalid BMI entries: {len(invalid_bmi)}\")\n",
    "print(f\"Invalid Sleep Hours entries: {len(invalid_sleep)}\")\n",
    "print(f\"Suspicious sleep hours to check again: {len(suspicious_sleep_values)}\")\n",
    "\n",
    "# 1.4.1 ff AgeCategory is '65 or older', they should likely report having at least one of the following: \n",
    "#   heart attack, stroke, or diabetes\n",
    "age_category_inconsistencies = df[\n",
    "    (df['AgeCategory'] == '65 or older') &\n",
    "    ~(df[['HadHeartAttack', 'HadStroke', 'HadDiabetes']].any(axis=1))\n",
    "]\n",
    "print(f\"Number of logical inconsistencies in AgeCategory (age 65+ but no major health conditions): {len(age_category_inconsistencies)}\")\n",
    "\n",
    "# 1.4.2 if SmokerStatus is 'Yes', they should likely report at least one of the following:\n",
    "#   heart attack, COPD, asthma, stroke\n",
    "smoker_inconsistencies = df[\n",
    "    (df['SmokerStatus'] == 'Yes') &\n",
    "    ~(df[['HadHeartAttack', 'HadCOPD', 'HadAsthma', 'HadStroke']].any(axis=1))  # None of these is True\n",
    "]\n",
    "print(f\"Number of logical inconsistencies in SmokerStatus (smoker but no major related health conditions): {len(smoker_inconsistencies)}\")\n",
    "\n",
    "# 1.4.3 if DifficultyWalking is True, then at least one of the following should also be True:\n",
    "#   difficulty dressing and bathing, difficulty running errands\n",
    "walking_inconsistencies = df[\n",
    "    (df['DifficultyWalking'] == True) &\n",
    "    ~(df[['DifficultyDressingBathing', 'DifficultyErrands']].any(axis=1))  # None of these is True\n",
    "]\n",
    "print(f\"Number of logical inconsistencies in DifficultyWalking (difficulty walking but no related difficulties): {len(walking_inconsistencies)}\")\n",
    "\n",
    "# 1.4.4 if HadCOPD is True, then at least one of the following should also be True:\n",
    "# difficulty walking, difficulty dressing and bathing, difficulty running errands\n",
    "copd_inconsistencies = df[\n",
    "    (df['HadCOPD'] == True) &\n",
    "    ~(df[['DifficultyWalking', 'DifficultyDressingBathing', 'DifficultyErrands']].any(axis=1))  # None of these is True\n",
    "]\n",
    "print(f\"Number of logical inconsistencies in HadCOPD (COPD but no difficulties with daily activities): {len(copd_inconsistencies)}\")\n",
    "\n",
    "# 1.4.5 if HadHeartAttack is True, then at least one of the following should be True:\n",
    "# stroke, angina, chest scan\n",
    "heart_attack_inconsistencies = df[\n",
    "    (df['HadHeartAttack'] == True) &\n",
    "    ~(df[['HadStroke', 'HadAngina', 'ChestScan']].any(axis=1))  # None of these is True\n",
    "]\n",
    "print(f\"Number of logical inconsistencies in HadHeartAttack (Heart Attack but no related conditions reported): {len(heart_attack_inconsistencies)}\")\n",
    "\n",
    "# 1.4.6 if SleepHours is less than 4 or more than 12, we expect at least one of the health conditions to be True:\n",
    "# depressive disorder, heart attack, angina, stroke, skin cancer, asthma, COPD, kidney disease, arthritis, diabetes, difficulty concentrating, high risk last year\n",
    "sleep_hours_inconsistencies = df[\n",
    "    ((df['SleepHours'] < 5) | (df['SleepHours'] > 12)) &\n",
    "    ~(df[['HadDepressiveDisorder', 'HadHeartAttack', 'HadAngina', 'HadStroke', 'HadSkinCancer', 'HadAsthma', 'HadCOPD', 'HadKidneyDisease', 'HadArthritis', 'HadDiabetes', 'DifficultyConcentrating', 'HighRiskLastYear']].any(axis=1))  # None of these is True\n",
    "]\n",
    "print(f\"Number of logical inconsistencies in SleepHours (abnormal sleep but no related health conditions): {len(sleep_hours_inconsistencies)}\")\n",
    "\n",
    "# 1.4.7 if PhysicalHealthDays is 0, they should not report significant limitations in daily activities\n",
    "physical_health_inconsistencies = df[\n",
    "    (df['PhysicalHealthDays'] == 0) &\n",
    "    ~(df[['DifficultyWalking', 'DifficultyDressingBathing', 'DifficultyErrands']].any(axis=1))]  # No difficulty reported\n",
    "print(f\"Number of logical inconsistencies in PhysicalHealthDays (0 health days but activity limitations): {len(physical_health_inconsistencies)}\")\n",
    "\n"
   ]
  },
  {
   "cell_type": "code",
   "execution_count": 237,
   "metadata": {},
   "outputs": [
    {
     "name": "stdout",
     "output_type": "stream",
     "text": [
      "State                        0\n",
      "Sex                          0\n",
      "GeneralHealth                0\n",
      "PhysicalHealthDays           0\n",
      "MentalHealthDays             0\n",
      "LastCheckupTime              0\n",
      "PhysicalActivities           0\n",
      "SleepHours                   0\n",
      "RemovedTeeth                 0\n",
      "HadHeartAttack               0\n",
      "HadAngina                    0\n",
      "HadStroke                    0\n",
      "HadAsthma                    0\n",
      "HadSkinCancer                0\n",
      "HadCOPD                      0\n",
      "HadDepressiveDisorder        0\n",
      "HadKidneyDisease             0\n",
      "HadArthritis                 0\n",
      "HadDiabetes                  0\n",
      "DeafOrHardOfHearing          0\n",
      "BlindOrVisionDifficulty      0\n",
      "DifficultyConcentrating      0\n",
      "DifficultyWalking            0\n",
      "DifficultyDressingBathing    0\n",
      "DifficultyErrands            0\n",
      "SmokerStatus                 0\n",
      "ECigaretteUsage              0\n",
      "ChestScan                    0\n",
      "RaceEthnicityCategory        0\n",
      "AgeCategory                  0\n",
      "HeightInMeters               0\n",
      "WeightInKilograms            0\n",
      "BMI                          0\n",
      "AlcoholDrinkers              0\n",
      "HIVTesting                   0\n",
      "FluVaxLast12                 0\n",
      "PneumoVaxEver                0\n",
      "TetanusLast10Tdap            0\n",
      "HighRiskLastYear             0\n",
      "CovidPos                     0\n",
      "CalculatedBMI                0\n",
      "dtype: int64\n"
     ]
    }
   ],
   "source": [
    "# filling in missing values for numerical + object columns\n",
    "df.fillna({col: df[col].median() for col in df.select_dtypes('float64')}, inplace=True)\n",
    "df.fillna({col: df[col].mode().iloc[0] for col in df.select_dtypes('object')}, inplace=True)\n",
    "\n",
    "\n",
    "print(df.isnull().sum()) #to check\n"
   ]
  },
  {
   "cell_type": "code",
   "execution_count": 238,
   "metadata": {},
   "outputs": [
    {
     "data": {
      "image/png": "[encoded data removed]",
      "text/plain": [
       "<Figure size 640x480 with 1 Axes>"
      ]
     },
     "metadata": {},
     "output_type": "display_data"
    }
   ],
   "source": [
    "# capping outliers\n",
    "def cap_outliers(df, columns, lower_percentile=0.05, upper_percentile=0.95):\n",
    "    for column in columns:\n",
    "        lower_bound = df[column].quantile(lower_percentile)\n",
    "        upper_bound = df[column].quantile(upper_percentile)\n",
    "       \n",
    "        # Apply capping\n",
    "        df[column] = df[column].apply(lambda x: min(max(x, lower_bound), upper_bound))\n",
    "   \n",
    "    return df\n",
    "\n",
    "\n",
    "# list of columns to cap\n",
    "columns_to_cap = ['WeightInKilograms', 'HeightInMeters', 'BMI', 'CalculatedBMI', 'SleepHours']\n",
    "\n",
    "\n",
    "# applying the capping\n",
    "df_cleaned = cap_outliers(df, columns_to_cap)\n",
    "\n",
    "\n",
    "# verification of capping\n",
    "sns.boxplot(data=df[columns_to_cap])\n",
    "plt.title(\"After Capping\")\n",
    "plt.xticks(rotation=45)\n",
    "plt.show()\n"
   ]
  },
  {
   "cell_type": "code",
   "execution_count": 239,
   "metadata": {},
   "outputs": [],
   "source": [
    "# cleaning and standardizing text data\n",
    "for col in df.select_dtypes(include=['category', 'object']).columns:\n",
    "    df[col] = df[col].str.strip().str.lower()"
   ]
  },
  {
   "cell_type": "code",
   "execution_count": 240,
   "metadata": {},
   "outputs": [],
   "source": [
    "dataframe = df.drop_duplicates()\n"
   ]
  },
  {
   "cell_type": "code",
   "execution_count": 241,
   "metadata": {},
   "outputs": [],
   "source": [
    "dataframe.to_csv('/Users/nikgurunathan/Desktop/Heart_cleaned.csv', index=False)"
   ]
  },
  {
   "cell_type": "markdown",
   "metadata": {},
   "source": [
    "2. preparing data for the model"
   ]
  },
  {
   "cell_type": "code",
   "execution_count": 242,
   "metadata": {},
   "outputs": [],
   "source": [
    "dataframe = pd.read_csv('/Users/nikgurunathan/Desktop/Heart_cleaned.csv')"
   ]
  },
  {
   "cell_type": "code",
   "execution_count": 243,
   "metadata": {},
   "outputs": [
    {
     "name": "stderr",
     "output_type": "stream",
     "text": [
      "/var/folders/qn/4dpq089x26d0h5p0v709glyw0000gn/T/ipykernel_28220/2215751205.py:10: FutureWarning: DataFrame.applymap has been deprecated. Use DataFrame.map instead.\n",
      "  dataframe = dataframe.applymap(lambda x: string_to_numeric(x) if x in ['yes', 'no', 'no, pre-diabetes or borderline diabetes'] else x)\n"
     ]
    }
   ],
   "source": [
    "# converting string columns to numeric\n",
    "def string_to_numeric(entry):\n",
    "    if entry == 'yes':\n",
    "        return 1\n",
    "    elif entry == 'no':\n",
    "        return 0\n",
    "    elif entry == 'no, pre-diabetes or borderline diabetes':\n",
    "        return 0.5\n",
    "\n",
    "dataframe = dataframe.applymap(lambda x: string_to_numeric(x) if x in ['yes', 'no', 'no, pre-diabetes or borderline diabetes'] else x)\n",
    "\n",
    "dataframe.to_csv('Heart_cleaned.csv', index=False)\n",
    "# see list below for health/lifestyle risk factors ranked from most to least disruptive to daily life"
   ]
  },
  {
   "cell_type": "markdown",
   "metadata": {},
   "source": [
    "from most to least disruptive:\n",
    "* stroke = 10 pts\n",
    "* heart attack = 9.5 pts\n",
    "* COPD = 9 pts\n",
    "* depressive disorder = 8.5 pts\n",
    "* blind / vision difficulty = 8.5 pts\n",
    "* difficulty dressing and bathing = 8.5 pts\n",
    "* angina = 8 pts\n",
    "* arthritis = 7.5 pts\n",
    "* kidney disease = 7.5 pts\n",
    "* difficulty concentrating = 7 pts\n",
    "* diabetes = 7 pts\n",
    "* asthma = 6.5 pts\n",
    "* difficulty running errands = 6 pts\n",
    "* deaf / hard of hearing = 6 pts\n",
    "* skin cancer = 5.5 pts\n",
    "* calculated bmi < 18.5 - 5 pts\n",
    "* calculated bmi > 24.9 = 4.5 pts \n",
    "(bmi normal range is 18.5-24.9)\n",
    "* smoker status: current smoker - now smokes every day = 4.5 pts\n",
    "* e-cigarette usage - use them every day = 4 pts\n",
    "* smoker status: current smoker - now smokes some days = 3.5 pts\n",
    "* e-cigarette usage: use them some days - 3 pts\n",
    "* smoker status: former smoker = 2.5 pts\n",
    "* e-cigarette usage: not at all (right now) = 2 pts\n",
    "* smoker status: never smoked = 2 pts\n",
    "* e-cigarette usage: never used e-cigarettes in my entire life = 2 pts\n",
    "* alcohol drinkers = 2 pts\n",
    "* sleep hours < 7 hours = 1.5 pts"
   ]
  },
  {
   "cell_type": "code",
   "execution_count": 244,
   "metadata": {},
   "outputs": [],
   "source": [
    "# initialising the total risk score column\n",
    "dataframe['RiskScore'] = 0"
   ]
  },
  {
   "cell_type": "code",
   "execution_count": 245,
   "metadata": {},
   "outputs": [],
   "source": [
    "dataframe['RiskScore'] = dataframe['RiskScore'] + (10 * dataframe['HadStroke'])"
   ]
  },
  {
   "cell_type": "code",
   "execution_count": 246,
   "metadata": {},
   "outputs": [],
   "source": [
    "dataframe['RiskScore'] = dataframe['RiskScore'] + (9.5 * dataframe['HadHeartAttack'])"
   ]
  },
  {
   "cell_type": "code",
   "execution_count": 247,
   "metadata": {},
   "outputs": [],
   "source": [
    "dataframe['RiskScore'] = dataframe['RiskScore'] + (9 * dataframe['HadCOPD'])"
   ]
  },
  {
   "cell_type": "code",
   "execution_count": 248,
   "metadata": {},
   "outputs": [],
   "source": [
    "dataframe['RiskScore'] = dataframe['RiskScore'] + (8.5 * dataframe['HadDepressiveDisorder'])"
   ]
  },
  {
   "cell_type": "code",
   "execution_count": 249,
   "metadata": {},
   "outputs": [],
   "source": [
    "dataframe['RiskScore'] = dataframe['RiskScore'] + (8.5 * dataframe['BlindOrVisionDifficulty'])"
   ]
  },
  {
   "cell_type": "code",
   "execution_count": 250,
   "metadata": {},
   "outputs": [],
   "source": [
    "dataframe['RiskScore'] = dataframe['RiskScore'] + (8.5 * dataframe['DifficultyDressingBathing'])"
   ]
  },
  {
   "cell_type": "code",
   "execution_count": 251,
   "metadata": {},
   "outputs": [],
   "source": [
    "dataframe['RiskScore'] = dataframe['RiskScore'] + (8 * dataframe['HadAngina'])"
   ]
  },
  {
   "cell_type": "code",
   "execution_count": 252,
   "metadata": {},
   "outputs": [],
   "source": [
    "dataframe['RiskScore'] = dataframe['RiskScore'] + (7.5 * dataframe['HadArthritis'])"
   ]
  },
  {
   "cell_type": "code",
   "execution_count": 253,
   "metadata": {},
   "outputs": [],
   "source": [
    "dataframe['RiskScore'] = dataframe['RiskScore'] + (7.5 * dataframe['HadKidneyDisease'])"
   ]
  },
  {
   "cell_type": "code",
   "execution_count": 254,
   "metadata": {},
   "outputs": [],
   "source": [
    "dataframe['RiskScore'] = dataframe['RiskScore'] + (7 * dataframe['DifficultyConcentrating'])"
   ]
  },
  {
   "cell_type": "code",
   "execution_count": 257,
   "metadata": {},
   "outputs": [],
   "source": [
    "dataframe.loc[dataframe['HadDiabetes'] == 0, 'RiskScore'] = dataframe['RiskScore'] + (7 * 0)\n",
    "dataframe.loc[dataframe['HadDiabetes'] == 0.5, 'RiskScore'] = dataframe['RiskScore'] + (7 * 0.5)\n",
    "dataframe.loc[dataframe['HadDiabetes'] == 1, 'RiskScore'] = dataframe['RiskScore'] + (7 * 1)"
   ]
  },
  {
   "cell_type": "code",
   "execution_count": 258,
   "metadata": {},
   "outputs": [],
   "source": [
    "dataframe['RiskScore'] = dataframe['RiskScore'] + (6.5 * dataframe['HadAsthma'])"
   ]
  },
  {
   "cell_type": "code",
   "execution_count": 259,
   "metadata": {},
   "outputs": [],
   "source": [
    "dataframe['RiskScore'] = dataframe['RiskScore'] + (6 * dataframe['DifficultyErrands'])"
   ]
  },
  {
   "cell_type": "code",
   "execution_count": 260,
   "metadata": {},
   "outputs": [],
   "source": [
    "dataframe['RiskScore'] = dataframe['RiskScore'] + (6 * dataframe['DeafOrHardOfHearing'])"
   ]
  },
  {
   "cell_type": "code",
   "execution_count": 261,
   "metadata": {},
   "outputs": [],
   "source": [
    "dataframe['RiskScore'] = dataframe['RiskScore'] + (5.5 * dataframe['HadSkinCancer'])"
   ]
  },
  {
   "cell_type": "code",
   "execution_count": 262,
   "metadata": {},
   "outputs": [],
   "source": [
    "dataframe.loc[dataframe['CalculatedBMI'] < 18.5, 'RiskScore'] = dataframe['RiskScore'] + (5 * dataframe['CalculatedBMI'])\n",
    "dataframe.loc[dataframe['CalculatedBMI'] > 24.9, 'RiskScore'] = dataframe['RiskScore'] + (4.5 * dataframe['CalculatedBMI'])"
   ]
  },
  {
   "cell_type": "code",
   "execution_count": 263,
   "metadata": {},
   "outputs": [],
   "source": [
    "dataframe.loc[dataframe['SmokerStatus'] == 'never smoked', 'RiskScore'] = dataframe['RiskScore'] + 2\n",
    "dataframe.loc[dataframe['SmokerStatus'] == 'former smoker', 'RiskScore'] = dataframe['RiskScore'] + 2.5\n",
    "dataframe.loc[dataframe['SmokerStatus'] == 'current smoker - now smokes some days', 'RiskScore'] = dataframe['RiskScore'] + 3.5\n",
    "dataframe.loc[dataframe['SmokerStatus'] == 'current smoker - now smokes every day', 'RiskScore'] = dataframe['RiskScore'] + 4.5"
   ]
  },
  {
   "cell_type": "code",
   "execution_count": 264,
   "metadata": {},
   "outputs": [],
   "source": [
    "dataframe.loc[dataframe['ECigaretteUsage'] == 'never used e-cigarettes in my entire life', 'RiskScore'] = dataframe['RiskScore'] + 2\n",
    "dataframe.loc[dataframe['ECigaretteUsage'] == 'not at all (right now)', 'RiskScore'] = dataframe['RiskScore'] + 2\n",
    "dataframe.loc[dataframe['ECigaretteUsage'] == 'use them some days', 'RiskScore'] = dataframe['RiskScore'] + 3\n",
    "dataframe.loc[dataframe['ECigaretteUsage'] == 'use them every day', 'RiskScore'] = dataframe['RiskScore'] + 4"
   ]
  },
  {
   "cell_type": "code",
   "execution_count": 265,
   "metadata": {},
   "outputs": [],
   "source": [
    "dataframe['RiskScore'] = dataframe['RiskScore'] + (2 * dataframe['AlcoholDrinkers'])"
   ]
  },
  {
   "cell_type": "code",
   "execution_count": 266,
   "metadata": {},
   "outputs": [],
   "source": [
    "dataframe.loc[dataframe['SleepHours'] < 7.0, 'RiskScore'] = dataframe['RiskScore'] + 1.5"
   ]
  },
  {
   "cell_type": "code",
   "execution_count": 267,
   "metadata": {},
   "outputs": [],
   "source": [
    "dataframe.to_csv('/Users/nikgurunathan/Desktop/Heart_cleaned.csv', index=False)"
   ]
  },
  {
   "cell_type": "markdown",
   "metadata": {},
   "source": [
    "3. coding the unsupervised learning model (K-Means)"
   ]
  },
  {
   "cell_type": "code",
   "execution_count": 268,
   "metadata": {},
   "outputs": [],
   "source": [
    "from sklearn.cluster import KMeans"
   ]
  },
  {
   "cell_type": "code",
   "execution_count": 269,
   "metadata": {},
   "outputs": [],
   "source": [
    "dataframe['TrueHealth'] = 'default_value'\n",
    "dataframe.to_csv('/Users/nikgurunathan/Desktop/Heart_cleaned.csv', index=False)"
   ]
  },
  {
   "cell_type": "code",
   "execution_count": 270,
   "metadata": {},
   "outputs": [
    {
     "data": {
      "image/png": "[encoded data removed]",
      "text/plain": [
       "<Figure size 800x500 with 1 Axes>"
      ]
     },
     "metadata": {},
     "output_type": "display_data"
    }
   ],
   "source": [
    "data = dataframe[['RiskScore']]\n",
    "\n",
    "# testing different 'n_init' values\n",
    "n_init_values = [1, 5, 10, 20, 25, 50, 75, 100]\n",
    "inertia_values = []\n",
    "\n",
    "for n in n_init_values:\n",
    "    kmeans = KMeans(n_clusters=5, random_state=42, n_init=n).fit(data)\n",
    "    inertia_values.append(kmeans.inertia_)\n",
    "\n",
    "# plotting inertia vs 'n_init' values\n",
    "plt.figure(figsize=(8,5))\n",
    "plt.plot(n_init_values, inertia_values, marker='o')\n",
    "plt.xticks(np.arange(0,100,10))\n",
    "plt.xlabel(\"n_init\")\n",
    "plt.ylabel(\"inertia\")\n",
    "plt.title(\"effect of n_init value on inertia\")\n",
    "plt.grid(True)\n",
    "plt.show()"
   ]
  },
  {
   "cell_type": "code",
   "execution_count": 271,
   "metadata": {},
   "outputs": [
    {
     "name": "stdout",
     "output_type": "stream",
     "text": [
      "    RiskScore TrueHealth\n",
      "0  136.719723       good\n",
      "1  130.601562       good\n",
      "2  126.927624       good\n",
      "3   19.500000  excellent\n",
      "4    6.000000  excellent\n",
      "TrueHealth\n",
      "good         144826\n",
      "very good    114388\n",
      "excellent     99040\n",
      "poor          59909\n",
      "fair          26599\n",
      "Name: count, dtype: int64\n"
     ]
    }
   ],
   "source": [
    "# actually coding the model\n",
    "column = dataframe['RiskScore']\n",
    "riskscore_2d = column.values.reshape(-1,1) # changing it to a 2D array\n",
    "\n",
    "kmeans_minirs = KMeans(n_clusters=5, random_state=42, n_init=10).fit(riskscore_2d)\n",
    "\n",
    "labels = kmeans_minirs.labels_\n",
    "\n",
    "centroids = kmeans_minirs.cluster_centers_.flatten()\n",
    "\n",
    "sorted_labels = np.argsort(centroids)\n",
    "\n",
    "label_mapping = {original: sorted for sorted, original in enumerate(sorted_labels)}\n",
    "\n",
    "remapped_labels = [label_mapping[label] for label in labels]\n",
    "\n",
    "status_mapping = {\n",
    "    0: \"good\",\n",
    "    1: \"excellent\",\n",
    "    2: \"poor\",\n",
    "    3: \"very good\",\n",
    "    4: \"fair\"\n",
    "}\n",
    "health_statuses = [status_mapping[label] for label in labels]\n",
    "\n",
    "dataframe['TrueHealth'] = health_statuses\n",
    "\n",
    "print(dataframe[['RiskScore', 'TrueHealth']].head())\n",
    "\n",
    "print(dataframe['TrueHealth'].value_counts())\n",
    "\n",
    "df.to_csv('/Users/nikgurunathan/Desktop/Heart_cleaned.csv', index=False)"
   ]
  },
  {
   "cell_type": "code",
   "execution_count": 272,
   "metadata": {},
   "outputs": [
    {
     "data": {
      "image/png": "[encoded data removed]",
      "text/plain": [
       "<Figure size 1000x600 with 1 Axes>"
      ]
     },
     "metadata": {},
     "output_type": "display_data"
    }
   ],
   "source": [
    "# Plot the RiskScore against the assigned health status\n",
    "plt.figure(figsize=(10, 6))\n",
    "plt.scatter(dataframe['RiskScore'], np.zeros_like(dataframe['RiskScore']), c=labels, cmap='viridis', marker='o')\n",
    "\n",
    "# Add centroids to the plot\n",
    "centroids = kmeans_minirs.cluster_centers_\n",
    "plt.scatter(centroids, np.zeros_like(centroids), color='red', marker='x', s=200, label='Centroids')\n",
    "\n",
    "# Customize the plot\n",
    "plt.xlabel('RiskScore')\n",
    "plt.title('RiskScore Clustering with Health Statuses')\n",
    "plt.legend()\n",
    "plt.show()\n"
   ]
  },
  {
   "cell_type": "code",
   "execution_count": 273,
   "metadata": {},
   "outputs": [
    {
     "name": "stdout",
     "output_type": "stream",
     "text": [
      "Calinski-Harabasz Index: 5709982.535\n",
      "Davies-Bouldin Index: 0.550\n"
     ]
    }
   ],
   "source": [
    "# evaluating the model\n",
    "\n",
    "from sklearn.metrics import silhouette_score, calinski_harabasz_score, davies_bouldin_score\n",
    "\n",
    "# silhouette_avg = silhouette_score(riskscore_2d, labels) # commented as it takes too long to compute\n",
    "calinski_harabasz = calinski_harabasz_score(riskscore_2d, labels)\n",
    "davies_bouldin = davies_bouldin_score(riskscore_2d, labels)\n",
    "\n",
    "# print(f\"Silhouette Score: {silhouette_avg:.3f}\")\n",
    "print(f\"Calinski-Harabasz Index: {calinski_harabasz:.3f}\")\n",
    "print(f\"Davies-Bouldin Index: {davies_bouldin:.3f}\")"
   ]
  },
  {
   "cell_type": "code",
   "execution_count": 274,
   "metadata": {},
   "outputs": [],
   "source": [
    "dataframe.to_csv('Heart_cleaned.csv', index=False)"
   ]
  },
  {
   "cell_type": "code",
   "execution_count": null,
   "metadata": {},
   "outputs": [],
   "source": []
  }
 ],
 "metadata": {
  "kernelspec": {
   "display_name": ".venv",
   "language": "python",
   "name": "python3"
  },
  "language_info": {
   "codemirror_mode": {
    "name": "ipython",
    "version": 3
   },
   "file_extension": ".py",
   "mimetype": "text/x-python",
   "name": "python",
   "nbconvert_exporter": "python",
   "pygments_lexer": "ipython3",
   "version": "3.13.1"
  }
 },
 "nbformat": 4,
 "nbformat_minor": 2
}

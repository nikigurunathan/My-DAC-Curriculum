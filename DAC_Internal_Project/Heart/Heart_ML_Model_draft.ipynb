{
 "cells": [
  {
   "cell_type": "markdown",
   "metadata": {},
   "source": [
    "step one: cleaning the data"
   ]
  },
  {
   "cell_type": "code",
   "execution_count": 40,
   "metadata": {},
   "outputs": [],
   "source": [
    "import pandas as pd\n",
    "import numpy as np\n",
    "import seaborn as sns\n",
    "import matplotlib.pyplot as plt"
   ]
  },
  {
   "cell_type": "code",
   "execution_count": 41,
   "metadata": {},
   "outputs": [],
   "source": [
    "df = pd.read_csv('/Users/nikgurunathan/dac/My-DAC-Curriculum/DAC_Internal_Project/Heart/Heart.csv')"
   ]
  },
  {
   "cell_type": "code",
   "execution_count": 42,
   "metadata": {},
   "outputs": [
    {
     "name": "stdout",
     "output_type": "stream",
     "text": [
      "(444975, 40)\n"
     ]
    }
   ],
   "source": [
    "# removing duplicates\n",
    "df = df.drop_duplicates()\n",
    "print(df.shape)"
   ]
  },
  {
   "cell_type": "code",
   "execution_count": 43,
   "metadata": {},
   "outputs": [
    {
     "name": "stdout",
     "output_type": "stream",
     "text": [
      "Invalid BMI entries: 80\n",
      "Invalid Sleep Hours entries: 0\n",
      "Suspicious sleep hours to check again: 2773\n"
     ]
    }
   ],
   "source": [
    "# Logic checks\n",
    "invalid_bmi = df[(df['BMI'] < 10) | (df['BMI'] > 80)]  # BMI typically ranges from 10 to 50\n",
    "invalid_sleep = df[(df['SleepHours'] < 0) | (df['SleepHours'] > 24)]  # Sleep hours must be 0-24\n",
    "suspicious_sleep_values = df[(df['SleepHours'] < 3) | (df['SleepHours'] > 22)] #maybe cap as outliers (?)\n",
    "\n",
    "\n",
    "print(f\"Invalid BMI entries: {len(invalid_bmi)}\")\n",
    "print(f\"Invalid Sleep Hours entries: {len(invalid_sleep)}\")\n",
    "print(f\"Suspicious sleep hours to check again: {len(suspicious_sleep_values)}\")\n",
    "\n",
    "\n",
    "#Creating an Accurate Calculated BMI column\n",
    "df['CalculatedBMI'] = df['WeightInKilograms'] / (df['HeightInMeters'] ** 2)"
   ]
  },
  {
   "cell_type": "code",
   "execution_count": 44,
   "metadata": {},
   "outputs": [
    {
     "name": "stdout",
     "output_type": "stream",
     "text": [
      "Number of inconsistencies with Age Category logic (age 65+ but no major health conditions): 0\n"
     ]
    }
   ],
   "source": [
    "# If AgeCategory is '65 or older', they should likely report having at least one of the following: Heart Attack, Stroke, or Diabetes\n",
    "age_category_inconsistencies = df[\n",
    "    (df['AgeCategory'] == '65 or older') &\n",
    "    ~(df[['HadHeartAttack', 'HadStroke', 'HadDiabetes']].any(axis=1))\n",
    "]\n",
    "print(f\"Number of inconsistencies with Age Category logic (age 65+ but no major health conditions): {len(age_category_inconsistencies)}\")\n"
   ]
  },
  {
   "cell_type": "code",
   "execution_count": 45,
   "metadata": {},
   "outputs": [
    {
     "name": "stdout",
     "output_type": "stream",
     "text": [
      "Number of inconsistencies with Smoking status logic (smoker but no major related health conditions): 0\n"
     ]
    }
   ],
   "source": [
    "# If SmokerStatus is 'Yes', they should likely report at least one of these conditions\n",
    "smoker_inconsistencies = df[\n",
    "    (df['SmokerStatus'] == 'Yes') &\n",
    "    ~(df[['HadHeartAttack', 'HadCOPD', 'HadAsthma', 'HadStroke']].any(axis=1))  # None of these is True\n",
    "]\n",
    "print(f\"Number of inconsistencies with Smoking status logic (smoker but no major related health conditions): {len(smoker_inconsistencies)}\")"
   ]
  },
  {
   "cell_type": "code",
   "execution_count": 46,
   "metadata": {},
   "outputs": [
    {
     "name": "stdout",
     "output_type": "stream",
     "text": [
      "Number of inconsistencies with Walking Difficulty logic (difficulty walking but no related difficulties): 0\n"
     ]
    }
   ],
   "source": [
    "# If DifficultyWalking is True, then at least one of DifficultyDressingBathing or DifficultyErrands should also be True\n",
    "walking_inconsistencies = df[\n",
    "    (df['DifficultyWalking'] == True) &\n",
    "    ~(df[['DifficultyDressingBathing', 'DifficultyErrands']].any(axis=1))  # None of these is True\n",
    "]\n",
    "print(f\"Number of inconsistencies with Walking Difficulty logic (difficulty walking but no related difficulties): {len(walking_inconsistencies)}\")"
   ]
  },
  {
   "cell_type": "code",
   "execution_count": 47,
   "metadata": {},
   "outputs": [
    {
     "name": "stdout",
     "output_type": "stream",
     "text": [
      "Number of inconsistencies with COPD logic (COPD but no difficulties with daily activities): 0\n"
     ]
    }
   ],
   "source": [
    "# If HadCOPD is True, then at least one of these three difficulties should also be True\n",
    "copd_inconsistencies = df[\n",
    "    (df['HadCOPD'] == True) &\n",
    "    ~(df[['DifficultyWalking', 'DifficultyDressingBathing', 'DifficultyErrands']].any(axis=1))  # None of these is True\n",
    "]\n",
    "print(f\"Number of inconsistencies with COPD logic (COPD but no difficulties with daily activities): {len(copd_inconsistencies)}\")"
   ]
  },
  {
   "cell_type": "code",
   "execution_count": 48,
   "metadata": {},
   "outputs": [
    {
     "name": "stdout",
     "output_type": "stream",
     "text": [
      "Number of inconsistencies with Heart Attack logic (Heart Attack but no related conditions reported): 0\n"
     ]
    }
   ],
   "source": [
    "# If HadHeartAttack is True, then at least one of Stroke, Angina, or ChestScan should be True\n",
    "heart_attack_inconsistencies = df[\n",
    "    (df['HadHeartAttack'] == True) &\n",
    "    ~(df[['HadStroke', 'HadAngina', 'ChestScan']].any(axis=1))  # None of these is True\n",
    "]\n",
    "print(f\"Number of inconsistencies with Heart Attack logic (Heart Attack but no related conditions reported): {len(heart_attack_inconsistencies)}\")"
   ]
  },
  {
   "cell_type": "code",
   "execution_count": 49,
   "metadata": {},
   "outputs": [
    {
     "name": "stdout",
     "output_type": "stream",
     "text": [
      "Number of inconsistencies with Sleep Hours logic (abnormal sleep but no related health conditions): 4\n"
     ]
    }
   ],
   "source": [
    "# If SleepHours is less than 4 or more than 12, we expect at least one of the health conditions to be True\n",
    "sleep_hours_inconsistencies = df[\n",
    "    ((df['SleepHours'] < 5) | (df['SleepHours'] > 12)) &\n",
    "    ~(df[['HadDepressiveDisorder', 'HadHeartAttack', 'HadAngina', 'HadStroke', 'HadSkinCancer', 'HadAsthma', 'HadCOPD', 'HadDepressiveDisorder', 'HadKidneyDisease', 'HadArthritis', 'HadDiabetes', 'DifficultyConcentrating', 'HighRiskLastYear']].any(axis=1))  # None of these is True\n",
    "]\n",
    "print(f\"Number of inconsistencies with Sleep Hours logic (abnormal sleep but no related health conditions): {len(sleep_hours_inconsistencies)}\")"
   ]
  },
  {
   "cell_type": "code",
   "execution_count": 50,
   "metadata": {},
   "outputs": [],
   "source": [
    "# If PhysicalHealthDays is 0, they should not report significant limitations in daily activities\n",
    "physical_health_inconsistencies = df[\n",
    "    (df['PhysicalHealthDays'] == 0) &\n",
    "    ~(df[['DifficultyWalking', 'DifficultyDressingBathing', 'DifficultyErrands']].any(axis=1))]  # No difficulty reported"
   ]
  },
  {
   "cell_type": "code",
   "execution_count": 51,
   "metadata": {},
   "outputs": [
    {
     "name": "stdout",
     "output_type": "stream",
     "text": [
      "Number of inconsistencies with Physical Health Days logic (0 health days but activity limitations): 14233\n"
     ]
    }
   ],
   "source": [
    "print(f\"Number of inconsistencies with Physical Health Days logic (0 health days but activity limitations): {len(physical_health_inconsistencies)}\")"
   ]
  },
  {
   "cell_type": "code",
   "execution_count": 52,
   "metadata": {},
   "outputs": [
    {
     "name": "stdout",
     "output_type": "stream",
     "text": [
      "State                        0\n",
      "Sex                          0\n",
      "GeneralHealth                0\n",
      "PhysicalHealthDays           0\n",
      "MentalHealthDays             0\n",
      "LastCheckupTime              0\n",
      "PhysicalActivities           0\n",
      "SleepHours                   0\n",
      "RemovedTeeth                 0\n",
      "HadHeartAttack               0\n",
      "HadAngina                    0\n",
      "HadStroke                    0\n",
      "HadAsthma                    0\n",
      "HadSkinCancer                0\n",
      "HadCOPD                      0\n",
      "HadDepressiveDisorder        0\n",
      "HadKidneyDisease             0\n",
      "HadArthritis                 0\n",
      "HadDiabetes                  0\n",
      "DeafOrHardOfHearing          0\n",
      "BlindOrVisionDifficulty      0\n",
      "DifficultyConcentrating      0\n",
      "DifficultyWalking            0\n",
      "DifficultyDressingBathing    0\n",
      "DifficultyErrands            0\n",
      "SmokerStatus                 0\n",
      "ECigaretteUsage              0\n",
      "ChestScan                    0\n",
      "RaceEthnicityCategory        0\n",
      "AgeCategory                  0\n",
      "HeightInMeters               0\n",
      "WeightInKilograms            0\n",
      "BMI                          0\n",
      "AlcoholDrinkers              0\n",
      "HIVTesting                   0\n",
      "FluVaxLast12                 0\n",
      "PneumoVaxEver                0\n",
      "TetanusLast10Tdap            0\n",
      "HighRiskLastYear             0\n",
      "CovidPos                     0\n",
      "CalculatedBMI                0\n",
      "dtype: int64\n"
     ]
    }
   ],
   "source": [
    "# Fill in missing values for numerical + object columns\n",
    "df.fillna({col: df[col].median() for col in df.select_dtypes('float64')}, inplace=True)\n",
    "df.fillna({col: df[col].mode().iloc[0] for col in df.select_dtypes('object')}, inplace=True)\n",
    "\n",
    "\n",
    "print(df.isnull().sum()) #to check\n"
   ]
  },
  {
   "cell_type": "code",
   "execution_count": 53,
   "metadata": {},
   "outputs": [
    {
     "data": {
      "image/png": "[encoded data removed]",
      "text/plain": [
       "<Figure size 640x480 with 1 Axes>"
      ]
     },
     "metadata": {},
     "output_type": "display_data"
    }
   ],
   "source": [
    "def cap_outliers(df, columns, lower_percentile=0.05, upper_percentile=0.95):\n",
    "    for column in columns:\n",
    "        lower_bound = df[column].quantile(lower_percentile)\n",
    "        upper_bound = df[column].quantile(upper_percentile)\n",
    "       \n",
    "        # Apply capping\n",
    "        df[column] = df[column].apply(lambda x: min(max(x, lower_bound), upper_bound))\n",
    "   \n",
    "    return df\n",
    "\n",
    "\n",
    "# List of columns to cap\n",
    "columns_to_cap = ['WeightInKilograms', 'HeightInMeters', 'BMI', 'CalculatedBMI', 'SleepHours']\n",
    "\n",
    "\n",
    "# Apply the capping\n",
    "df_cleaned = cap_outliers(df, columns_to_cap)\n",
    "\n",
    "\n",
    "# Verification of capping\n",
    "sns.boxplot(data=df[columns_to_cap])\n",
    "plt.title(\"After Capping\")\n",
    "plt.xticks(rotation=45)\n",
    "plt.show()\n"
   ]
  },
  {
   "cell_type": "code",
   "execution_count": 54,
   "metadata": {},
   "outputs": [],
   "source": [
    "for col in df.select_dtypes(include=['category', 'object']).columns:\n",
    "    df[col] = df[col].str.strip().str.lower()\n"
   ]
  },
  {
   "cell_type": "code",
   "execution_count": 55,
   "metadata": {},
   "outputs": [],
   "source": [
    "dataframe = df.drop_duplicates()\n"
   ]
  },
  {
   "cell_type": "code",
   "execution_count": 56,
   "metadata": {},
   "outputs": [],
   "source": [
    "dataframe.to_csv('Heart_cleaned.csv', index=False)"
   ]
  },
  {
   "cell_type": "code",
   "execution_count": 57,
   "metadata": {},
   "outputs": [],
   "source": [
    "dataframe = pd.read_csv('/Users/nikgurunathan/dac/My-DAC-Curriculum/DAC_Internal_Project/Heart/Heart_cleaned.csv')"
   ]
  },
  {
   "cell_type": "code",
   "execution_count": 58,
   "metadata": {},
   "outputs": [
    {
     "name": "stderr",
     "output_type": "stream",
     "text": [
      "/var/folders/qn/4dpq089x26d0h5p0v709glyw0000gn/T/ipykernel_77956/3588986897.py:10: FutureWarning: DataFrame.applymap has been deprecated. Use DataFrame.map instead.\n",
      "  dataframe = dataframe.applymap(lambda x: yes_no_to_binary(x) if x in ['yes', 'no', 'no, pre-diabetes or borderline diabetes'] else x)\n"
     ]
    }
   ],
   "source": [
    "# converting yes/no columns to numeric\n",
    "def yes_no_to_binary(entry):\n",
    "    if entry == 'yes':\n",
    "        return 1\n",
    "    elif entry == 'no':\n",
    "        return 0\n",
    "    elif entry == 'no, pre-diabetes or borderline diabetes':\n",
    "        return 0.5\n",
    "\n",
    "dataframe = dataframe.applymap(lambda x: yes_no_to_binary(x) if x in ['yes', 'no', 'no, pre-diabetes or borderline diabetes'] else x)\n",
    "\n",
    "# initialising the total risk score column\n",
    "dataframe['TotalRiskScore'] = 0\n",
    "dataframe['HeartAttackRisk'] = 0\n",
    "dataframe['COPDRisk'] = 0\n",
    "dataframe['BlindRisk'] = 0\n",
    "dataframe['DepressiveRisk'] = 0\n",
    "dataframe['WalkingRisk'] = 0\n",
    "dataframe['KidneyRisk'] = 0\n",
    "dataframe['DiabetesRisk'] = 0\n",
    "dataframe['SkinCancerRisk'] = 0\n",
    "dataframe['DeafRisk'] = 0"
   ]
  },
  {
   "cell_type": "markdown",
   "metadata": {},
   "source": [
    "the higher the base risk score, the more disruptive the illness or inconvenience\n",
    "the following is the order followed, with the allocated points from most to least disruptive:\n",
    "1. heart attack, 9 points\n",
    "2. COPD, 8 points\n",
    "3. blind / vision difficulties, 7 points\n",
    "4. depressive disorder, 6 points\n",
    "5. difficulty walking, 5 points\n",
    "6. kidney disease, 4 points\n",
    "7. diabetes, 3 points\n",
    "8. skin cancer, 2 points\n",
    "9. deaf / hard of hearing, 1 point"
   ]
  },
  {
   "cell_type": "code",
   "execution_count": 59,
   "metadata": {},
   "outputs": [],
   "source": [
    "# heart attack\n",
    "base_heartattack = 9\n",
    "# dataframe['HeartAttackRisk'] += dataframe['HadHeartAttack'] * base_heartattack\n",
    "# dataframe['HeartAttackRisk'] += (dataframe['HadAngina']*2) * dataframe['HadHeartAttack']\n",
    "# dataframe['HeartAttackRisk'] += ( + dataframe['HadStroke']*3) * dataframe['HadHeartAttack']\n",
    "dataframe['HeartAttackRisk'] += (dataframe['HadAngina'] & dataframe['HadStroke']) * 1 * dataframe['HadHeartAttack'] # extra point if both"
   ]
  },
  {
   "cell_type": "code",
   "execution_count": 60,
   "metadata": {},
   "outputs": [],
   "source": [
    "# COPD\n",
    "base_copd = 8\n",
    "dataframe['COPDRisk'] += dataframe['HadCOPD'] * base_copd\n",
    "dataframe['COPDRisk'] += dataframe['HadAsthma'] * dataframe['HadCOPD']\n",
    "\n",
    "def smoker_points(status):\n",
    "    if status == 'never smoked':\n",
    "        return 0\n",
    "    elif status == 'former smoker':\n",
    "        return 1\n",
    "    elif status == 'current smoker - now smokes some days':\n",
    "        return 2\n",
    "    elif status == 'current smoker - now smokes every day':\n",
    "        return 5\n",
    "    return 0\n",
    "\n",
    "dataframe['SmokerPoints'] = dataframe['SmokerStatus'].apply(smoker_points)\n",
    "dataframe['COPDRisk'] += dataframe['HadCOPD'] * dataframe['SmokerPoints']\n",
    "\n",
    "def ecig_points(usage):\n",
    "    if usage == 'never used e-cigarettes in my entire life':\n",
    "        return 0\n",
    "    elif usage == 'not at all (right now)':\n",
    "        return 1\n",
    "    elif usage == 'use them some days':\n",
    "        return 2\n",
    "    elif usage == 'use them every day':\n",
    "        return 4\n",
    "    return 0\n",
    "\n",
    "dataframe['ECigPoints'] = dataframe['ECigaretteUsage'].apply(ecig_points)\n",
    "dataframe['COPDRisk'] += dataframe['HadCOPD'] * dataframe['ECigPoints']"
   ]
  },
  {
   "cell_type": "code",
   "execution_count": 61,
   "metadata": {},
   "outputs": [],
   "source": [
    "# blind / vision difficulty\n",
    "base_blind = 7\n",
    "dataframe['BlindRisk'] += dataframe['BlindOrVisionDifficulty'] * base_blind"
   ]
  },
  {
   "cell_type": "code",
   "execution_count": 62,
   "metadata": {},
   "outputs": [],
   "source": [
    "# depressive disorder\n",
    "base_depressive = 6\n",
    "dataframe['DepressiveRisk'] += dataframe['HadDepressiveDisorder'] * base_depressive\n",
    "dataframe['DepressiveRisk'] += dataframe['DifficultyErrands'] * 2 * dataframe['HadDepressiveDisorder']\n",
    "dataframe['DepressiveRisk'] += dataframe['DifficultyDressingBathing'] * 5 * dataframe['HadDepressiveDisorder']\n",
    "\n",
    "dataframe['DepressiveRisk'] += (dataframe['DifficultyErrands'] & dataframe['DifficultyDressingBathing']) * 2 * dataframe['HadDepressiveDisorder']"
   ]
  },
  {
   "cell_type": "code",
   "execution_count": 63,
   "metadata": {},
   "outputs": [],
   "source": [
    "# difficulty walking\n",
    "base_walking = 5\n",
    "dataframe['WalkingRisk'] += dataframe['DifficultyWalking'] * base_walking\n",
    "dataframe['WalkingRisk'] += dataframe['HadArthritis'] * dataframe['DifficultyWalking']"
   ]
  },
  {
   "cell_type": "code",
   "execution_count": 64,
   "metadata": {},
   "outputs": [],
   "source": [
    "# kidney disease\n",
    "base_kidney = 4\n",
    "dataframe['KidneyRisk'] += dataframe['HadKidneyDisease'] * base_kidney\n",
    "dataframe['KidneyRisk'] += dataframe['AlcoholDrinkers'] * 2 * dataframe['HadKidneyDisease']"
   ]
  },
  {
   "cell_type": "code",
   "execution_count": 65,
   "metadata": {},
   "outputs": [],
   "source": [
    "#diabetes\n",
    "dataframe['DiabetesRisk'] = pd.to_numeric(dataframe['DiabetesRisk'], errors='coerce').fillna(0)\n",
    "dataframe['HadDiabetes'] = pd.to_numeric(dataframe['HadDiabetes'], errors='coerce').fillna(0)\n"
   ]
  },
  {
   "cell_type": "code",
   "execution_count": 66,
   "metadata": {},
   "outputs": [],
   "source": [
    "# diabetes\n",
    "base_diabetes = 3\n",
    "# dataframe['DiabetesRisk'] = pd.to_numeric(dataframe['DiabetesRisk'], errors='coerce').fillna(0)\n",
    "dataframe['DiabetesRisk'] += dataframe['HadDiabetes'] * base_diabetes"
   ]
  },
  {
   "cell_type": "code",
   "execution_count": 67,
   "metadata": {},
   "outputs": [],
   "source": [
    "# skin cancer\n",
    "base_skincancer = 2\n",
    "dataframe['SkinCancerRisk'] += dataframe['HadSkinCancer'] * base_skincancer"
   ]
  },
  {
   "cell_type": "code",
   "execution_count": 68,
   "metadata": {},
   "outputs": [],
   "source": [
    "# deaf / heard of hearing\n",
    "base_deaf = 1\n",
    "dataframe['DeafRisk'] += dataframe['DeafOrHardOfHearing'] * base_deaf"
   ]
  },
  {
   "cell_type": "code",
   "execution_count": 69,
   "metadata": {},
   "outputs": [],
   "source": [
    "dataframe['TotalRiskScore'] = (\n",
    "    dataframe['HeartAttackRisk'] +\n",
    "    dataframe['COPDRisk'] +\n",
    "    dataframe['BlindRisk'] +\n",
    "    dataframe['DepressiveRisk'] +\n",
    "    dataframe['WalkingRisk'] +\n",
    "    dataframe['KidneyRisk'] +\n",
    "    dataframe['DiabetesRisk'] +\n",
    "    dataframe['SkinCancerRisk'] +\n",
    "    dataframe['DeafRisk']\n",
    ")\n",
    "dataframe.to_csv('/Users/nikgurunathan/dac/My-DAC-Curriculum/DAC_Internal_Project/Heart/Heart_cleaned.csv', index=False)"
   ]
  },
  {
   "cell_type": "code",
   "execution_count": 70,
   "metadata": {},
   "outputs": [
    {
     "data": {
      "text/html": [
       "<div>\n",
       "<style scoped>\n",
       "    .dataframe tbody tr th:only-of-type {\n",
       "        vertical-align: middle;\n",
       "    }\n",
       "\n",
       "    .dataframe tbody tr th {\n",
       "        vertical-align: top;\n",
       "    }\n",
       "\n",
       "    .dataframe thead th {\n",
       "        text-align: right;\n",
       "    }\n",
       "</style>\n",
       "<table border=\"1\" class=\"dataframe\">\n",
       "  <thead>\n",
       "    <tr style=\"text-align: right;\">\n",
       "      <th></th>\n",
       "      <th>State</th>\n",
       "      <th>Sex</th>\n",
       "      <th>GeneralHealth</th>\n",
       "      <th>PhysicalHealthDays</th>\n",
       "      <th>MentalHealthDays</th>\n",
       "      <th>LastCheckupTime</th>\n",
       "      <th>PhysicalActivities</th>\n",
       "      <th>SleepHours</th>\n",
       "      <th>RemovedTeeth</th>\n",
       "      <th>HadHeartAttack</th>\n",
       "      <th>...</th>\n",
       "      <th>COPDRisk</th>\n",
       "      <th>BlindRisk</th>\n",
       "      <th>DepressiveRisk</th>\n",
       "      <th>WalkingRisk</th>\n",
       "      <th>KidneyRisk</th>\n",
       "      <th>DiabetesRisk</th>\n",
       "      <th>SkinCancerRisk</th>\n",
       "      <th>DeafRisk</th>\n",
       "      <th>SmokerPoints</th>\n",
       "      <th>ECigPoints</th>\n",
       "    </tr>\n",
       "  </thead>\n",
       "  <tbody>\n",
       "    <tr>\n",
       "      <th>0</th>\n",
       "      <td>alabama</td>\n",
       "      <td>female</td>\n",
       "      <td>very good</td>\n",
       "      <td>0.0</td>\n",
       "      <td>0.0</td>\n",
       "      <td>within past year (anytime less than 12 months ...</td>\n",
       "      <td>0</td>\n",
       "      <td>8.0</td>\n",
       "      <td>none of them</td>\n",
       "      <td>0</td>\n",
       "      <td>...</td>\n",
       "      <td>0</td>\n",
       "      <td>0</td>\n",
       "      <td>0</td>\n",
       "      <td>0</td>\n",
       "      <td>0</td>\n",
       "      <td>3.0</td>\n",
       "      <td>0</td>\n",
       "      <td>0</td>\n",
       "      <td>0</td>\n",
       "      <td>1</td>\n",
       "    </tr>\n",
       "    <tr>\n",
       "      <th>1</th>\n",
       "      <td>alabama</td>\n",
       "      <td>female</td>\n",
       "      <td>excellent</td>\n",
       "      <td>0.0</td>\n",
       "      <td>0.0</td>\n",
       "      <td>within past year (anytime less than 12 months ...</td>\n",
       "      <td>0</td>\n",
       "      <td>6.0</td>\n",
       "      <td>none of them</td>\n",
       "      <td>0</td>\n",
       "      <td>...</td>\n",
       "      <td>0</td>\n",
       "      <td>0</td>\n",
       "      <td>0</td>\n",
       "      <td>0</td>\n",
       "      <td>0</td>\n",
       "      <td>0.0</td>\n",
       "      <td>2</td>\n",
       "      <td>0</td>\n",
       "      <td>0</td>\n",
       "      <td>0</td>\n",
       "    </tr>\n",
       "    <tr>\n",
       "      <th>2</th>\n",
       "      <td>alabama</td>\n",
       "      <td>female</td>\n",
       "      <td>very good</td>\n",
       "      <td>2.0</td>\n",
       "      <td>3.0</td>\n",
       "      <td>within past year (anytime less than 12 months ...</td>\n",
       "      <td>1</td>\n",
       "      <td>5.0</td>\n",
       "      <td>none of them</td>\n",
       "      <td>0</td>\n",
       "      <td>...</td>\n",
       "      <td>0</td>\n",
       "      <td>0</td>\n",
       "      <td>0</td>\n",
       "      <td>0</td>\n",
       "      <td>0</td>\n",
       "      <td>0.0</td>\n",
       "      <td>2</td>\n",
       "      <td>0</td>\n",
       "      <td>0</td>\n",
       "      <td>0</td>\n",
       "    </tr>\n",
       "    <tr>\n",
       "      <th>3</th>\n",
       "      <td>alabama</td>\n",
       "      <td>female</td>\n",
       "      <td>excellent</td>\n",
       "      <td>0.0</td>\n",
       "      <td>0.0</td>\n",
       "      <td>within past year (anytime less than 12 months ...</td>\n",
       "      <td>1</td>\n",
       "      <td>7.0</td>\n",
       "      <td>none of them</td>\n",
       "      <td>0</td>\n",
       "      <td>...</td>\n",
       "      <td>0</td>\n",
       "      <td>0</td>\n",
       "      <td>0</td>\n",
       "      <td>0</td>\n",
       "      <td>0</td>\n",
       "      <td>0.0</td>\n",
       "      <td>0</td>\n",
       "      <td>0</td>\n",
       "      <td>2</td>\n",
       "      <td>0</td>\n",
       "    </tr>\n",
       "    <tr>\n",
       "      <th>4</th>\n",
       "      <td>alabama</td>\n",
       "      <td>female</td>\n",
       "      <td>fair</td>\n",
       "      <td>2.0</td>\n",
       "      <td>0.0</td>\n",
       "      <td>within past year (anytime less than 12 months ...</td>\n",
       "      <td>1</td>\n",
       "      <td>9.0</td>\n",
       "      <td>none of them</td>\n",
       "      <td>0</td>\n",
       "      <td>...</td>\n",
       "      <td>0</td>\n",
       "      <td>0</td>\n",
       "      <td>0</td>\n",
       "      <td>0</td>\n",
       "      <td>0</td>\n",
       "      <td>0.0</td>\n",
       "      <td>0</td>\n",
       "      <td>0</td>\n",
       "      <td>0</td>\n",
       "      <td>0</td>\n",
       "    </tr>\n",
       "    <tr>\n",
       "      <th>...</th>\n",
       "      <td>...</td>\n",
       "      <td>...</td>\n",
       "      <td>...</td>\n",
       "      <td>...</td>\n",
       "      <td>...</td>\n",
       "      <td>...</td>\n",
       "      <td>...</td>\n",
       "      <td>...</td>\n",
       "      <td>...</td>\n",
       "      <td>...</td>\n",
       "      <td>...</td>\n",
       "      <td>...</td>\n",
       "      <td>...</td>\n",
       "      <td>...</td>\n",
       "      <td>...</td>\n",
       "      <td>...</td>\n",
       "      <td>...</td>\n",
       "      <td>...</td>\n",
       "      <td>...</td>\n",
       "      <td>...</td>\n",
       "      <td>...</td>\n",
       "    </tr>\n",
       "    <tr>\n",
       "      <th>444757</th>\n",
       "      <td>virgin islands</td>\n",
       "      <td>female</td>\n",
       "      <td>good</td>\n",
       "      <td>0.0</td>\n",
       "      <td>3.0</td>\n",
       "      <td>within past 2 years (1 year but less than 2 ye...</td>\n",
       "      <td>1</td>\n",
       "      <td>6.0</td>\n",
       "      <td>none of them</td>\n",
       "      <td>0</td>\n",
       "      <td>...</td>\n",
       "      <td>0</td>\n",
       "      <td>0</td>\n",
       "      <td>6</td>\n",
       "      <td>0</td>\n",
       "      <td>0</td>\n",
       "      <td>0.0</td>\n",
       "      <td>0</td>\n",
       "      <td>0</td>\n",
       "      <td>0</td>\n",
       "      <td>0</td>\n",
       "    </tr>\n",
       "    <tr>\n",
       "      <th>444758</th>\n",
       "      <td>virgin islands</td>\n",
       "      <td>female</td>\n",
       "      <td>excellent</td>\n",
       "      <td>2.0</td>\n",
       "      <td>2.0</td>\n",
       "      <td>within past year (anytime less than 12 months ...</td>\n",
       "      <td>1</td>\n",
       "      <td>7.0</td>\n",
       "      <td>none of them</td>\n",
       "      <td>0</td>\n",
       "      <td>...</td>\n",
       "      <td>0</td>\n",
       "      <td>0</td>\n",
       "      <td>0</td>\n",
       "      <td>0</td>\n",
       "      <td>0</td>\n",
       "      <td>0.0</td>\n",
       "      <td>0</td>\n",
       "      <td>0</td>\n",
       "      <td>0</td>\n",
       "      <td>0</td>\n",
       "    </tr>\n",
       "    <tr>\n",
       "      <th>444759</th>\n",
       "      <td>virgin islands</td>\n",
       "      <td>female</td>\n",
       "      <td>poor</td>\n",
       "      <td>30.0</td>\n",
       "      <td>30.0</td>\n",
       "      <td>5 or more years ago</td>\n",
       "      <td>0</td>\n",
       "      <td>5.0</td>\n",
       "      <td>1 to 5</td>\n",
       "      <td>0</td>\n",
       "      <td>...</td>\n",
       "      <td>0</td>\n",
       "      <td>0</td>\n",
       "      <td>0</td>\n",
       "      <td>0</td>\n",
       "      <td>0</td>\n",
       "      <td>0.0</td>\n",
       "      <td>0</td>\n",
       "      <td>0</td>\n",
       "      <td>5</td>\n",
       "      <td>2</td>\n",
       "    </tr>\n",
       "    <tr>\n",
       "      <th>444760</th>\n",
       "      <td>virgin islands</td>\n",
       "      <td>male</td>\n",
       "      <td>very good</td>\n",
       "      <td>0.0</td>\n",
       "      <td>0.0</td>\n",
       "      <td>within past year (anytime less than 12 months ...</td>\n",
       "      <td>0</td>\n",
       "      <td>5.0</td>\n",
       "      <td>none of them</td>\n",
       "      <td>1</td>\n",
       "      <td>...</td>\n",
       "      <td>0</td>\n",
       "      <td>0</td>\n",
       "      <td>0</td>\n",
       "      <td>0</td>\n",
       "      <td>0</td>\n",
       "      <td>0.0</td>\n",
       "      <td>0</td>\n",
       "      <td>0</td>\n",
       "      <td>0</td>\n",
       "      <td>0</td>\n",
       "    </tr>\n",
       "    <tr>\n",
       "      <th>444761</th>\n",
       "      <td>virgin islands</td>\n",
       "      <td>male</td>\n",
       "      <td>very good</td>\n",
       "      <td>0.0</td>\n",
       "      <td>1.0</td>\n",
       "      <td>within past year (anytime less than 12 months ...</td>\n",
       "      <td>1</td>\n",
       "      <td>5.0</td>\n",
       "      <td>none of them</td>\n",
       "      <td>0</td>\n",
       "      <td>...</td>\n",
       "      <td>0</td>\n",
       "      <td>0</td>\n",
       "      <td>0</td>\n",
       "      <td>5</td>\n",
       "      <td>0</td>\n",
       "      <td>0.0</td>\n",
       "      <td>0</td>\n",
       "      <td>0</td>\n",
       "      <td>1</td>\n",
       "      <td>1</td>\n",
       "    </tr>\n",
       "  </tbody>\n",
       "</table>\n",
       "<p>444762 rows × 53 columns</p>\n",
       "</div>"
      ],
      "text/plain": [
       "                 State     Sex GeneralHealth  PhysicalHealthDays  \\\n",
       "0              alabama  female     very good                 0.0   \n",
       "1              alabama  female     excellent                 0.0   \n",
       "2              alabama  female     very good                 2.0   \n",
       "3              alabama  female     excellent                 0.0   \n",
       "4              alabama  female          fair                 2.0   \n",
       "...                ...     ...           ...                 ...   \n",
       "444757  virgin islands  female          good                 0.0   \n",
       "444758  virgin islands  female     excellent                 2.0   \n",
       "444759  virgin islands  female          poor                30.0   \n",
       "444760  virgin islands    male     very good                 0.0   \n",
       "444761  virgin islands    male     very good                 0.0   \n",
       "\n",
       "        MentalHealthDays                                    LastCheckupTime  \\\n",
       "0                    0.0  within past year (anytime less than 12 months ...   \n",
       "1                    0.0  within past year (anytime less than 12 months ...   \n",
       "2                    3.0  within past year (anytime less than 12 months ...   \n",
       "3                    0.0  within past year (anytime less than 12 months ...   \n",
       "4                    0.0  within past year (anytime less than 12 months ...   \n",
       "...                  ...                                                ...   \n",
       "444757               3.0  within past 2 years (1 year but less than 2 ye...   \n",
       "444758               2.0  within past year (anytime less than 12 months ...   \n",
       "444759              30.0                                5 or more years ago   \n",
       "444760               0.0  within past year (anytime less than 12 months ...   \n",
       "444761               1.0  within past year (anytime less than 12 months ...   \n",
       "\n",
       "        PhysicalActivities  SleepHours  RemovedTeeth  HadHeartAttack  ...  \\\n",
       "0                        0         8.0  none of them               0  ...   \n",
       "1                        0         6.0  none of them               0  ...   \n",
       "2                        1         5.0  none of them               0  ...   \n",
       "3                        1         7.0  none of them               0  ...   \n",
       "4                        1         9.0  none of them               0  ...   \n",
       "...                    ...         ...           ...             ...  ...   \n",
       "444757                   1         6.0  none of them               0  ...   \n",
       "444758                   1         7.0  none of them               0  ...   \n",
       "444759                   0         5.0        1 to 5               0  ...   \n",
       "444760                   0         5.0  none of them               1  ...   \n",
       "444761                   1         5.0  none of them               0  ...   \n",
       "\n",
       "        COPDRisk  BlindRisk  DepressiveRisk  WalkingRisk  KidneyRisk  \\\n",
       "0              0          0               0            0           0   \n",
       "1              0          0               0            0           0   \n",
       "2              0          0               0            0           0   \n",
       "3              0          0               0            0           0   \n",
       "4              0          0               0            0           0   \n",
       "...          ...        ...             ...          ...         ...   \n",
       "444757         0          0               6            0           0   \n",
       "444758         0          0               0            0           0   \n",
       "444759         0          0               0            0           0   \n",
       "444760         0          0               0            0           0   \n",
       "444761         0          0               0            5           0   \n",
       "\n",
       "        DiabetesRisk  SkinCancerRisk  DeafRisk  SmokerPoints  ECigPoints  \n",
       "0                3.0               0         0             0           1  \n",
       "1                0.0               2         0             0           0  \n",
       "2                0.0               2         0             0           0  \n",
       "3                0.0               0         0             2           0  \n",
       "4                0.0               0         0             0           0  \n",
       "...              ...             ...       ...           ...         ...  \n",
       "444757           0.0               0         0             0           0  \n",
       "444758           0.0               0         0             0           0  \n",
       "444759           0.0               0         0             5           2  \n",
       "444760           0.0               0         0             0           0  \n",
       "444761           0.0               0         0             1           1  \n",
       "\n",
       "[444762 rows x 53 columns]"
      ]
     },
     "execution_count": 70,
     "metadata": {},
     "output_type": "execute_result"
    }
   ],
   "source": [
    "dataframe"
   ]
  },
  {
   "cell_type": "markdown",
   "metadata": {},
   "source": [
    "step 3: setting the thresholds for general health in terms of TotalRiskPoints"
   ]
  },
  {
   "cell_type": "markdown",
   "metadata": {},
   "source": [
    "General health status - maximum points allowed\n",
    "\n",
    "for TotalRiskPoints = p\n",
    "* excellent - 1 <= p <= 6\n",
    "* very good - 6 < p <= 13\n",
    "* good - 13 < p <= 19\n",
    "* fair - 19 < p <= 30\n",
    "* poor - 30 < p <= 64"
   ]
  },
  {
   "cell_type": "code",
   "execution_count": 73,
   "metadata": {},
   "outputs": [],
   "source": [
    "dataframe['TrueHealth'] = \"default_value\"\n",
    "dataframe.to_csv('Heart_Updated.csv', index=False)"
   ]
  },
  {
   "cell_type": "code",
   "execution_count": 33,
   "metadata": {},
   "outputs": [],
   "source": [
    "# # defining the boundaries and encoding the column\n",
    "# def assign_health_status(risk_score):\n",
    "#     if 1 <= risk_score <= 6:\n",
    "#         return 'excellent'\n",
    "#     elif 6 < risk_score <= 13:\n",
    "#         return 'very good'\n",
    "#     elif 13 < risk_score <= 19:\n",
    "#         return 'good'\n",
    "#     elif 19 < risk_score <= 30:\n",
    "#         return 'fair'\n",
    "#     elif 30 < risk_score <= 64:\n",
    "#         return 'poor'\n",
    "\n",
    "# from sklearn.preprocessing import LabelEncoder\n",
    "\n",
    "# # label_encoder = LabelEncoder()\n",
    "# # dataframe['Encoded_CalculatedGeneralHealth'] = label_encoder.fit_transform(dataframe['CalculatedGeneralHealth'])\n"
   ]
  },
  {
   "cell_type": "markdown",
   "metadata": {},
   "source": [
    "step 4: training the model"
   ]
  },
  {
   "cell_type": "code",
   "execution_count": 34,
   "metadata": {},
   "outputs": [
    {
     "name": "stdout",
     "output_type": "stream",
     "text": [
      "Accuracy: 1.0\n",
      "Classification Report:               precision    recall  f1-score   support\n",
      "\n",
      "           0       1.00      1.00      1.00    133429\n",
      "\n",
      "    accuracy                           1.00    133429\n",
      "   macro avg       1.00      1.00      1.00    133429\n",
      "weighted avg       1.00      1.00      1.00    133429\n",
      "\n"
     ]
    }
   ],
   "source": [
    "# from sklearn.model_selection import train_test_split\n",
    "# from sklearn.ensemble import RandomForestClassifier\n",
    "# from sklearn.metrics import accuracy_score, classification_report\n",
    "\n",
    "# X = dataframe[['TotalRiskScore']] # this is the feature column\n",
    "# y = dataframe['Encoded_CalculatedGeneralHealth'] # this is the target column\n",
    "\n",
    "# # train test split\n",
    "# X_train, X_test, y_train, y_test = train_test_split(X, y, test_size=0.3, random_state=42)\n",
    "\n",
    "# rf_model = RandomForestClassifier(random_state=42, n_estimators=100, max_depth=None, min_samples_split=2)\n",
    "\n",
    "# rf_model.fit(X_train, y_train)\n",
    "\n",
    "# y_pred = rf_model.predict(X_test)\n",
    "# print(f'Accuracy: {accuracy_score(y_test, y_pred)}')\n",
    "# print(f'Classification Report: {classification_report(y_test, y_pred)}')"
   ]
  },
  {
   "cell_type": "markdown",
   "metadata": {},
   "source": [
    "perfect accuracy suggests class imbalance (83.93% of TotalRiskScore values are '0')"
   ]
  },
  {
   "cell_type": "code",
   "execution_count": 35,
   "metadata": {},
   "outputs": [],
   "source": [
    "# # checking for the optimum depth for random forest classifier\n",
    "# # by creating decision tree models of varying depths and measuring the accuracy for each model\n",
    "\n",
    "# train_acc = []\n",
    "# eval_acc = []\n",
    "# max_depth = 10\n",
    "\n",
    "# # reshaping the data\n",
    "# X_train = X_train.values.reshape(-1, 1) if isinstance(X_train, pd.Series) else X_train\n",
    "# X_eval = X_eval.values.reshape(-1, 1) if isinstance(X_eval, pd.Series) else X_eval\n",
    "\n",
    "# y_train = y_train.squeeze() if isinstance(y_train, pd.DataFrame) else y_train\n",
    "# y_eval = y_eval.squeeze() if isinstance(y_eval, pd.DataFrame) else y_eval\n",
    "\n",
    "# for d in range(1,max_depth+1):\n",
    "#     model = DecisionTreeClassifier(max_depth=d)\n",
    "#     model.fit(X_train, y_train)\n",
    "\n",
    "#     # measuring the accuracy of this model using the training data:\n",
    "#     y_pred = model.predict(X_train)\n",
    "#     train_acc.append((y_pred == y_train).mean())\n",
    "\n",
    "#     # measuring the accuracy of this model using the validation data:\n",
    "#     y_pred = model.predict(X_eval)\n",
    "#     eval_acc.append((y_pred == y_eval).mean())\n",
    "#     print('Depth = {}, train_acc = {:.4f}, eval_acc = {:.4f}'\\\n",
    "#           .format(d, train_acc[-1], eval_acc[-1]))\n",
    "    \n",
    "# # finding the optimal depth with the highest accuracy of validation data\n",
    "# opt_depth = np.argmax(eval_acc) + 1\n",
    "\n",
    "# # visualising accuracy changes with changes in depth: plotting\n",
    "# plt.plot(train_acc, marker='o', label='train')\n",
    "# plt.plot(eval_acc, marker='o', label='evaluation')\n",
    "# plt.legend()\n",
    "# plt.title('Accuracy and Tree Depth')\n",
    "# plt.xlabel('tree depth')\n",
    "# plt.ylabel('accuracy')\n",
    "# plt.xticks(np.arange(max_depth), np.arange(1, max_depth+1))\n",
    "# plt.axvline(x=opt_depth-1, ls='--')\n",
    "# plt.ylim(0.5, 1.0)\n",
    "# plt.show()"
   ]
  },
  {
   "cell_type": "markdown",
   "metadata": {},
   "source": [
    "as seen above, optimal tree depth is 1."
   ]
  },
  {
   "cell_type": "code",
   "execution_count": 36,
   "metadata": {},
   "outputs": [],
   "source": [
    "# print(X_train.shape)\n",
    "# print(X_train.describe())\n"
   ]
  },
  {
   "cell_type": "code",
   "execution_count": 37,
   "metadata": {},
   "outputs": [],
   "source": [
    "# import matplotlib.pyplot as plt\n",
    "# plt.hist(X_train, bins=30)\n",
    "# plt.title('Distribution of TotalRiskScore')\n",
    "# plt.xlabel('TotalRiskScore')\n",
    "# plt.ylabel('Frequency')\n",
    "# plt.show()\n"
   ]
  },
  {
   "cell_type": "code",
   "execution_count": 38,
   "metadata": {},
   "outputs": [
    {
     "ename": "NameError",
     "evalue": "name 'model' is not defined",
     "output_type": "error",
     "traceback": [
      "\u001b[0;31m---------------------------------------------------------------------------\u001b[0m",
      "\u001b[0;31mNameError\u001b[0m                                 Traceback (most recent call last)",
      "Cell \u001b[0;32mIn[38], line 1\u001b[0m\n\u001b[0;32m----> 1\u001b[0m dataframe[\u001b[38;5;124m'\u001b[39m\u001b[38;5;124mPredict_Encoded_CalcGH\u001b[39m\u001b[38;5;124m'\u001b[39m] \u001b[38;5;241m=\u001b[39m \u001b[43mmodel\u001b[49m\u001b[38;5;241m.\u001b[39mpredict(X)\n\u001b[1;32m      2\u001b[0m dataframe[\u001b[38;5;124m'\u001b[39m\u001b[38;5;124mCalculatedGeneralHealth\u001b[39m\u001b[38;5;124m'\u001b[39m] \u001b[38;5;241m=\u001b[39m label_encoder\u001b[38;5;241m.\u001b[39minverse_transform(dataframe[\u001b[38;5;124m'\u001b[39m\u001b[38;5;124mPredict_Encoded_CalcGH\u001b[39m\u001b[38;5;124m'\u001b[39m])\n",
      "\u001b[0;31mNameError\u001b[0m: name 'model' is not defined"
     ]
    }
   ],
   "source": [
    "# dataframe['Predict_Encoded_CalcGH'] = model.predict(X)\n",
    "# dataframe['CalculatedGeneralHealth'] = label_encoder.inverse_transform(dataframe['Predict_Encoded_CalcGH'])"
   ]
  },
  {
   "cell_type": "code",
   "execution_count": 39,
   "metadata": {},
   "outputs": [],
   "source": [
    "# dataframe.to_csv('Heart_Updated.csv', index=False)"
   ]
  },
  {
   "cell_type": "code",
   "execution_count": null,
   "metadata": {},
   "outputs": [],
   "source": []
  }
 ],
 "metadata": {
  "kernelspec": {
   "display_name": ".venv",
   "language": "python",
   "name": "python3"
  },
  "language_info": {
   "codemirror_mode": {
    "name": "ipython",
    "version": 3
   },
   "file_extension": ".py",
   "mimetype": "text/x-python",
   "name": "python",
   "nbconvert_exporter": "python",
   "pygments_lexer": "ipython3",
   "version": "3.9.6"
  }
 },
 "nbformat": 4,
 "nbformat_minor": 2
}

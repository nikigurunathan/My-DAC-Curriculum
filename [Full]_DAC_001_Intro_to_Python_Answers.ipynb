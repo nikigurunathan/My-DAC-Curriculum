{
  "cells": [
    {
      "cell_type": "markdown",
      "source": [
        "# DACademy Session 1: Basic GitHub + Intro to Python\n"
      ],
      "metadata": {
        "id": "XB1Co0jipXyX"
      }
    },
    {
      "cell_type": "markdown",
      "source": [
        "Basic Syntax and Data Types"
      ],
      "metadata": {
        "id": "zjBuv6VBFyHX"
      }
    },
    {
      "cell_type": "markdown",
      "metadata": {
        "id": "kdzTsQtK0YPu"
      },
      "source": [
        "## Comments and Print Statements:"
      ]
    },
    {
      "cell_type": "code",
      "execution_count": null,
      "metadata": {
        "id": "v-2yQ1QS0YPu",
        "colab": {
          "base_uri": "https://localhost:8080/"
        },
        "outputId": "79a4f840-7d1b-4a11-d7d1-ac9c2f8c5c3c"
      },
      "outputs": [
        {
          "output_type": "stream",
          "name": "stdout",
          "text": [
            "Hello World\n"
          ]
        }
      ],
      "source": [
        "# Welcome to DAC!\n",
        "# Single-line comments use the hash symbol (#)\n",
        "# Comments are useful for explaining code or for temporary debugging\n",
        "\n",
        "\"\"\"\n",
        "Multi-line comments are created using triple quotes.\n",
        "They can span multiple lines and are often used for detailed explanations or documentation.\n",
        "Hi hi hi hi hi\n",
        "\"\"\"\n",
        "\n",
        "# The print() function is used to display output\n",
        "print(\"Hello World\")"
      ]
    },
    {
      "cell_type": "markdown",
      "source": [
        "**Keyboard Shortcuts to Run Code**\n",
        "\n",
        "\n",
        "*   Mac: Command (⌘) + Enter\n",
        "*   Windows: Ctrl + Enter\n"
      ],
      "metadata": {
        "id": "8Cy9F5sHZ4-B"
      }
    },
    {
      "cell_type": "code",
      "source": [
        "# Now try printing your name!\n",
        "print(\"Kaavya\")"
      ],
      "metadata": {
        "colab": {
          "base_uri": "https://localhost:8080/"
        },
        "id": "0Iyg-UKUZsLy",
        "outputId": "7a2e178f-0986-4c53-ca7b-4903e0fe12c6"
      },
      "execution_count": null,
      "outputs": [
        {
          "output_type": "stream",
          "name": "stdout",
          "text": [
            "Kaavya\n"
          ]
        }
      ]
    },
    {
      "cell_type": "markdown",
      "metadata": {
        "id": "xyKWUB-Q0YPv"
      },
      "source": [
        "## Basic Arithmetic Operations and Data Types"
      ]
    },
    {
      "cell_type": "code",
      "source": [
        "#Arithmetic Operators: + - * / % ==\n",
        "\n",
        "#Addition +\n",
        "print(8+3)\n",
        "\n",
        "#Subtraction -\n",
        "print(8-3)\n",
        "\n",
        "#Multiplication *\n",
        "print(8*3)\n",
        "\n",
        "# Division /\n",
        "print(8/3)\n",
        "\n",
        "# Modulo %\n",
        "print(8%3)\n",
        "\n",
        "# To the Power To\n",
        "print(2**2)"
      ],
      "metadata": {
        "id": "dvXP5FTPdLFk"
      },
      "execution_count": null,
      "outputs": []
    },
    {
      "cell_type": "code",
      "execution_count": null,
      "metadata": {
        "id": "8dNEkPQ30YPw",
        "colab": {
          "base_uri": "https://localhost:8080/"
        },
        "outputId": "ce46af09-255e-41aa-be44-e87c598c6aba"
      },
      "outputs": [
        {
          "output_type": "stream",
          "name": "stdout",
          "text": [
            "meow meow meow meow\n",
            "meow meow meow meow\n",
            "!@#$%jkwewuorweprh6546846515648646546\n",
            "10\n",
            "4294967296\n",
            "3.14\n",
            "(2+3j)\n"
          ]
        }
      ],
      "source": [
        "# Text inside quotes is known as a string\n",
        "# Can use either \"\" or '', both work the same\n",
        "print(\"meow meow meow meow\")\n",
        "print('meow meow meow meow')\n",
        "\n",
        "# This is to show you that the string can contain any special characters\n",
        "print(\"!@#$%jkwewuorweprh6546846515648646546\")\n",
        "\n",
        "# Integers are whole numbers\n",
        "print(10)\n",
        "\n",
        "# Long Integers (Python automatically handles big integers)\n",
        "print(2**32) # This computes 2 to the power of 32\n",
        "\n",
        "# Floats represent decimal numbers\n",
        "print(3.14)\n",
        "\n",
        "# Complex Numbers use 'j' to represent the imaginary part\n",
        "print(2+3j)"
      ]
    },
    {
      "cell_type": "markdown",
      "metadata": {
        "id": "DmJBgrZy0YPw"
      },
      "source": [
        "## Boolean\n",
        "*   Booleans represent one of two values: True or False.\n",
        "\n"
      ]
    },
    {
      "cell_type": "code",
      "execution_count": null,
      "metadata": {
        "id": "tUXDV62x0YPw",
        "colab": {
          "base_uri": "https://localhost:8080/"
        },
        "outputId": "d20f79e4-fc6c-434e-ad6d-47876d7024b8"
      },
      "outputs": [
        {
          "output_type": "stream",
          "name": "stdout",
          "text": [
            "False\n"
          ]
        }
      ],
      "source": [
        "a = 5\n",
        "b = 10 % 3  # Modulus operation gives the remainder of 10 divided by 3 (which is 1)\n",
        "c = bool(a == b)  # bool() converts the result of the comparison to True or False\n",
        "print(c)  # This will print False since 5 is not equal to 1"
      ]
    },
    {
      "cell_type": "code",
      "source": [
        "# Equals ==\n",
        "print(5==5)\n",
        "print(5==4)\n",
        "\n",
        "# Inqual !=\n",
        "print(5!= 6)\n",
        "\n",
        "# More than >\n",
        "print(5>4)\n",
        "\n",
        "# More than and equal to >=\n",
        "print(6 >= 4)\n",
        "\n",
        "# Less than <\n",
        "print(6 < 4)\n",
        "\n",
        "# Less than and equal to <=\n",
        "print(6 <= 4)"
      ],
      "metadata": {
        "colab": {
          "base_uri": "https://localhost:8080/"
        },
        "id": "rMT50ucpfk8k",
        "outputId": "69142ccc-18a1-4b8e-f2c8-3453e2ffc857"
      },
      "execution_count": null,
      "outputs": [
        {
          "output_type": "stream",
          "name": "stdout",
          "text": [
            "True\n",
            "False\n",
            "True\n",
            "True\n",
            "True\n",
            "False\n",
            "False\n"
          ]
        }
      ]
    },
    {
      "cell_type": "code",
      "source": [
        "# Using Boolean to find the Data Type of a Variable\n",
        "# Use type() to find the data type of a value or variable\n",
        "\n",
        "a = True # A Boolean value can be either True or False.\n",
        "print(type(a))  # This checks the type of 'a' and will return <class 'bool'>\n",
        "\n",
        "# Checking the type of a string\n",
        "print(type(\"I just wanna be part of your SYMPHONYYYY\"))  # This will return <class 'str'>, indicating it's a string.\n",
        "\n",
        "# Checking the type of an integer\n",
        "print(type(4))  # This will return <class 'int'>, indicating it's an integer."
      ],
      "metadata": {
        "colab": {
          "base_uri": "https://localhost:8080/"
        },
        "id": "DuSwiBLf4FbJ",
        "outputId": "2ae9db54-9d0c-4857-ac61-1f341bf60458"
      },
      "execution_count": null,
      "outputs": [
        {
          "output_type": "stream",
          "name": "stdout",
          "text": [
            "<class 'bool'>\n",
            "<class 'str'>\n",
            "<class 'int'>\n"
          ]
        }
      ]
    },
    {
      "cell_type": "markdown",
      "source": [
        "## Converting Data types"
      ],
      "metadata": {
        "id": "UHZRrqmecVhV"
      }
    },
    {
      "cell_type": "code",
      "source": [
        "# Convert a float to an integer\n",
        "print(int(6.555555))  # Output: 6\n",
        "\n",
        "# Convert an integer to a float\n",
        "print(float(3))  # Output: 3.0\n",
        "\n",
        "# Convert an integer to a string and print its type\n",
        "print(type(str(6)))  # Output: <class 'str'>\n",
        "\n",
        "# Convert a non-zero integer to a boolean\n",
        "print(bool(5))  # Output: True (Any non-zero value is considered True)\n",
        "\n",
        "# Note on variable naming:\n",
        "# It's best to avoid using function names as variable names to prevent confusion.\n",
        "decimal_value = 3.1423  # Use descriptive names for clarity\n",
        "print(decimal_value)\n",
        "\n",
        "number = 5  # Keep the variable name clear and relevant\n",
        "print(number)"
      ],
      "metadata": {
        "colab": {
          "base_uri": "https://localhost:8080/"
        },
        "id": "lRjGQ9i_cQsH",
        "outputId": "310d638d-fe5b-4942-884b-215646998fce"
      },
      "execution_count": null,
      "outputs": [
        {
          "output_type": "stream",
          "name": "stdout",
          "text": [
            "<class 'str'>\n",
            "6\n",
            "3.0\n",
            "True\n",
            "3.1423\n",
            "5\n"
          ]
        }
      ]
    },
    {
      "cell_type": "markdown",
      "metadata": {
        "id": "ixpdw3X90YPx"
      },
      "source": [
        "## Sequence Types: Strings, Lists, and Tuples"
      ]
    },
    {
      "cell_type": "markdown",
      "metadata": {
        "id": "FS4VoI660YPx"
      },
      "source": [
        "### Working with Strings"
      ]
    },
    {
      "cell_type": "code",
      "execution_count": null,
      "metadata": {
        "id": "cVENYK1E0YPx",
        "colab": {
          "base_uri": "https://localhost:8080/"
        },
        "outputId": "3861f190-a7a1-4ebc-cef2-73d5e996d0c1"
      },
      "outputs": [
        {
          "output_type": "stream",
          "name": "stdout",
          "text": [
            "Jun\n",
            "Full Name: Jun Yo\n",
            "Full Name: Jun Yo\n"
          ]
        }
      ],
      "source": [
        "# Creating strings\n",
        "name = \"Jun\"\n",
        "print(name)\n",
        "\n",
        "# Combining strings\n",
        "last_name = \"Yo\"\n",
        "print(\"Full Name: \" + name + \" \" + last_name)  # Remember to include spaces within the quotes; otherwise, the result will be \"JunYo\" instead of \"Jun Yo\".\n",
        "\n",
        "# Alternative Method for String Formatting\n",
        "print(\"Full Name: {0} {1}\".format(name, last_name))  # The numbers {0} and {1} correspond to the respective order of the variables: Jun = 0, Yo = 1."
      ]
    },
    {
      "cell_type": "markdown",
      "metadata": {
        "id": "Do3QkLBS0YPy"
      },
      "source": [
        "### Working with Lists\n",
        "\n",
        "*   [ ]\n",
        "*   It is used to store multiple items in a single variable\n",
        "\n"
      ]
    },
    {
      "cell_type": "markdown",
      "source": [
        "Just some things to note\n",
        "\n",
        "(Example)\n",
        "In the list: list4 = [3, 1, 4, 1, 5]\n",
        "\n",
        "*   **list4** is the **variable** that stores the list.\n",
        "*   **3, 1, 4, 1, 5** are the **elements** in the list.\n",
        "*   **Indexes** represent the **position** of each element, **starting from 0:**\n",
        "     *   '3' is at index 0\n",
        "     *   '1' is at index 1\n",
        "     *   '4' is at index 2\n",
        "     *   '1' is at index 3\n",
        "     *   '5' is at index 4\n",
        "\n",
        "\n",
        "\n",
        "\n",
        "\n",
        "\n",
        "\n",
        "\n",
        "\n",
        "\n",
        "\n",
        "\n",
        "\n",
        "\n"
      ],
      "metadata": {
        "id": "UJljv0JyI3MJ"
      }
    },
    {
      "cell_type": "code",
      "source": [
        "list1 = [] # Empty list\n",
        "print(list1)\n",
        "\n",
        "list2 = [\"S\", \"L\", \"A\", \"Y\"]\n",
        "print(list2)\n",
        "\n",
        "mixedlist = [True, \"Slay\", 173, 3.14] # List with different data types\n",
        "print(mixedlist)"
      ],
      "metadata": {
        "colab": {
          "base_uri": "https://localhost:8080/"
        },
        "id": "g8SngCyXoqGt",
        "outputId": "d83f8d56-3deb-4cbf-f5e3-33609e679471"
      },
      "execution_count": null,
      "outputs": [
        {
          "output_type": "stream",
          "name": "stdout",
          "text": [
            "[]\n",
            "['S', 'L', 'A', 'Y']\n",
            "[True, 'Slay', 173, 3.14]\n"
          ]
        }
      ]
    },
    {
      "cell_type": "code",
      "source": [
        "# Adding elements to a list using the above variables\n",
        "\n",
        "list1.append(1)  # Adding an integer to the list\n",
        "list1.append(\"AHH\")  # Adding a string to the list\n",
        "print(list1)  # Output: [1, \"AHH\"]\n",
        "\n",
        "mixedlist.append(\"AHH\")  # Adding a string to the mixed list\n",
        "print(mixedlist)  # Output: [True, 'Slay', 173, 3.14, 'AHH']\n",
        "\n",
        "\"\"\"\n",
        "Note on the append() method:\n",
        "\n",
        "The append() method adds the element to the end of the list each time it is executed.\n",
        "Calling append() multiple times (i.e., running this code again) will continue to add the elements to the existing list, rather than starting over.\n",
        "(So, the same element will be added twice if you run the code twice, three times if you run it three times, and so on.)\n",
        "To reset the list, you can reinitialize it (rerun the code from the beginning).\n",
        "\"\"\""
      ],
      "metadata": {
        "colab": {
          "base_uri": "https://localhost:8080/",
          "height": 104
        },
        "id": "WgtIoTQapNJC",
        "outputId": "c969bf16-0ab5-419d-b96c-73076f796c8d"
      },
      "execution_count": null,
      "outputs": [
        {
          "output_type": "stream",
          "name": "stdout",
          "text": [
            "[1, 'AHH']\n",
            "[True, 'Slay', 173, 3.14, 'AHH']\n"
          ]
        },
        {
          "output_type": "execute_result",
          "data": {
            "text/plain": [
              "'\\nNote on the append() method:\\n\\nThe append() method adds the element to the end of the list each time it is executed.\\nCalling append() multiple times (i.e., running this code again) will continue to add the elements to the existing list, rather than starting over.\\n(So, the same element will be added twice if you run the code twice, three times if you run it three times, and so on.)\\nTo reset the list, you can reinitialize it (rerun the code from the beginning).\\n'"
            ],
            "application/vnd.google.colaboratory.intrinsic+json": {
              "type": "string"
            }
          },
          "metadata": {},
          "execution_count": 134
        }
      ]
    },
    {
      "cell_type": "code",
      "execution_count": null,
      "metadata": {
        "id": "EhMqwM-w0YPy",
        "colab": {
          "base_uri": "https://localhost:8080/"
        },
        "outputId": "16d43c32-6e33-4738-9f41-bcbec5f5c677"
      },
      "outputs": [
        {
          "output_type": "stream",
          "name": "stdout",
          "text": [
            "[50, 1, 'AHH']\n"
          ]
        }
      ],
      "source": [
        "# Inserting elements into a list at a specific position\n",
        "# Syntax: list_.insert(position, item)\n",
        "\n",
        "list1.insert(0, 50)  # Insert the number 50 at the 0th index (1st number is the position, 2nd is the element to add)\n",
        "print(list1)  # Output will show 50 at the start of the list"
      ]
    },
    {
      "cell_type": "code",
      "source": [
        "# Deleting elements from a list\n",
        "\n",
        "# Using `del` to delete by index\n",
        "del list1[0]  # Deletes the element at index 0 (1st element in the list)\n",
        "print(list1)  # Output: List with the 1st element removed"
      ],
      "metadata": {
        "id": "NYr5u52Rwy6h",
        "colab": {
          "base_uri": "https://localhost:8080/"
        },
        "outputId": "b6e4a09f-0ddd-428d-b112-d8fb9fcf5604"
      },
      "execution_count": null,
      "outputs": [
        {
          "output_type": "stream",
          "name": "stdout",
          "text": [
            "[1, 'AHH']\n"
          ]
        }
      ]
    },
    {
      "cell_type": "code",
      "source": [
        "# Alternative Method for Deleting elements from a list\n",
        "\n",
        "# Using `remove()` to delete by value\n",
        "list1.remove(\"AHH\")  # Removes the first occurrence of the value 50 from the list\n",
        "print(list1)  # Output: List without the first 50"
      ],
      "metadata": {
        "colab": {
          "base_uri": "https://localhost:8080/"
        },
        "id": "Q05F_xXdFdpx",
        "outputId": "7cf46af7-396f-4373-d570-409f75ee763a"
      },
      "execution_count": null,
      "outputs": [
        {
          "output_type": "stream",
          "name": "stdout",
          "text": [
            "[1]\n"
          ]
        }
      ]
    },
    {
      "cell_type": "code",
      "source": [
        "# List Indexing\n",
        "list4 = [3, 1, 4, 1, 5]\n",
        "index_list4 = list4.index(3)  # Finds the index position of the element '3' in the list\n",
        "print(index_list4)  # Output: 0 (since '3' is at the 0th index)"
      ],
      "metadata": {
        "colab": {
          "base_uri": "https://localhost:8080/"
        },
        "id": "Qxd8-H6oG0a0",
        "outputId": "3b3eb59d-cbf0-4faf-a05d-1506382c434c"
      },
      "execution_count": null,
      "outputs": [
        {
          "output_type": "stream",
          "name": "stdout",
          "text": [
            "0\n"
          ]
        }
      ]
    },
    {
      "cell_type": "code",
      "source": [
        "# Finding minimum and maximum values in a list\n",
        "min_list4 = min(list4)  # Use the min() function to find the smallest element in list4\n",
        "max_list4 = max(list4)  # Use the max() function to find the largest element in list4\n",
        "print(min_list4)\n",
        "print(max_list4)\n",
        "\n",
        "# With labels\n",
        "print(\"Minimum value:\", min_list4)  # Output the minimum value\n",
        "print(\"Maximum value:\", max_list4)  # Output the maximum value"
      ],
      "metadata": {
        "colab": {
          "base_uri": "https://localhost:8080/"
        },
        "id": "JTsF0nfmSINs",
        "outputId": "15384124-eb59-4598-c397-e717a8e3eba4"
      },
      "execution_count": null,
      "outputs": [
        {
          "output_type": "stream",
          "name": "stdout",
          "text": [
            "1\n",
            "5\n",
            "Minimum value: 1\n",
            "Maximum value: 5\n"
          ]
        }
      ]
    },
    {
      "cell_type": "code",
      "source": [
        "listNum = [4, 2, 1, 3, 6, 5, 9]\n",
        "\n",
        "sorted_listNumList = sorted(listNum) # Use the sorted() function to sort the list\n",
        "print(sorted_listNumList) # Output the sorted list"
      ],
      "metadata": {
        "colab": {
          "base_uri": "https://localhost:8080/"
        },
        "id": "vc5SVEzvBK33",
        "outputId": "bfebbbdd-f0d9-48de-9ca2-1629f62e1f76"
      },
      "execution_count": null,
      "outputs": [
        {
          "output_type": "stream",
          "name": "stdout",
          "text": [
            "[1, 2, 3, 4, 5, 6, 9]\n"
          ]
        }
      ]
    },
    {
      "cell_type": "code",
      "source": [
        "listNum2 = [1, 2, 3, 4, 5, 6, 9]\n",
        "listNum2.reverse() # Reverse listNum2\n",
        "print(listNum2) # Otput the reversed list"
      ],
      "metadata": {
        "colab": {
          "base_uri": "https://localhost:8080/"
        },
        "id": "dI6AzeKIBrvB",
        "outputId": "e6c60c1f-86d1-420f-b2a8-5ba2d91ccdff"
      },
      "execution_count": null,
      "outputs": [
        {
          "output_type": "stream",
          "name": "stdout",
          "text": [
            "[9, 6, 5, 4, 3, 2, 1]\n"
          ]
        }
      ]
    },
    {
      "cell_type": "code",
      "source": [
        "listNum2 = [1, 2, 3, 4, 5, 6, 9]\n",
        "listNum2.clear() # Clear all elements from the list\n",
        "print(listNum2) # Print the cleared list"
      ],
      "metadata": {
        "colab": {
          "base_uri": "https://localhost:8080/"
        },
        "id": "zlonSikNCFQj",
        "outputId": "325ad13c-1fa8-4d35-ef34-8d5e99384821"
      },
      "execution_count": null,
      "outputs": [
        {
          "output_type": "stream",
          "name": "stdout",
          "text": [
            "[]\n"
          ]
        }
      ]
    },
    {
      "cell_type": "code",
      "source": [
        "list5 = ['K', 'A', 'A', 'V', 'Y', 'A']\n",
        "list6 = ['M', 123]\n",
        "listAdded = list5 + list6 # Add the two lists together\n",
        "print(listAdded) # Output the added list"
      ],
      "metadata": {
        "colab": {
          "base_uri": "https://localhost:8080/"
        },
        "id": "ZLm22sE7CJ_t",
        "outputId": "95f58b76-8be1-4fc8-ab65-939b506d2041"
      },
      "execution_count": null,
      "outputs": [
        {
          "output_type": "stream",
          "name": "stdout",
          "text": [
            "['K', 'A', 'A', 'V', 'Y', 'A', 'M', 123]\n"
          ]
        }
      ]
    },
    {
      "cell_type": "code",
      "source": [
        "listNames = [\"Kaavya\", \"M\"]\n",
        "listMultiplied = listNames * 2 # Multiply the list by 2\n",
        "print(listMultiplied) # Output the multiplied list"
      ],
      "metadata": {
        "colab": {
          "base_uri": "https://localhost:8080/"
        },
        "id": "u3FYS3JZCgkc",
        "outputId": "8d1d41e4-9439-4065-9094-1bff9cbd8ca1"
      },
      "execution_count": null,
      "outputs": [
        {
          "output_type": "stream",
          "name": "stdout",
          "text": [
            "['Kaavya', 'M', 'Kaavya', 'M']\n"
          ]
        }
      ]
    },
    {
      "cell_type": "markdown",
      "source": [
        "### Working with Tuples\n",
        "- Immutable\n",
        "- It is a ordered sequence of values"
      ],
      "metadata": {
        "id": "_YLFb-WGDCs8"
      }
    },
    {
      "cell_type": "code",
      "execution_count": null,
      "metadata": {
        "id": "kwrmo-XJ0YPy",
        "colab": {
          "base_uri": "https://localhost:8080/"
        },
        "outputId": "3719129d-9c04-4e77-fc8b-dd7215ccea43"
      },
      "outputs": [
        {
          "output_type": "execute_result",
          "data": {
            "text/plain": [
              "tuple"
            ]
          },
          "metadata": {},
          "execution_count": 2
        }
      ],
      "source": [
        "dance = (\"If u dance\", \"I'll dance\")\n",
        "type(dance) # Check the type of the 'parents' variable"
      ]
    },
    {
      "cell_type": "code",
      "source": [
        "tuplelist = list(dance)\n",
        "print(tuplelist) # Output the list\n",
        "type(tuplelist) # Check the type of 'tuplelist'"
      ],
      "metadata": {
        "colab": {
          "base_uri": "https://localhost:8080/"
        },
        "id": "K_PTgd_aEKEI",
        "outputId": "579f07d6-09fb-4547-edd8-659d3cf2b09e"
      },
      "execution_count": null,
      "outputs": [
        {
          "output_type": "stream",
          "name": "stdout",
          "text": [
            "['If u dance', \"I'll dance\"]\n"
          ]
        },
        {
          "output_type": "execute_result",
          "data": {
            "text/plain": [
              "list"
            ]
          },
          "metadata": {},
          "execution_count": 3
        }
      ]
    },
    {
      "cell_type": "code",
      "source": [
        "tuplelist.append(\"But if you don't, I'll dance anyway\") # Add new line to the list 'tuplelist'\n",
        "print(tuplelist) # Output the updated list"
      ],
      "metadata": {
        "colab": {
          "base_uri": "https://localhost:8080/"
        },
        "id": "MLliO46RElXM",
        "outputId": "aa0675a6-c53a-4b15-d91c-70c35b19b442"
      },
      "execution_count": null,
      "outputs": [
        {
          "output_type": "stream",
          "name": "stdout",
          "text": [
            "['If u dance', \"I'll dance\", \"But if you don't, I'll dance anyway\"]\n"
          ]
        }
      ]
    },
    {
      "cell_type": "code",
      "source": [
        "new_tuple = tuple(tuplelist) # Convert the list 'tuplelist' back to a tuple\n",
        "print(new_tuple) # Check the value of the new tuple"
      ],
      "metadata": {
        "colab": {
          "base_uri": "https://localhost:8080/"
        },
        "id": "32Wg2x89GuXA",
        "outputId": "ee37fa9d-9932-422d-f62e-fe4ef07a57b1"
      },
      "execution_count": null,
      "outputs": [
        {
          "output_type": "stream",
          "name": "stdout",
          "text": [
            "('If u dance', \"I'll dance\", \"But if you don't, I'll dance anyway\")\n"
          ]
        }
      ]
    },
    {
      "cell_type": "code",
      "source": [
        "length_of_tuplelist = len(tuplelist) # Get the length of the list 'tuplelist'\n",
        "print(length_of_tuplelist) # Output of the length"
      ],
      "metadata": {
        "id": "SS3bxGkbG-vl",
        "colab": {
          "base_uri": "https://localhost:8080/"
        },
        "outputId": "32d0d646-078d-4a84-f6e0-838cbcf22354"
      },
      "execution_count": null,
      "outputs": [
        {
          "output_type": "stream",
          "name": "stdout",
          "text": [
            "3\n"
          ]
        }
      ]
    },
    {
      "cell_type": "markdown",
      "metadata": {
        "id": "ZCXp6Jhg0YPy"
      },
      "source": [
        "### Working with Sets\n",
        "\n",
        "{ }\n",
        "- It is an unordered collection with no duplicate elements\n",
        "- Computer implementation of the mathematical concept of a finite set\n",
        "- Mutable"
      ]
    },
    {
      "cell_type": "code",
      "execution_count": null,
      "metadata": {
        "id": "B5vdCq3P0YPy",
        "colab": {
          "base_uri": "https://localhost:8080/"
        },
        "outputId": "32b2bcbb-8c33-4e81-d545-eed4ecf6fd6f"
      },
      "outputs": [
        {
          "output_type": "stream",
          "name": "stdout",
          "text": [
            "{'flamingos', 'penguins', 'lions', 'pandas'}\n"
          ]
        }
      ],
      "source": [
        "x = {\"pandas\", \"lions\", \"penguins\", \"flamingos\", \"pandas\"}\n",
        "print(x) # Output of the set"
      ]
    },
    {
      "cell_type": "code",
      "source": [
        "x = {\"pandas\", \"lions\", \"penguins\", \"flamingos\"}\n",
        "x.add(\"rhinos\") # Add an element to the set\n",
        "print(x) # Output of the updated set"
      ],
      "metadata": {
        "colab": {
          "base_uri": "https://localhost:8080/"
        },
        "id": "VgrBbY_1HrNx",
        "outputId": "61f0c330-cffd-4c0e-f41d-0e79585d7738"
      },
      "execution_count": null,
      "outputs": [
        {
          "output_type": "stream",
          "name": "stdout",
          "text": [
            "{'penguins', 'flamingos', 'lions', 'rhinos', 'pandas'}\n"
          ]
        }
      ]
    },
    {
      "cell_type": "code",
      "source": [
        "x = {\"pandas\", \"lions\", \"penguins\", \"flamingos\", \"rhinos\"}\n",
        "x.remove(\"penguins\") # Remove an element from the set\n",
        "print(x) # Output of the updated set"
      ],
      "metadata": {
        "colab": {
          "base_uri": "https://localhost:8080/"
        },
        "id": "MbMyt-oQH80_",
        "outputId": "ea1601e4-16d3-4b24-c77f-b8d519fa0569"
      },
      "execution_count": null,
      "outputs": [
        {
          "output_type": "stream",
          "name": "stdout",
          "text": [
            "{'flamingos', 'pandas', 'lions', 'rhinos'}\n"
          ]
        }
      ]
    },
    {
      "cell_type": "code",
      "source": [
        "z = {(1, 2, 3), \"Hello\", 2, 4.3}\n",
        "print(z) # Output of the set"
      ],
      "metadata": {
        "colab": {
          "base_uri": "https://localhost:8080/"
        },
        "id": "Z6V43JC2IaLt",
        "outputId": "e8fd76db-fffc-4e45-e871-dae7debb5c1c"
      },
      "execution_count": null,
      "outputs": [
        {
          "output_type": "stream",
          "name": "stdout",
          "text": [
            "{2, (1, 2, 3), 4.3, 'Hello'}\n"
          ]
        }
      ]
    },
    {
      "cell_type": "code",
      "source": [
        "r = [1, 2, 3, 4, 6, 5, 4]\n",
        "print(r) # Output of the original list\n",
        "r_set = set(r) # Convert the list to a set (to remove duplicates)\n",
        "print(r_set) # Output of the converted set\n",
        "type_of_r_set = type(r_set) # Check the data type of r_set\n",
        "print(type_of_r_set) # Output of the converted set"
      ],
      "metadata": {
        "colab": {
          "base_uri": "https://localhost:8080/"
        },
        "id": "sdYsD2okI5cZ",
        "outputId": "e18f5ada-ee1e-4b0d-e4f5-57ef746ba869"
      },
      "execution_count": null,
      "outputs": [
        {
          "output_type": "stream",
          "name": "stdout",
          "text": [
            "[1, 2, 3, 4, 6, 5, 4]\n",
            "{1, 2, 3, 4, 5, 6}\n",
            "<class 'set'>\n"
          ]
        }
      ]
    },
    {
      "cell_type": "markdown",
      "metadata": {
        "id": "fEkjRhbC0YPy"
      },
      "source": [
        "### Working with Dictionaries"
      ]
    },
    {
      "cell_type": "code",
      "execution_count": null,
      "metadata": {
        "id": "YJCVMWae0YPy",
        "colab": {
          "base_uri": "https://localhost:8080/"
        },
        "outputId": "3d175aad-1ae5-4a1e-fee0-60adb03bbd6d"
      },
      "outputs": [
        {
          "output_type": "stream",
          "name": "stdout",
          "text": [
            "{'first_name': 'Olivia', 'last_name': 'Rodrigo', 'age': 21, 'is_slaying': True}\n",
            "Last Name: Rodrigo\n",
            "First Name: Olivia\n"
          ]
        }
      ],
      "source": [
        "# Creating a dictionary to store information about a person\n",
        "person = {\n",
        "    \"first_name\": \"Olivia\",\n",
        "    \"last_name\": \"Rodrigo\",\n",
        "    \"age\": 21,\n",
        "    \"is_slaying\": True\n",
        "}\n",
        "print(person)  # Outputs the entire dictionary\n",
        "\n",
        "# Accessing a specific value using the key\n",
        "print(\"Last Name:\", person['last_name'])\n",
        "\n",
        "# Using the get() method to retrieve a value safely\n",
        "first_name = person.get(\"first_name\")\n",
        "print(\"First Name:\", first_name)"
      ]
    },
    {
      "cell_type": "markdown",
      "metadata": {
        "id": "v3J7hgZY0YPy"
      },
      "source": [
        "## Conditional Statements (next class)"
      ]
    },
    {
      "cell_type": "markdown",
      "metadata": {
        "id": "w0bTPKnF0YPy"
      },
      "source": [
        "If Statement with String Formatting"
      ]
    },
    {
      "cell_type": "code",
      "execution_count": null,
      "metadata": {
        "id": "YOytItTP0YPy",
        "colab": {
          "base_uri": "https://localhost:8080/"
        },
        "outputId": "4452df43-3f3d-40cd-c878-ccae69ff73db"
      },
      "outputs": [
        {
          "output_type": "stream",
          "name": "stdout",
          "text": [
            "3 is lesser than 5\n"
          ]
        }
      ],
      "source": [
        "a = 5\n",
        "b = 3\n",
        "\n",
        "# If b is less than a, print the formatted string\n",
        "if b < a:\n",
        "    print(\"{1} is lesser than {0}\".format(a, b))\n"
      ]
    },
    {
      "cell_type": "markdown",
      "metadata": {
        "id": "aZtCeATJ0YPz"
      },
      "source": [
        "Else Statement"
      ]
    },
    {
      "cell_type": "code",
      "execution_count": null,
      "metadata": {
        "id": "Gnsnpkpo0YPz",
        "colab": {
          "base_uri": "https://localhost:8080/"
        },
        "outputId": "ff916acb-e6a6-4dd3-fc26-ecedac1ecebc"
      },
      "outputs": [
        {
          "output_type": "stream",
          "name": "stdout",
          "text": [
            "3 is lesser than 5\n"
          ]
        }
      ],
      "source": [
        "a = 5\n",
        "b = 3\n",
        "\n",
        "# If a is less than b, execute the first print statement, otherwise execute the else block\n",
        "if a < b:\n",
        "    print(\"{1} is not lesser than {0}\".format(a, b))\n",
        "else:\n",
        "    print(\"{1} is lesser than {0}\".format(a, b))\n"
      ]
    },
    {
      "cell_type": "markdown",
      "metadata": {
        "id": "7gGzsQcx0YPz"
      },
      "source": [
        "Elif Statement"
      ]
    },
    {
      "cell_type": "code",
      "execution_count": null,
      "metadata": {
        "id": "V2zzPm2V0YPz",
        "colab": {
          "base_uri": "https://localhost:8080/"
        },
        "outputId": "14e41932-1e6f-443e-fd99-c44348130e55"
      },
      "outputs": [
        {
          "output_type": "stream",
          "name": "stdout",
          "text": [
            "a and c are equal\n"
          ]
        }
      ],
      "source": [
        "a = 5\n",
        "b = 3\n",
        "c = 5\n",
        "\n",
        "# Check multiple conditions using elif (else-if)\n",
        "if a < c:\n",
        "    print(\"{1} is lesser than {0}\".format(a, c))\n",
        "elif a > c:\n",
        "    print(\"{1} is not lesser than {0}\".format(a, c))\n",
        "else:\n",
        "    print(\"a and c are equal\")\n"
      ]
    },
    {
      "cell_type": "markdown",
      "metadata": {
        "id": "yOXyVdxh0YPz"
      },
      "source": [
        "2. The range() Function\n",
        "Using range() in a Loop"
      ]
    },
    {
      "cell_type": "code",
      "execution_count": null,
      "metadata": {
        "id": "oUhGT5-u0YPz",
        "colab": {
          "base_uri": "https://localhost:8080/"
        },
        "outputId": "666849c0-ef01-4bc7-9925-6b6a6e25493e"
      },
      "outputs": [
        {
          "output_type": "stream",
          "name": "stdout",
          "text": [
            "0\n",
            "1\n",
            "2\n",
            "3\n",
            "4\n"
          ]
        }
      ],
      "source": [
        "# A simple for loop that iterates over a range of numbers from 0 to 4\n",
        "for i in range(5):\n",
        "    print(i)\n"
      ]
    },
    {
      "cell_type": "markdown",
      "metadata": {
        "id": "CufYhBfR0YPz"
      },
      "source": [
        "Creating a List Using range()"
      ]
    },
    {
      "cell_type": "code",
      "execution_count": null,
      "metadata": {
        "id": "1cUShSBH0YPz",
        "colab": {
          "base_uri": "https://localhost:8080/"
        },
        "outputId": "00165bfc-5fcb-4bd0-8575-a29431f7c9c3"
      },
      "outputs": [
        {
          "output_type": "stream",
          "name": "stdout",
          "text": [
            "[0, 1, 2, 3, 4, 5, 6, 7, 8, 9]\n"
          ]
        }
      ],
      "source": [
        "# Creating a list of numbers from 0 to 9\n",
        "listr = list(range(10))\n",
        "print(listr)\n"
      ]
    },
    {
      "cell_type": "markdown",
      "metadata": {
        "id": "3XMFOpZK0YPz"
      },
      "source": [
        "List with Step Argument\n",
        "\n"
      ]
    },
    {
      "cell_type": "code",
      "execution_count": null,
      "metadata": {
        "id": "WA1a-VVe0YPz",
        "colab": {
          "base_uri": "https://localhost:8080/"
        },
        "outputId": "c968db8f-8c0d-44a4-c0cc-11cd3ca07812"
      },
      "outputs": [
        {
          "output_type": "stream",
          "name": "stdout",
          "text": [
            "[5, 4, 3, 2, 1, 0, -1, -2, -3, -4]\n"
          ]
        }
      ],
      "source": [
        "# Creating a list starting from 5, ending at -5, with a step of -1\n",
        "list_s = list(range(5, -5, -1))\n",
        "print(list_s)\n"
      ]
    },
    {
      "cell_type": "markdown",
      "metadata": {
        "id": "FGXwBeXB0YPz"
      },
      "source": [
        "3. Loop Control Statements"
      ]
    },
    {
      "cell_type": "code",
      "execution_count": null,
      "metadata": {
        "id": "nS2GB7vh0YPz",
        "colab": {
          "base_uri": "https://localhost:8080/"
        },
        "outputId": "7192537f-d307-450a-f056-d803594021bb"
      },
      "outputs": [
        {
          "output_type": "stream",
          "name": "stdout",
          "text": [
            "1\n",
            "2\n",
            "3\n",
            "4\n",
            "5\n",
            "6\n",
            "7\n",
            "8\n",
            "9\n",
            "10\n",
            "The while loop ends here\n"
          ]
        }
      ],
      "source": [
        "# Breaks the loop when n becomes greater than 10\n",
        "n = 1\n",
        "while n <= 100:\n",
        "    print(n)\n",
        "    n += 1\n",
        "    if n > 10:\n",
        "        break\n",
        "print(\"The while loop ends here\")\n"
      ]
    },
    {
      "cell_type": "markdown",
      "metadata": {
        "id": "zwNaJQTz0YPz"
      },
      "source": [
        "continue Statement"
      ]
    },
    {
      "cell_type": "code",
      "execution_count": null,
      "metadata": {
        "id": "ZIJIIRSS0YPz",
        "colab": {
          "base_uri": "https://localhost:8080/"
        },
        "outputId": "8a07e75b-375c-40db-9dca-fd29431c0bb9"
      },
      "outputs": [
        {
          "output_type": "stream",
          "name": "stdout",
          "text": [
            "Printed number: 0\n",
            "Printed number: 1\n",
            "Printed number: 2\n",
            "Printed number: 3\n",
            "Printed number: 5\n",
            "Loop ends here\n"
          ]
        }
      ],
      "source": [
        "# Skips the iteration when num equals 4\n",
        "for num in range(6):\n",
        "    if num == 4:\n",
        "        continue\n",
        "    print(\"Printed number: {0}\".format(num))\n",
        "print(\"Loop ends here\")"
      ]
    },
    {
      "cell_type": "markdown",
      "metadata": {
        "id": "LJ4kduRV0YPz"
      },
      "source": [
        "pass Statement"
      ]
    },
    {
      "cell_type": "code",
      "execution_count": null,
      "metadata": {
        "id": "QXb_9S0V0YP0",
        "colab": {
          "base_uri": "https://localhost:8080/"
        },
        "outputId": "6d337653-fe7f-485b-f4bf-cf8f941546d0"
      },
      "outputs": [
        {
          "output_type": "stream",
          "name": "stdout",
          "text": [
            "Printed number is: 0\n",
            "Printed number is: 1\n",
            "Printed number is: 2\n",
            "Printed number is: 3\n",
            "Printed number is: 4\n",
            "Printed number is: 5\n",
            "Out of loop\n"
          ]
        }
      ],
      "source": [
        "# `pass` does nothing, but it allows the loop to continue normally\n",
        "for num in range(6):\n",
        "    if num == 4:\n",
        "        pass\n",
        "    print(\"Printed number is: {0}\".format(num))\n",
        "print(\"Out of loop\")\n"
      ]
    },
    {
      "cell_type": "markdown",
      "metadata": {
        "id": "T6-IOUm20YP4"
      },
      "source": [
        "4. Working with Dictionaries\n",
        "Creating a Dictionary"
      ]
    },
    {
      "cell_type": "code",
      "execution_count": null,
      "metadata": {
        "id": "VqoCdg0z0YP4",
        "colab": {
          "base_uri": "https://localhost:8080/"
        },
        "outputId": "d3b7eeeb-53d6-4a2e-bc3f-b05b097a2ac2"
      },
      "outputs": [
        {
          "output_type": "stream",
          "name": "stdout",
          "text": [
            "{'first_name': 'Richard', 'last_name': 'Anderson', 'age': 45, 'tattoos': True}\n"
          ]
        }
      ],
      "source": [
        "Richard = {\n",
        "    \"first_name\": \"Richard\",\n",
        "    \"last_name\": \"Anderson\",\n",
        "    \"age\": 45,\n",
        "    \"tattoos\": True\n",
        "}\n",
        "print(Richard)\n"
      ]
    },
    {
      "cell_type": "markdown",
      "metadata": {
        "id": "AC6ybA0w0YP4"
      },
      "source": [
        "Getting All Keys and Values"
      ]
    },
    {
      "cell_type": "code",
      "execution_count": null,
      "metadata": {
        "id": "__4K12mg0YP4",
        "colab": {
          "base_uri": "https://localhost:8080/"
        },
        "outputId": "ba735c4d-ceee-45df-ea5b-365ecd78a969"
      },
      "outputs": [
        {
          "output_type": "stream",
          "name": "stdout",
          "text": [
            "dict_keys(['first_name', 'last_name', 'age', 'tattoos'])\n",
            "dict_values(['Richard', 'Anderson', 45, True])\n"
          ]
        }
      ],
      "source": [
        "# Retrieving all keys\n",
        "keys = Richard.keys()\n",
        "print(keys)  # Output: dict_keys(['first_name', 'last_name', 'age', 'tattoos'])\n",
        "\n",
        "# Retrieving all values\n",
        "values = Richard.values()\n",
        "print(values)\n"
      ]
    },
    {
      "cell_type": "markdown",
      "metadata": {
        "id": "zbSZHV1c0YP5"
      },
      "source": [
        "Iterating Through Dictionary Items"
      ]
    },
    {
      "cell_type": "code",
      "execution_count": null,
      "metadata": {
        "id": "P-I18FlJ0YP5",
        "colab": {
          "base_uri": "https://localhost:8080/"
        },
        "outputId": "048925cd-9e28-4bb5-b7b4-71a56f4e3824"
      },
      "outputs": [
        {
          "output_type": "stream",
          "name": "stdout",
          "text": [
            "key = first_name, value = Richard\n",
            "key = last_name, value = Anderson\n",
            "key = age, value = 45\n",
            "key = tattoos, value = True\n"
          ]
        }
      ],
      "source": [
        "# Iterating through keys and values\n",
        "for key, value in Richard.items():\n",
        "    print(f\"key = {key}, value = {value}\")\n"
      ]
    },
    {
      "cell_type": "markdown",
      "metadata": {
        "id": "nDZjj7dQ0YP5"
      },
      "source": [
        "Nested Dictionary Example"
      ]
    },
    {
      "cell_type": "code",
      "execution_count": null,
      "metadata": {
        "id": "myq6oC8H0YP5",
        "colab": {
          "base_uri": "https://localhost:8080/"
        },
        "outputId": "c47c0dc6-85cb-43ed-8a59-c05f425963e8"
      },
      "outputs": [
        {
          "output_type": "stream",
          "name": "stdout",
          "text": [
            "{'name': 'Ryan', 'grade': 12, 'score': {'english': 87, 'math': 90, 'science': 95, 'mother tongue': 55}}\n",
            "dict_keys(['english', 'math', 'science', 'mother tongue'])\n"
          ]
        }
      ],
      "source": [
        "sch_rec = {\n",
        "    \"name\": \"Ryan\",\n",
        "    \"grade\": 12,\n",
        "    \"score\": {\n",
        "        \"english\": 87,\n",
        "        \"math\": 90,\n",
        "        \"science\": 95,\n",
        "        \"mother tongue\": 55\n",
        "    }\n",
        "}\n",
        "print(sch_rec)\n",
        "\n",
        "# Accessing nested keys\n",
        "keys_nested = sch_rec['score'].keys()\n",
        "print(keys_nested)\n"
      ]
    },
    {
      "cell_type": "markdown",
      "metadata": {
        "id": "qFwEZhNb0YP5"
      },
      "source": [
        "5. Functions\n",
        "Defining and Calling a Function"
      ]
    },
    {
      "cell_type": "code",
      "execution_count": null,
      "metadata": {
        "id": "SVRYJkNQ0YP5",
        "colab": {
          "base_uri": "https://localhost:8080/"
        },
        "outputId": "5bc84d8b-5bdc-4d74-c6d3-d09b55f21588"
      },
      "outputs": [
        {
          "output_type": "stream",
          "name": "stdout",
          "text": [
            "12\n"
          ]
        }
      ],
      "source": [
        "# Define a simple addition function\n",
        "def addition(num1, num2):\n",
        "    total = num1 + num2\n",
        "    return total\n",
        "\n",
        "# Call the function\n",
        "result = addition(5, 7)\n",
        "print(result)\n"
      ]
    },
    {
      "cell_type": "markdown",
      "metadata": {
        "id": "KIdydWG_0YP5"
      },
      "source": [
        "Defining a Palindrome Function\n"
      ]
    },
    {
      "cell_type": "code",
      "execution_count": null,
      "metadata": {
        "id": "VI0RbtUi0YP5",
        "colab": {
          "base_uri": "https://localhost:8080/"
        },
        "outputId": "6817d593-3ebd-4eab-bbbb-0e446b204f27"
      },
      "outputs": [
        {
          "output_type": "stream",
          "name": "stdout",
          "text": [
            "True\n"
          ]
        }
      ],
      "source": [
        "# Function to check if a word is a palindrome\n",
        "def is_palindrome(word):\n",
        "    word = word.lower().replace(\" \", \"\")  # Convert to lowercase and remove spaces\n",
        "    return word == word[::-1]  # Check if the word is the same when reversed\n",
        "\n",
        "# Check if \"taco cat\" is a palindrome\n",
        "print(is_palindrome(\"taco cat\"))\n"
      ]
    },
    {
      "cell_type": "markdown",
      "metadata": {
        "id": "FH0YSenB0YP5"
      },
      "source": [
        "Magic 8-Ball Function\n",
        "\n"
      ]
    },
    {
      "cell_type": "code",
      "execution_count": null,
      "metadata": {
        "id": "m4y0jhF_0YP5",
        "colab": {
          "base_uri": "https://localhost:8080/"
        },
        "outputId": "f3c5d782-14ed-46ad-a777-175c34cd27f0"
      },
      "outputs": [
        {
          "output_type": "stream",
          "name": "stdout",
          "text": [
            "Question: Is it worthwhile to join DAC?\n",
            "Magic 8-Ball says: Reply hazy, try again\n"
          ]
        }
      ],
      "source": [
        "import random\n",
        "\n",
        "# Function to simulate a magic 8-ball response\n",
        "def magic_8_ball():\n",
        "    responses = [\n",
        "        \"Yes\", \"No\", \"It is certain\", \"Without a doubt\",\n",
        "        \"Reply hazy, try again\", \"Don't count on it\",\n",
        "        \"My sources say no\", \"Outlook not so good\", \"Very doubtful\",\n",
        "        \"You may rely on it\"\n",
        "    ]\n",
        "    return random.choice(responses)\n",
        "\n",
        "# Example usage\n",
        "question = \"Is it worthwhile to join DAC?\"\n",
        "answer = magic_8_ball()\n",
        "print(f\"Question: {question}\")\n",
        "print(f\"Magic 8-Ball says: {answer}\")\n"
      ]
    }
  ],
  "metadata": {
    "kernelspec": {
      "display_name": "Python 3",
      "language": "python",
      "name": "python3"
    },
    "language_info": {
      "codemirror_mode": {
        "name": "ipython",
        "version": 3
      },
      "file_extension": ".py",
      "mimetype": "text/x-python",
      "name": "python",
      "nbconvert_exporter": "python",
      "pygments_lexer": "ipython3",
      "version": "3.11.5"
    },
    "colab": {
      "provenance": []
    }
  },
  "nbformat": 4,
  "nbformat_minor": 0
}